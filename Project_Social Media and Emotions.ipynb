{
  "nbformat": 4,
  "nbformat_minor": 0,
  "metadata": {
    "colab": {
      "provenance": []
    },
    "kernelspec": {
      "name": "python3",
      "display_name": "Python 3"
    },
    "language_info": {
      "name": "python"
    }
  },
  "cells": [
    {
      "cell_type": "markdown",
      "source": [
        "# **Import Libraries**"
      ],
      "metadata": {
        "id": "WT_OtFtvuhon"
      }
    },
    {
      "cell_type": "code",
      "source": [
        "import pandas as pd\n",
        "import numpy as np\n",
        "import matplotlib.pyplot as plt\n",
        "import seaborn as sns\n",
        "import plotly.express as px\n",
        "\n",
        "import warnings\n",
        "warnings.filterwarnings(\"ignore\")"
      ],
      "metadata": {
        "id": "sHvHJ0CUGUzJ"
      },
      "execution_count": null,
      "outputs": []
    },
    {
      "cell_type": "markdown",
      "source": [
        "# **Load Data**"
      ],
      "metadata": {
        "id": "ssSmIokLur4A"
      }
    },
    {
      "cell_type": "code",
      "execution_count": null,
      "metadata": {
        "colab": {
          "base_uri": "https://localhost:8080/",
          "height": 140
        },
        "id": "M3zAdc7QFkns",
        "outputId": "346fb7ee-54c2-4d72-8246-6baa477bd2b9"
      },
      "outputs": [
        {
          "output_type": "display_data",
          "data": {
            "text/plain": [
              "<IPython.core.display.HTML object>"
            ],
            "text/html": [
              "\n",
              "     <input type=\"file\" id=\"files-1de8f455-e345-4974-ab5c-d3a9b37fbbca\" name=\"files[]\" multiple disabled\n",
              "        style=\"border:none\" />\n",
              "     <output id=\"result-1de8f455-e345-4974-ab5c-d3a9b37fbbca\">\n",
              "      Upload widget is only available when the cell has been executed in the\n",
              "      current browser session. Please rerun this cell to enable.\n",
              "      </output>\n",
              "      <script>// Copyright 2017 Google LLC\n",
              "//\n",
              "// Licensed under the Apache License, Version 2.0 (the \"License\");\n",
              "// you may not use this file except in compliance with the License.\n",
              "// You may obtain a copy of the License at\n",
              "//\n",
              "//      http://www.apache.org/licenses/LICENSE-2.0\n",
              "//\n",
              "// Unless required by applicable law or agreed to in writing, software\n",
              "// distributed under the License is distributed on an \"AS IS\" BASIS,\n",
              "// WITHOUT WARRANTIES OR CONDITIONS OF ANY KIND, either express or implied.\n",
              "// See the License for the specific language governing permissions and\n",
              "// limitations under the License.\n",
              "\n",
              "/**\n",
              " * @fileoverview Helpers for google.colab Python module.\n",
              " */\n",
              "(function(scope) {\n",
              "function span(text, styleAttributes = {}) {\n",
              "  const element = document.createElement('span');\n",
              "  element.textContent = text;\n",
              "  for (const key of Object.keys(styleAttributes)) {\n",
              "    element.style[key] = styleAttributes[key];\n",
              "  }\n",
              "  return element;\n",
              "}\n",
              "\n",
              "// Max number of bytes which will be uploaded at a time.\n",
              "const MAX_PAYLOAD_SIZE = 100 * 1024;\n",
              "\n",
              "function _uploadFiles(inputId, outputId) {\n",
              "  const steps = uploadFilesStep(inputId, outputId);\n",
              "  const outputElement = document.getElementById(outputId);\n",
              "  // Cache steps on the outputElement to make it available for the next call\n",
              "  // to uploadFilesContinue from Python.\n",
              "  outputElement.steps = steps;\n",
              "\n",
              "  return _uploadFilesContinue(outputId);\n",
              "}\n",
              "\n",
              "// This is roughly an async generator (not supported in the browser yet),\n",
              "// where there are multiple asynchronous steps and the Python side is going\n",
              "// to poll for completion of each step.\n",
              "// This uses a Promise to block the python side on completion of each step,\n",
              "// then passes the result of the previous step as the input to the next step.\n",
              "function _uploadFilesContinue(outputId) {\n",
              "  const outputElement = document.getElementById(outputId);\n",
              "  const steps = outputElement.steps;\n",
              "\n",
              "  const next = steps.next(outputElement.lastPromiseValue);\n",
              "  return Promise.resolve(next.value.promise).then((value) => {\n",
              "    // Cache the last promise value to make it available to the next\n",
              "    // step of the generator.\n",
              "    outputElement.lastPromiseValue = value;\n",
              "    return next.value.response;\n",
              "  });\n",
              "}\n",
              "\n",
              "/**\n",
              " * Generator function which is called between each async step of the upload\n",
              " * process.\n",
              " * @param {string} inputId Element ID of the input file picker element.\n",
              " * @param {string} outputId Element ID of the output display.\n",
              " * @return {!Iterable<!Object>} Iterable of next steps.\n",
              " */\n",
              "function* uploadFilesStep(inputId, outputId) {\n",
              "  const inputElement = document.getElementById(inputId);\n",
              "  inputElement.disabled = false;\n",
              "\n",
              "  const outputElement = document.getElementById(outputId);\n",
              "  outputElement.innerHTML = '';\n",
              "\n",
              "  const pickedPromise = new Promise((resolve) => {\n",
              "    inputElement.addEventListener('change', (e) => {\n",
              "      resolve(e.target.files);\n",
              "    });\n",
              "  });\n",
              "\n",
              "  const cancel = document.createElement('button');\n",
              "  inputElement.parentElement.appendChild(cancel);\n",
              "  cancel.textContent = 'Cancel upload';\n",
              "  const cancelPromise = new Promise((resolve) => {\n",
              "    cancel.onclick = () => {\n",
              "      resolve(null);\n",
              "    };\n",
              "  });\n",
              "\n",
              "  // Wait for the user to pick the files.\n",
              "  const files = yield {\n",
              "    promise: Promise.race([pickedPromise, cancelPromise]),\n",
              "    response: {\n",
              "      action: 'starting',\n",
              "    }\n",
              "  };\n",
              "\n",
              "  cancel.remove();\n",
              "\n",
              "  // Disable the input element since further picks are not allowed.\n",
              "  inputElement.disabled = true;\n",
              "\n",
              "  if (!files) {\n",
              "    return {\n",
              "      response: {\n",
              "        action: 'complete',\n",
              "      }\n",
              "    };\n",
              "  }\n",
              "\n",
              "  for (const file of files) {\n",
              "    const li = document.createElement('li');\n",
              "    li.append(span(file.name, {fontWeight: 'bold'}));\n",
              "    li.append(span(\n",
              "        `(${file.type || 'n/a'}) - ${file.size} bytes, ` +\n",
              "        `last modified: ${\n",
              "            file.lastModifiedDate ? file.lastModifiedDate.toLocaleDateString() :\n",
              "                                    'n/a'} - `));\n",
              "    const percent = span('0% done');\n",
              "    li.appendChild(percent);\n",
              "\n",
              "    outputElement.appendChild(li);\n",
              "\n",
              "    const fileDataPromise = new Promise((resolve) => {\n",
              "      const reader = new FileReader();\n",
              "      reader.onload = (e) => {\n",
              "        resolve(e.target.result);\n",
              "      };\n",
              "      reader.readAsArrayBuffer(file);\n",
              "    });\n",
              "    // Wait for the data to be ready.\n",
              "    let fileData = yield {\n",
              "      promise: fileDataPromise,\n",
              "      response: {\n",
              "        action: 'continue',\n",
              "      }\n",
              "    };\n",
              "\n",
              "    // Use a chunked sending to avoid message size limits. See b/62115660.\n",
              "    let position = 0;\n",
              "    do {\n",
              "      const length = Math.min(fileData.byteLength - position, MAX_PAYLOAD_SIZE);\n",
              "      const chunk = new Uint8Array(fileData, position, length);\n",
              "      position += length;\n",
              "\n",
              "      const base64 = btoa(String.fromCharCode.apply(null, chunk));\n",
              "      yield {\n",
              "        response: {\n",
              "          action: 'append',\n",
              "          file: file.name,\n",
              "          data: base64,\n",
              "        },\n",
              "      };\n",
              "\n",
              "      let percentDone = fileData.byteLength === 0 ?\n",
              "          100 :\n",
              "          Math.round((position / fileData.byteLength) * 100);\n",
              "      percent.textContent = `${percentDone}% done`;\n",
              "\n",
              "    } while (position < fileData.byteLength);\n",
              "  }\n",
              "\n",
              "  // All done.\n",
              "  yield {\n",
              "    response: {\n",
              "      action: 'complete',\n",
              "    }\n",
              "  };\n",
              "}\n",
              "\n",
              "scope.google = scope.google || {};\n",
              "scope.google.colab = scope.google.colab || {};\n",
              "scope.google.colab._files = {\n",
              "  _uploadFiles,\n",
              "  _uploadFilesContinue,\n",
              "};\n",
              "})(self);\n",
              "</script> "
            ]
          },
          "metadata": {}
        },
        {
          "output_type": "stream",
          "name": "stdout",
          "text": [
            "Saving Cleaned_val.csv to Cleaned_val (1).csv\n",
            "Saving test.csv to test (1).csv\n",
            "Saving train.csv to train (1).csv\n"
          ]
        }
      ],
      "source": [
        "from google.colab import files\n",
        "uploaded = files.upload()"
      ]
    },
    {
      "cell_type": "code",
      "source": [
        "train_df = pd.read_csv(\"train (1).csv\")\n",
        "test_df = pd.read_csv(\"test (1).csv\")\n",
        "val_df = pd.read_csv(\"Cleaned_val.csv\")"
      ],
      "metadata": {
        "id": "qUiy9hU9GPs1"
      },
      "execution_count": null,
      "outputs": []
    },
    {
      "cell_type": "code",
      "source": [
        "# View Data\n",
        "print(\"Training Data:\")\n",
        "display(train_df.head())\n",
        "print(\"----------------------------------------------------------------------\")\n",
        "print(\"Testing Data:\")\n",
        "display(test_df.head())\n",
        "print(\"----------------------------------------------------------------------\")\n",
        "print(\"Validation Data:\")\n",
        "display(val_df.head())"
      ],
      "metadata": {
        "colab": {
          "base_uri": "https://localhost:8080/",
          "height": 671
        },
        "id": "DQ4lu98cGLB0",
        "outputId": "b904bdd5-fcdc-4e9d-cea2-68be356e8c4d"
      },
      "execution_count": null,
      "outputs": [
        {
          "output_type": "stream",
          "name": "stdout",
          "text": [
            "Training Data:\n"
          ]
        },
        {
          "output_type": "display_data",
          "data": {
            "text/plain": [
              "  User_ID Age      Gender   Platform  Daily_Usage_Time (minutes)  \\\n",
              "0       1  25      Female  Instagram                       120.0   \n",
              "1       2  30        Male    Twitter                        90.0   \n",
              "2       3  22  Non-binary   Facebook                        60.0   \n",
              "3       4  28      Female  Instagram                       200.0   \n",
              "4       5  33        Male   LinkedIn                        45.0   \n",
              "\n",
              "   Posts_Per_Day  Likes_Received_Per_Day  Comments_Received_Per_Day  \\\n",
              "0            3.0                    45.0                       10.0   \n",
              "1            5.0                    20.0                       25.0   \n",
              "2            2.0                    15.0                        5.0   \n",
              "3            8.0                   100.0                       30.0   \n",
              "4            1.0                     5.0                        2.0   \n",
              "\n",
              "   Messages_Sent_Per_Day Dominant_Emotion  \n",
              "0                   12.0        Happiness  \n",
              "1                   30.0            Anger  \n",
              "2                   20.0          Neutral  \n",
              "3                   50.0          Anxiety  \n",
              "4                   10.0          Boredom  "
            ],
            "text/html": [
              "\n",
              "  <div id=\"df-a84de214-79da-4473-9141-c451a9af4d0d\" class=\"colab-df-container\">\n",
              "    <div>\n",
              "<style scoped>\n",
              "    .dataframe tbody tr th:only-of-type {\n",
              "        vertical-align: middle;\n",
              "    }\n",
              "\n",
              "    .dataframe tbody tr th {\n",
              "        vertical-align: top;\n",
              "    }\n",
              "\n",
              "    .dataframe thead th {\n",
              "        text-align: right;\n",
              "    }\n",
              "</style>\n",
              "<table border=\"1\" class=\"dataframe\">\n",
              "  <thead>\n",
              "    <tr style=\"text-align: right;\">\n",
              "      <th></th>\n",
              "      <th>User_ID</th>\n",
              "      <th>Age</th>\n",
              "      <th>Gender</th>\n",
              "      <th>Platform</th>\n",
              "      <th>Daily_Usage_Time (minutes)</th>\n",
              "      <th>Posts_Per_Day</th>\n",
              "      <th>Likes_Received_Per_Day</th>\n",
              "      <th>Comments_Received_Per_Day</th>\n",
              "      <th>Messages_Sent_Per_Day</th>\n",
              "      <th>Dominant_Emotion</th>\n",
              "    </tr>\n",
              "  </thead>\n",
              "  <tbody>\n",
              "    <tr>\n",
              "      <th>0</th>\n",
              "      <td>1</td>\n",
              "      <td>25</td>\n",
              "      <td>Female</td>\n",
              "      <td>Instagram</td>\n",
              "      <td>120.0</td>\n",
              "      <td>3.0</td>\n",
              "      <td>45.0</td>\n",
              "      <td>10.0</td>\n",
              "      <td>12.0</td>\n",
              "      <td>Happiness</td>\n",
              "    </tr>\n",
              "    <tr>\n",
              "      <th>1</th>\n",
              "      <td>2</td>\n",
              "      <td>30</td>\n",
              "      <td>Male</td>\n",
              "      <td>Twitter</td>\n",
              "      <td>90.0</td>\n",
              "      <td>5.0</td>\n",
              "      <td>20.0</td>\n",
              "      <td>25.0</td>\n",
              "      <td>30.0</td>\n",
              "      <td>Anger</td>\n",
              "    </tr>\n",
              "    <tr>\n",
              "      <th>2</th>\n",
              "      <td>3</td>\n",
              "      <td>22</td>\n",
              "      <td>Non-binary</td>\n",
              "      <td>Facebook</td>\n",
              "      <td>60.0</td>\n",
              "      <td>2.0</td>\n",
              "      <td>15.0</td>\n",
              "      <td>5.0</td>\n",
              "      <td>20.0</td>\n",
              "      <td>Neutral</td>\n",
              "    </tr>\n",
              "    <tr>\n",
              "      <th>3</th>\n",
              "      <td>4</td>\n",
              "      <td>28</td>\n",
              "      <td>Female</td>\n",
              "      <td>Instagram</td>\n",
              "      <td>200.0</td>\n",
              "      <td>8.0</td>\n",
              "      <td>100.0</td>\n",
              "      <td>30.0</td>\n",
              "      <td>50.0</td>\n",
              "      <td>Anxiety</td>\n",
              "    </tr>\n",
              "    <tr>\n",
              "      <th>4</th>\n",
              "      <td>5</td>\n",
              "      <td>33</td>\n",
              "      <td>Male</td>\n",
              "      <td>LinkedIn</td>\n",
              "      <td>45.0</td>\n",
              "      <td>1.0</td>\n",
              "      <td>5.0</td>\n",
              "      <td>2.0</td>\n",
              "      <td>10.0</td>\n",
              "      <td>Boredom</td>\n",
              "    </tr>\n",
              "  </tbody>\n",
              "</table>\n",
              "</div>\n",
              "    <div class=\"colab-df-buttons\">\n",
              "\n",
              "  <div class=\"colab-df-container\">\n",
              "    <button class=\"colab-df-convert\" onclick=\"convertToInteractive('df-a84de214-79da-4473-9141-c451a9af4d0d')\"\n",
              "            title=\"Convert this dataframe to an interactive table.\"\n",
              "            style=\"display:none;\">\n",
              "\n",
              "  <svg xmlns=\"http://www.w3.org/2000/svg\" height=\"24px\" viewBox=\"0 -960 960 960\">\n",
              "    <path d=\"M120-120v-720h720v720H120Zm60-500h600v-160H180v160Zm220 220h160v-160H400v160Zm0 220h160v-160H400v160ZM180-400h160v-160H180v160Zm440 0h160v-160H620v160ZM180-180h160v-160H180v160Zm440 0h160v-160H620v160Z\"/>\n",
              "  </svg>\n",
              "    </button>\n",
              "\n",
              "  <style>\n",
              "    .colab-df-container {\n",
              "      display:flex;\n",
              "      gap: 12px;\n",
              "    }\n",
              "\n",
              "    .colab-df-convert {\n",
              "      background-color: #E8F0FE;\n",
              "      border: none;\n",
              "      border-radius: 50%;\n",
              "      cursor: pointer;\n",
              "      display: none;\n",
              "      fill: #1967D2;\n",
              "      height: 32px;\n",
              "      padding: 0 0 0 0;\n",
              "      width: 32px;\n",
              "    }\n",
              "\n",
              "    .colab-df-convert:hover {\n",
              "      background-color: #E2EBFA;\n",
              "      box-shadow: 0px 1px 2px rgba(60, 64, 67, 0.3), 0px 1px 3px 1px rgba(60, 64, 67, 0.15);\n",
              "      fill: #174EA6;\n",
              "    }\n",
              "\n",
              "    .colab-df-buttons div {\n",
              "      margin-bottom: 4px;\n",
              "    }\n",
              "\n",
              "    [theme=dark] .colab-df-convert {\n",
              "      background-color: #3B4455;\n",
              "      fill: #D2E3FC;\n",
              "    }\n",
              "\n",
              "    [theme=dark] .colab-df-convert:hover {\n",
              "      background-color: #434B5C;\n",
              "      box-shadow: 0px 1px 3px 1px rgba(0, 0, 0, 0.15);\n",
              "      filter: drop-shadow(0px 1px 2px rgba(0, 0, 0, 0.3));\n",
              "      fill: #FFFFFF;\n",
              "    }\n",
              "  </style>\n",
              "\n",
              "    <script>\n",
              "      const buttonEl =\n",
              "        document.querySelector('#df-a84de214-79da-4473-9141-c451a9af4d0d button.colab-df-convert');\n",
              "      buttonEl.style.display =\n",
              "        google.colab.kernel.accessAllowed ? 'block' : 'none';\n",
              "\n",
              "      async function convertToInteractive(key) {\n",
              "        const element = document.querySelector('#df-a84de214-79da-4473-9141-c451a9af4d0d');\n",
              "        const dataTable =\n",
              "          await google.colab.kernel.invokeFunction('convertToInteractive',\n",
              "                                                    [key], {});\n",
              "        if (!dataTable) return;\n",
              "\n",
              "        const docLinkHtml = 'Like what you see? Visit the ' +\n",
              "          '<a target=\"_blank\" href=https://colab.research.google.com/notebooks/data_table.ipynb>data table notebook</a>'\n",
              "          + ' to learn more about interactive tables.';\n",
              "        element.innerHTML = '';\n",
              "        dataTable['output_type'] = 'display_data';\n",
              "        await google.colab.output.renderOutput(dataTable, element);\n",
              "        const docLink = document.createElement('div');\n",
              "        docLink.innerHTML = docLinkHtml;\n",
              "        element.appendChild(docLink);\n",
              "      }\n",
              "    </script>\n",
              "  </div>\n",
              "\n",
              "\n",
              "<div id=\"df-79f8d877-5296-4bad-88fa-b74c65c1d9e3\">\n",
              "  <button class=\"colab-df-quickchart\" onclick=\"quickchart('df-79f8d877-5296-4bad-88fa-b74c65c1d9e3')\"\n",
              "            title=\"Suggest charts\"\n",
              "            style=\"display:none;\">\n",
              "\n",
              "<svg xmlns=\"http://www.w3.org/2000/svg\" height=\"24px\"viewBox=\"0 0 24 24\"\n",
              "     width=\"24px\">\n",
              "    <g>\n",
              "        <path d=\"M19 3H5c-1.1 0-2 .9-2 2v14c0 1.1.9 2 2 2h14c1.1 0 2-.9 2-2V5c0-1.1-.9-2-2-2zM9 17H7v-7h2v7zm4 0h-2V7h2v10zm4 0h-2v-4h2v4z\"/>\n",
              "    </g>\n",
              "</svg>\n",
              "  </button>\n",
              "\n",
              "<style>\n",
              "  .colab-df-quickchart {\n",
              "      --bg-color: #E8F0FE;\n",
              "      --fill-color: #1967D2;\n",
              "      --hover-bg-color: #E2EBFA;\n",
              "      --hover-fill-color: #174EA6;\n",
              "      --disabled-fill-color: #AAA;\n",
              "      --disabled-bg-color: #DDD;\n",
              "  }\n",
              "\n",
              "  [theme=dark] .colab-df-quickchart {\n",
              "      --bg-color: #3B4455;\n",
              "      --fill-color: #D2E3FC;\n",
              "      --hover-bg-color: #434B5C;\n",
              "      --hover-fill-color: #FFFFFF;\n",
              "      --disabled-bg-color: #3B4455;\n",
              "      --disabled-fill-color: #666;\n",
              "  }\n",
              "\n",
              "  .colab-df-quickchart {\n",
              "    background-color: var(--bg-color);\n",
              "    border: none;\n",
              "    border-radius: 50%;\n",
              "    cursor: pointer;\n",
              "    display: none;\n",
              "    fill: var(--fill-color);\n",
              "    height: 32px;\n",
              "    padding: 0;\n",
              "    width: 32px;\n",
              "  }\n",
              "\n",
              "  .colab-df-quickchart:hover {\n",
              "    background-color: var(--hover-bg-color);\n",
              "    box-shadow: 0 1px 2px rgba(60, 64, 67, 0.3), 0 1px 3px 1px rgba(60, 64, 67, 0.15);\n",
              "    fill: var(--button-hover-fill-color);\n",
              "  }\n",
              "\n",
              "  .colab-df-quickchart-complete:disabled,\n",
              "  .colab-df-quickchart-complete:disabled:hover {\n",
              "    background-color: var(--disabled-bg-color);\n",
              "    fill: var(--disabled-fill-color);\n",
              "    box-shadow: none;\n",
              "  }\n",
              "\n",
              "  .colab-df-spinner {\n",
              "    border: 2px solid var(--fill-color);\n",
              "    border-color: transparent;\n",
              "    border-bottom-color: var(--fill-color);\n",
              "    animation:\n",
              "      spin 1s steps(1) infinite;\n",
              "  }\n",
              "\n",
              "  @keyframes spin {\n",
              "    0% {\n",
              "      border-color: transparent;\n",
              "      border-bottom-color: var(--fill-color);\n",
              "      border-left-color: var(--fill-color);\n",
              "    }\n",
              "    20% {\n",
              "      border-color: transparent;\n",
              "      border-left-color: var(--fill-color);\n",
              "      border-top-color: var(--fill-color);\n",
              "    }\n",
              "    30% {\n",
              "      border-color: transparent;\n",
              "      border-left-color: var(--fill-color);\n",
              "      border-top-color: var(--fill-color);\n",
              "      border-right-color: var(--fill-color);\n",
              "    }\n",
              "    40% {\n",
              "      border-color: transparent;\n",
              "      border-right-color: var(--fill-color);\n",
              "      border-top-color: var(--fill-color);\n",
              "    }\n",
              "    60% {\n",
              "      border-color: transparent;\n",
              "      border-right-color: var(--fill-color);\n",
              "    }\n",
              "    80% {\n",
              "      border-color: transparent;\n",
              "      border-right-color: var(--fill-color);\n",
              "      border-bottom-color: var(--fill-color);\n",
              "    }\n",
              "    90% {\n",
              "      border-color: transparent;\n",
              "      border-bottom-color: var(--fill-color);\n",
              "    }\n",
              "  }\n",
              "</style>\n",
              "\n",
              "  <script>\n",
              "    async function quickchart(key) {\n",
              "      const quickchartButtonEl =\n",
              "        document.querySelector('#' + key + ' button');\n",
              "      quickchartButtonEl.disabled = true;  // To prevent multiple clicks.\n",
              "      quickchartButtonEl.classList.add('colab-df-spinner');\n",
              "      try {\n",
              "        const charts = await google.colab.kernel.invokeFunction(\n",
              "            'suggestCharts', [key], {});\n",
              "      } catch (error) {\n",
              "        console.error('Error during call to suggestCharts:', error);\n",
              "      }\n",
              "      quickchartButtonEl.classList.remove('colab-df-spinner');\n",
              "      quickchartButtonEl.classList.add('colab-df-quickchart-complete');\n",
              "    }\n",
              "    (() => {\n",
              "      let quickchartButtonEl =\n",
              "        document.querySelector('#df-79f8d877-5296-4bad-88fa-b74c65c1d9e3 button');\n",
              "      quickchartButtonEl.style.display =\n",
              "        google.colab.kernel.accessAllowed ? 'block' : 'none';\n",
              "    })();\n",
              "  </script>\n",
              "</div>\n",
              "\n",
              "    </div>\n",
              "  </div>\n"
            ],
            "application/vnd.google.colaboratory.intrinsic+json": {
              "type": "dataframe",
              "summary": "{\n  \"name\": \"display(val_df\",\n  \"rows\": 5,\n  \"fields\": [\n    {\n      \"column\": \"User_ID\",\n      \"properties\": {\n        \"dtype\": \"string\",\n        \"num_unique_values\": 5,\n        \"samples\": [\n          \"2\",\n          \"5\",\n          \"3\"\n        ],\n        \"semantic_type\": \"\",\n        \"description\": \"\"\n      }\n    },\n    {\n      \"column\": \"Age\",\n      \"properties\": {\n        \"dtype\": \"string\",\n        \"num_unique_values\": 5,\n        \"samples\": [\n          \"30\",\n          \"33\",\n          \"22\"\n        ],\n        \"semantic_type\": \"\",\n        \"description\": \"\"\n      }\n    },\n    {\n      \"column\": \"Gender\",\n      \"properties\": {\n        \"dtype\": \"string\",\n        \"num_unique_values\": 3,\n        \"samples\": [\n          \"Female\",\n          \"Male\",\n          \"Non-binary\"\n        ],\n        \"semantic_type\": \"\",\n        \"description\": \"\"\n      }\n    },\n    {\n      \"column\": \"Platform\",\n      \"properties\": {\n        \"dtype\": \"string\",\n        \"num_unique_values\": 4,\n        \"samples\": [\n          \"Twitter\",\n          \"LinkedIn\",\n          \"Instagram\"\n        ],\n        \"semantic_type\": \"\",\n        \"description\": \"\"\n      }\n    },\n    {\n      \"column\": \"Daily_Usage_Time (minutes)\",\n      \"properties\": {\n        \"dtype\": \"number\",\n        \"std\": 61.40032573203501,\n        \"min\": 45.0,\n        \"max\": 200.0,\n        \"num_unique_values\": 5,\n        \"samples\": [\n          90.0,\n          45.0,\n          60.0\n        ],\n        \"semantic_type\": \"\",\n        \"description\": \"\"\n      }\n    },\n    {\n      \"column\": \"Posts_Per_Day\",\n      \"properties\": {\n        \"dtype\": \"number\",\n        \"std\": 2.7748873851023217,\n        \"min\": 1.0,\n        \"max\": 8.0,\n        \"num_unique_values\": 5,\n        \"samples\": [\n          5.0,\n          1.0,\n          2.0\n        ],\n        \"semantic_type\": \"\",\n        \"description\": \"\"\n      }\n    },\n    {\n      \"column\": \"Likes_Received_Per_Day\",\n      \"properties\": {\n        \"dtype\": \"number\",\n        \"std\": 38.17721833764215,\n        \"min\": 5.0,\n        \"max\": 100.0,\n        \"num_unique_values\": 5,\n        \"samples\": [\n          20.0,\n          5.0,\n          15.0\n        ],\n        \"semantic_type\": \"\",\n        \"description\": \"\"\n      }\n    },\n    {\n      \"column\": \"Comments_Received_Per_Day\",\n      \"properties\": {\n        \"dtype\": \"number\",\n        \"std\": 12.421755109484328,\n        \"min\": 2.0,\n        \"max\": 30.0,\n        \"num_unique_values\": 5,\n        \"samples\": [\n          25.0,\n          2.0,\n          5.0\n        ],\n        \"semantic_type\": \"\",\n        \"description\": \"\"\n      }\n    },\n    {\n      \"column\": \"Messages_Sent_Per_Day\",\n      \"properties\": {\n        \"dtype\": \"number\",\n        \"std\": 16.334013591276335,\n        \"min\": 10.0,\n        \"max\": 50.0,\n        \"num_unique_values\": 5,\n        \"samples\": [\n          30.0,\n          10.0,\n          20.0\n        ],\n        \"semantic_type\": \"\",\n        \"description\": \"\"\n      }\n    },\n    {\n      \"column\": \"Dominant_Emotion\",\n      \"properties\": {\n        \"dtype\": \"string\",\n        \"num_unique_values\": 5,\n        \"samples\": [\n          \"Anger\",\n          \"Boredom\",\n          \"Neutral\"\n        ],\n        \"semantic_type\": \"\",\n        \"description\": \"\"\n      }\n    }\n  ]\n}"
            }
          },
          "metadata": {}
        },
        {
          "output_type": "stream",
          "name": "stdout",
          "text": [
            "----------------------------------------------------------------------\n",
            "Testing Data:\n"
          ]
        },
        {
          "output_type": "display_data",
          "data": {
            "text/plain": [
              "   User_ID Age      Gender  Platform  Daily_Usage_Time (minutes)  \\\n",
              "0      500  27      Female  Snapchat                         120   \n",
              "1      488  21  Non-binary  Snapchat                          60   \n",
              "2      776  28  Non-binary  Snapchat                         115   \n",
              "3      869  27        Male  Telegram                         105   \n",
              "4      573  21  Non-binary  Facebook                          55   \n",
              "\n",
              "   Posts_Per_Day  Likes_Received_Per_Day  Comments_Received_Per_Day  \\\n",
              "0              4                      40                         18   \n",
              "1              1                      18                          7   \n",
              "2              3                      38                         18   \n",
              "3              3                      48                         20   \n",
              "4              3                      17                          7   \n",
              "\n",
              "   Messages_Sent_Per_Day Dominant_Emotion  \n",
              "0                     22          Neutral  \n",
              "1                     12          Neutral  \n",
              "2                     27          Anxiety  \n",
              "3                     28          Anxiety  \n",
              "4                     12          Neutral  "
            ],
            "text/html": [
              "\n",
              "  <div id=\"df-3b2475e8-fa40-4253-8ac7-5efb4dbaa7ba\" class=\"colab-df-container\">\n",
              "    <div>\n",
              "<style scoped>\n",
              "    .dataframe tbody tr th:only-of-type {\n",
              "        vertical-align: middle;\n",
              "    }\n",
              "\n",
              "    .dataframe tbody tr th {\n",
              "        vertical-align: top;\n",
              "    }\n",
              "\n",
              "    .dataframe thead th {\n",
              "        text-align: right;\n",
              "    }\n",
              "</style>\n",
              "<table border=\"1\" class=\"dataframe\">\n",
              "  <thead>\n",
              "    <tr style=\"text-align: right;\">\n",
              "      <th></th>\n",
              "      <th>User_ID</th>\n",
              "      <th>Age</th>\n",
              "      <th>Gender</th>\n",
              "      <th>Platform</th>\n",
              "      <th>Daily_Usage_Time (minutes)</th>\n",
              "      <th>Posts_Per_Day</th>\n",
              "      <th>Likes_Received_Per_Day</th>\n",
              "      <th>Comments_Received_Per_Day</th>\n",
              "      <th>Messages_Sent_Per_Day</th>\n",
              "      <th>Dominant_Emotion</th>\n",
              "    </tr>\n",
              "  </thead>\n",
              "  <tbody>\n",
              "    <tr>\n",
              "      <th>0</th>\n",
              "      <td>500</td>\n",
              "      <td>27</td>\n",
              "      <td>Female</td>\n",
              "      <td>Snapchat</td>\n",
              "      <td>120</td>\n",
              "      <td>4</td>\n",
              "      <td>40</td>\n",
              "      <td>18</td>\n",
              "      <td>22</td>\n",
              "      <td>Neutral</td>\n",
              "    </tr>\n",
              "    <tr>\n",
              "      <th>1</th>\n",
              "      <td>488</td>\n",
              "      <td>21</td>\n",
              "      <td>Non-binary</td>\n",
              "      <td>Snapchat</td>\n",
              "      <td>60</td>\n",
              "      <td>1</td>\n",
              "      <td>18</td>\n",
              "      <td>7</td>\n",
              "      <td>12</td>\n",
              "      <td>Neutral</td>\n",
              "    </tr>\n",
              "    <tr>\n",
              "      <th>2</th>\n",
              "      <td>776</td>\n",
              "      <td>28</td>\n",
              "      <td>Non-binary</td>\n",
              "      <td>Snapchat</td>\n",
              "      <td>115</td>\n",
              "      <td>3</td>\n",
              "      <td>38</td>\n",
              "      <td>18</td>\n",
              "      <td>27</td>\n",
              "      <td>Anxiety</td>\n",
              "    </tr>\n",
              "    <tr>\n",
              "      <th>3</th>\n",
              "      <td>869</td>\n",
              "      <td>27</td>\n",
              "      <td>Male</td>\n",
              "      <td>Telegram</td>\n",
              "      <td>105</td>\n",
              "      <td>3</td>\n",
              "      <td>48</td>\n",
              "      <td>20</td>\n",
              "      <td>28</td>\n",
              "      <td>Anxiety</td>\n",
              "    </tr>\n",
              "    <tr>\n",
              "      <th>4</th>\n",
              "      <td>573</td>\n",
              "      <td>21</td>\n",
              "      <td>Non-binary</td>\n",
              "      <td>Facebook</td>\n",
              "      <td>55</td>\n",
              "      <td>3</td>\n",
              "      <td>17</td>\n",
              "      <td>7</td>\n",
              "      <td>12</td>\n",
              "      <td>Neutral</td>\n",
              "    </tr>\n",
              "  </tbody>\n",
              "</table>\n",
              "</div>\n",
              "    <div class=\"colab-df-buttons\">\n",
              "\n",
              "  <div class=\"colab-df-container\">\n",
              "    <button class=\"colab-df-convert\" onclick=\"convertToInteractive('df-3b2475e8-fa40-4253-8ac7-5efb4dbaa7ba')\"\n",
              "            title=\"Convert this dataframe to an interactive table.\"\n",
              "            style=\"display:none;\">\n",
              "\n",
              "  <svg xmlns=\"http://www.w3.org/2000/svg\" height=\"24px\" viewBox=\"0 -960 960 960\">\n",
              "    <path d=\"M120-120v-720h720v720H120Zm60-500h600v-160H180v160Zm220 220h160v-160H400v160Zm0 220h160v-160H400v160ZM180-400h160v-160H180v160Zm440 0h160v-160H620v160ZM180-180h160v-160H180v160Zm440 0h160v-160H620v160Z\"/>\n",
              "  </svg>\n",
              "    </button>\n",
              "\n",
              "  <style>\n",
              "    .colab-df-container {\n",
              "      display:flex;\n",
              "      gap: 12px;\n",
              "    }\n",
              "\n",
              "    .colab-df-convert {\n",
              "      background-color: #E8F0FE;\n",
              "      border: none;\n",
              "      border-radius: 50%;\n",
              "      cursor: pointer;\n",
              "      display: none;\n",
              "      fill: #1967D2;\n",
              "      height: 32px;\n",
              "      padding: 0 0 0 0;\n",
              "      width: 32px;\n",
              "    }\n",
              "\n",
              "    .colab-df-convert:hover {\n",
              "      background-color: #E2EBFA;\n",
              "      box-shadow: 0px 1px 2px rgba(60, 64, 67, 0.3), 0px 1px 3px 1px rgba(60, 64, 67, 0.15);\n",
              "      fill: #174EA6;\n",
              "    }\n",
              "\n",
              "    .colab-df-buttons div {\n",
              "      margin-bottom: 4px;\n",
              "    }\n",
              "\n",
              "    [theme=dark] .colab-df-convert {\n",
              "      background-color: #3B4455;\n",
              "      fill: #D2E3FC;\n",
              "    }\n",
              "\n",
              "    [theme=dark] .colab-df-convert:hover {\n",
              "      background-color: #434B5C;\n",
              "      box-shadow: 0px 1px 3px 1px rgba(0, 0, 0, 0.15);\n",
              "      filter: drop-shadow(0px 1px 2px rgba(0, 0, 0, 0.3));\n",
              "      fill: #FFFFFF;\n",
              "    }\n",
              "  </style>\n",
              "\n",
              "    <script>\n",
              "      const buttonEl =\n",
              "        document.querySelector('#df-3b2475e8-fa40-4253-8ac7-5efb4dbaa7ba button.colab-df-convert');\n",
              "      buttonEl.style.display =\n",
              "        google.colab.kernel.accessAllowed ? 'block' : 'none';\n",
              "\n",
              "      async function convertToInteractive(key) {\n",
              "        const element = document.querySelector('#df-3b2475e8-fa40-4253-8ac7-5efb4dbaa7ba');\n",
              "        const dataTable =\n",
              "          await google.colab.kernel.invokeFunction('convertToInteractive',\n",
              "                                                    [key], {});\n",
              "        if (!dataTable) return;\n",
              "\n",
              "        const docLinkHtml = 'Like what you see? Visit the ' +\n",
              "          '<a target=\"_blank\" href=https://colab.research.google.com/notebooks/data_table.ipynb>data table notebook</a>'\n",
              "          + ' to learn more about interactive tables.';\n",
              "        element.innerHTML = '';\n",
              "        dataTable['output_type'] = 'display_data';\n",
              "        await google.colab.output.renderOutput(dataTable, element);\n",
              "        const docLink = document.createElement('div');\n",
              "        docLink.innerHTML = docLinkHtml;\n",
              "        element.appendChild(docLink);\n",
              "      }\n",
              "    </script>\n",
              "  </div>\n",
              "\n",
              "\n",
              "<div id=\"df-0d70ac78-fa6b-49a0-b498-256791f40a9a\">\n",
              "  <button class=\"colab-df-quickchart\" onclick=\"quickchart('df-0d70ac78-fa6b-49a0-b498-256791f40a9a')\"\n",
              "            title=\"Suggest charts\"\n",
              "            style=\"display:none;\">\n",
              "\n",
              "<svg xmlns=\"http://www.w3.org/2000/svg\" height=\"24px\"viewBox=\"0 0 24 24\"\n",
              "     width=\"24px\">\n",
              "    <g>\n",
              "        <path d=\"M19 3H5c-1.1 0-2 .9-2 2v14c0 1.1.9 2 2 2h14c1.1 0 2-.9 2-2V5c0-1.1-.9-2-2-2zM9 17H7v-7h2v7zm4 0h-2V7h2v10zm4 0h-2v-4h2v4z\"/>\n",
              "    </g>\n",
              "</svg>\n",
              "  </button>\n",
              "\n",
              "<style>\n",
              "  .colab-df-quickchart {\n",
              "      --bg-color: #E8F0FE;\n",
              "      --fill-color: #1967D2;\n",
              "      --hover-bg-color: #E2EBFA;\n",
              "      --hover-fill-color: #174EA6;\n",
              "      --disabled-fill-color: #AAA;\n",
              "      --disabled-bg-color: #DDD;\n",
              "  }\n",
              "\n",
              "  [theme=dark] .colab-df-quickchart {\n",
              "      --bg-color: #3B4455;\n",
              "      --fill-color: #D2E3FC;\n",
              "      --hover-bg-color: #434B5C;\n",
              "      --hover-fill-color: #FFFFFF;\n",
              "      --disabled-bg-color: #3B4455;\n",
              "      --disabled-fill-color: #666;\n",
              "  }\n",
              "\n",
              "  .colab-df-quickchart {\n",
              "    background-color: var(--bg-color);\n",
              "    border: none;\n",
              "    border-radius: 50%;\n",
              "    cursor: pointer;\n",
              "    display: none;\n",
              "    fill: var(--fill-color);\n",
              "    height: 32px;\n",
              "    padding: 0;\n",
              "    width: 32px;\n",
              "  }\n",
              "\n",
              "  .colab-df-quickchart:hover {\n",
              "    background-color: var(--hover-bg-color);\n",
              "    box-shadow: 0 1px 2px rgba(60, 64, 67, 0.3), 0 1px 3px 1px rgba(60, 64, 67, 0.15);\n",
              "    fill: var(--button-hover-fill-color);\n",
              "  }\n",
              "\n",
              "  .colab-df-quickchart-complete:disabled,\n",
              "  .colab-df-quickchart-complete:disabled:hover {\n",
              "    background-color: var(--disabled-bg-color);\n",
              "    fill: var(--disabled-fill-color);\n",
              "    box-shadow: none;\n",
              "  }\n",
              "\n",
              "  .colab-df-spinner {\n",
              "    border: 2px solid var(--fill-color);\n",
              "    border-color: transparent;\n",
              "    border-bottom-color: var(--fill-color);\n",
              "    animation:\n",
              "      spin 1s steps(1) infinite;\n",
              "  }\n",
              "\n",
              "  @keyframes spin {\n",
              "    0% {\n",
              "      border-color: transparent;\n",
              "      border-bottom-color: var(--fill-color);\n",
              "      border-left-color: var(--fill-color);\n",
              "    }\n",
              "    20% {\n",
              "      border-color: transparent;\n",
              "      border-left-color: var(--fill-color);\n",
              "      border-top-color: var(--fill-color);\n",
              "    }\n",
              "    30% {\n",
              "      border-color: transparent;\n",
              "      border-left-color: var(--fill-color);\n",
              "      border-top-color: var(--fill-color);\n",
              "      border-right-color: var(--fill-color);\n",
              "    }\n",
              "    40% {\n",
              "      border-color: transparent;\n",
              "      border-right-color: var(--fill-color);\n",
              "      border-top-color: var(--fill-color);\n",
              "    }\n",
              "    60% {\n",
              "      border-color: transparent;\n",
              "      border-right-color: var(--fill-color);\n",
              "    }\n",
              "    80% {\n",
              "      border-color: transparent;\n",
              "      border-right-color: var(--fill-color);\n",
              "      border-bottom-color: var(--fill-color);\n",
              "    }\n",
              "    90% {\n",
              "      border-color: transparent;\n",
              "      border-bottom-color: var(--fill-color);\n",
              "    }\n",
              "  }\n",
              "</style>\n",
              "\n",
              "  <script>\n",
              "    async function quickchart(key) {\n",
              "      const quickchartButtonEl =\n",
              "        document.querySelector('#' + key + ' button');\n",
              "      quickchartButtonEl.disabled = true;  // To prevent multiple clicks.\n",
              "      quickchartButtonEl.classList.add('colab-df-spinner');\n",
              "      try {\n",
              "        const charts = await google.colab.kernel.invokeFunction(\n",
              "            'suggestCharts', [key], {});\n",
              "      } catch (error) {\n",
              "        console.error('Error during call to suggestCharts:', error);\n",
              "      }\n",
              "      quickchartButtonEl.classList.remove('colab-df-spinner');\n",
              "      quickchartButtonEl.classList.add('colab-df-quickchart-complete');\n",
              "    }\n",
              "    (() => {\n",
              "      let quickchartButtonEl =\n",
              "        document.querySelector('#df-0d70ac78-fa6b-49a0-b498-256791f40a9a button');\n",
              "      quickchartButtonEl.style.display =\n",
              "        google.colab.kernel.accessAllowed ? 'block' : 'none';\n",
              "    })();\n",
              "  </script>\n",
              "</div>\n",
              "\n",
              "    </div>\n",
              "  </div>\n"
            ],
            "application/vnd.google.colaboratory.intrinsic+json": {
              "type": "dataframe",
              "summary": "{\n  \"name\": \"display(val_df\",\n  \"rows\": 5,\n  \"fields\": [\n    {\n      \"column\": \"User_ID\",\n      \"properties\": {\n        \"dtype\": \"number\",\n        \"std\": 171,\n        \"min\": 488,\n        \"max\": 869,\n        \"num_unique_values\": 5,\n        \"samples\": [\n          488,\n          573,\n          776\n        ],\n        \"semantic_type\": \"\",\n        \"description\": \"\"\n      }\n    },\n    {\n      \"column\": \"Age\",\n      \"properties\": {\n        \"dtype\": \"string\",\n        \"num_unique_values\": 3,\n        \"samples\": [\n          \"27\",\n          \"21\",\n          \"28\"\n        ],\n        \"semantic_type\": \"\",\n        \"description\": \"\"\n      }\n    },\n    {\n      \"column\": \"Gender\",\n      \"properties\": {\n        \"dtype\": \"string\",\n        \"num_unique_values\": 3,\n        \"samples\": [\n          \"Female\",\n          \"Non-binary\",\n          \"Male\"\n        ],\n        \"semantic_type\": \"\",\n        \"description\": \"\"\n      }\n    },\n    {\n      \"column\": \"Platform\",\n      \"properties\": {\n        \"dtype\": \"string\",\n        \"num_unique_values\": 3,\n        \"samples\": [\n          \"Snapchat\",\n          \"Telegram\",\n          \"Facebook\"\n        ],\n        \"semantic_type\": \"\",\n        \"description\": \"\"\n      }\n    },\n    {\n      \"column\": \"Daily_Usage_Time (minutes)\",\n      \"properties\": {\n        \"dtype\": \"number\",\n        \"std\": 31,\n        \"min\": 55,\n        \"max\": 120,\n        \"num_unique_values\": 5,\n        \"samples\": [\n          60,\n          55,\n          115\n        ],\n        \"semantic_type\": \"\",\n        \"description\": \"\"\n      }\n    },\n    {\n      \"column\": \"Posts_Per_Day\",\n      \"properties\": {\n        \"dtype\": \"number\",\n        \"std\": 1,\n        \"min\": 1,\n        \"max\": 4,\n        \"num_unique_values\": 3,\n        \"samples\": [\n          4,\n          1,\n          3\n        ],\n        \"semantic_type\": \"\",\n        \"description\": \"\"\n      }\n    },\n    {\n      \"column\": \"Likes_Received_Per_Day\",\n      \"properties\": {\n        \"dtype\": \"number\",\n        \"std\": 13,\n        \"min\": 17,\n        \"max\": 48,\n        \"num_unique_values\": 5,\n        \"samples\": [\n          18,\n          17,\n          38\n        ],\n        \"semantic_type\": \"\",\n        \"description\": \"\"\n      }\n    },\n    {\n      \"column\": \"Comments_Received_Per_Day\",\n      \"properties\": {\n        \"dtype\": \"number\",\n        \"std\": 6,\n        \"min\": 7,\n        \"max\": 20,\n        \"num_unique_values\": 3,\n        \"samples\": [\n          18,\n          7,\n          20\n        ],\n        \"semantic_type\": \"\",\n        \"description\": \"\"\n      }\n    },\n    {\n      \"column\": \"Messages_Sent_Per_Day\",\n      \"properties\": {\n        \"dtype\": \"number\",\n        \"std\": 7,\n        \"min\": 12,\n        \"max\": 28,\n        \"num_unique_values\": 4,\n        \"samples\": [\n          12,\n          28,\n          22\n        ],\n        \"semantic_type\": \"\",\n        \"description\": \"\"\n      }\n    },\n    {\n      \"column\": \"Dominant_Emotion\",\n      \"properties\": {\n        \"dtype\": \"category\",\n        \"num_unique_values\": 2,\n        \"samples\": [\n          \"Anxiety\",\n          \"Neutral\"\n        ],\n        \"semantic_type\": \"\",\n        \"description\": \"\"\n      }\n    }\n  ]\n}"
            }
          },
          "metadata": {}
        },
        {
          "output_type": "stream",
          "name": "stdout",
          "text": [
            "----------------------------------------------------------------------\n",
            "Validation Data:\n"
          ]
        },
        {
          "output_type": "display_data",
          "data": {
            "text/plain": [
              "   User_ID Age      Gender   Platform  Daily_Usage_Time (minutes)  \\\n",
              "0       10  31        Male  Instagram                         170   \n",
              "1      877  32      Female  Instagram                         155   \n",
              "2      230  26  Non-binary   Facebook                          45   \n",
              "3      876  28  Non-binary   Snapchat                         115   \n",
              "4      376  28  Non-binary   Snapchat                         115   \n",
              "\n",
              "   Posts_Per_Day  Likes_Received_Per_Day  Comments_Received_Per_Day  \\\n",
              "0              5                      80                         20   \n",
              "1              6                      75                         25   \n",
              "2              1                       8                          4   \n",
              "3              3                      38                         18   \n",
              "4              3                      38                         18   \n",
              "\n",
              "  Messages_Sent_Per_Day Dominant_Emotion  \n",
              "0                    35        Happiness  \n",
              "1                    38        Happiness  \n",
              "2                    12          Sadness  \n",
              "3                    27          Anxiety  \n",
              "4                    27          Anxiety  "
            ],
            "text/html": [
              "\n",
              "  <div id=\"df-d023d7d7-2d46-4bad-85b9-1c16f6a9cdf4\" class=\"colab-df-container\">\n",
              "    <div>\n",
              "<style scoped>\n",
              "    .dataframe tbody tr th:only-of-type {\n",
              "        vertical-align: middle;\n",
              "    }\n",
              "\n",
              "    .dataframe tbody tr th {\n",
              "        vertical-align: top;\n",
              "    }\n",
              "\n",
              "    .dataframe thead th {\n",
              "        text-align: right;\n",
              "    }\n",
              "</style>\n",
              "<table border=\"1\" class=\"dataframe\">\n",
              "  <thead>\n",
              "    <tr style=\"text-align: right;\">\n",
              "      <th></th>\n",
              "      <th>User_ID</th>\n",
              "      <th>Age</th>\n",
              "      <th>Gender</th>\n",
              "      <th>Platform</th>\n",
              "      <th>Daily_Usage_Time (minutes)</th>\n",
              "      <th>Posts_Per_Day</th>\n",
              "      <th>Likes_Received_Per_Day</th>\n",
              "      <th>Comments_Received_Per_Day</th>\n",
              "      <th>Messages_Sent_Per_Day</th>\n",
              "      <th>Dominant_Emotion</th>\n",
              "    </tr>\n",
              "  </thead>\n",
              "  <tbody>\n",
              "    <tr>\n",
              "      <th>0</th>\n",
              "      <td>10</td>\n",
              "      <td>31</td>\n",
              "      <td>Male</td>\n",
              "      <td>Instagram</td>\n",
              "      <td>170</td>\n",
              "      <td>5</td>\n",
              "      <td>80</td>\n",
              "      <td>20</td>\n",
              "      <td>35</td>\n",
              "      <td>Happiness</td>\n",
              "    </tr>\n",
              "    <tr>\n",
              "      <th>1</th>\n",
              "      <td>877</td>\n",
              "      <td>32</td>\n",
              "      <td>Female</td>\n",
              "      <td>Instagram</td>\n",
              "      <td>155</td>\n",
              "      <td>6</td>\n",
              "      <td>75</td>\n",
              "      <td>25</td>\n",
              "      <td>38</td>\n",
              "      <td>Happiness</td>\n",
              "    </tr>\n",
              "    <tr>\n",
              "      <th>2</th>\n",
              "      <td>230</td>\n",
              "      <td>26</td>\n",
              "      <td>Non-binary</td>\n",
              "      <td>Facebook</td>\n",
              "      <td>45</td>\n",
              "      <td>1</td>\n",
              "      <td>8</td>\n",
              "      <td>4</td>\n",
              "      <td>12</td>\n",
              "      <td>Sadness</td>\n",
              "    </tr>\n",
              "    <tr>\n",
              "      <th>3</th>\n",
              "      <td>876</td>\n",
              "      <td>28</td>\n",
              "      <td>Non-binary</td>\n",
              "      <td>Snapchat</td>\n",
              "      <td>115</td>\n",
              "      <td>3</td>\n",
              "      <td>38</td>\n",
              "      <td>18</td>\n",
              "      <td>27</td>\n",
              "      <td>Anxiety</td>\n",
              "    </tr>\n",
              "    <tr>\n",
              "      <th>4</th>\n",
              "      <td>376</td>\n",
              "      <td>28</td>\n",
              "      <td>Non-binary</td>\n",
              "      <td>Snapchat</td>\n",
              "      <td>115</td>\n",
              "      <td>3</td>\n",
              "      <td>38</td>\n",
              "      <td>18</td>\n",
              "      <td>27</td>\n",
              "      <td>Anxiety</td>\n",
              "    </tr>\n",
              "  </tbody>\n",
              "</table>\n",
              "</div>\n",
              "    <div class=\"colab-df-buttons\">\n",
              "\n",
              "  <div class=\"colab-df-container\">\n",
              "    <button class=\"colab-df-convert\" onclick=\"convertToInteractive('df-d023d7d7-2d46-4bad-85b9-1c16f6a9cdf4')\"\n",
              "            title=\"Convert this dataframe to an interactive table.\"\n",
              "            style=\"display:none;\">\n",
              "\n",
              "  <svg xmlns=\"http://www.w3.org/2000/svg\" height=\"24px\" viewBox=\"0 -960 960 960\">\n",
              "    <path d=\"M120-120v-720h720v720H120Zm60-500h600v-160H180v160Zm220 220h160v-160H400v160Zm0 220h160v-160H400v160ZM180-400h160v-160H180v160Zm440 0h160v-160H620v160ZM180-180h160v-160H180v160Zm440 0h160v-160H620v160Z\"/>\n",
              "  </svg>\n",
              "    </button>\n",
              "\n",
              "  <style>\n",
              "    .colab-df-container {\n",
              "      display:flex;\n",
              "      gap: 12px;\n",
              "    }\n",
              "\n",
              "    .colab-df-convert {\n",
              "      background-color: #E8F0FE;\n",
              "      border: none;\n",
              "      border-radius: 50%;\n",
              "      cursor: pointer;\n",
              "      display: none;\n",
              "      fill: #1967D2;\n",
              "      height: 32px;\n",
              "      padding: 0 0 0 0;\n",
              "      width: 32px;\n",
              "    }\n",
              "\n",
              "    .colab-df-convert:hover {\n",
              "      background-color: #E2EBFA;\n",
              "      box-shadow: 0px 1px 2px rgba(60, 64, 67, 0.3), 0px 1px 3px 1px rgba(60, 64, 67, 0.15);\n",
              "      fill: #174EA6;\n",
              "    }\n",
              "\n",
              "    .colab-df-buttons div {\n",
              "      margin-bottom: 4px;\n",
              "    }\n",
              "\n",
              "    [theme=dark] .colab-df-convert {\n",
              "      background-color: #3B4455;\n",
              "      fill: #D2E3FC;\n",
              "    }\n",
              "\n",
              "    [theme=dark] .colab-df-convert:hover {\n",
              "      background-color: #434B5C;\n",
              "      box-shadow: 0px 1px 3px 1px rgba(0, 0, 0, 0.15);\n",
              "      filter: drop-shadow(0px 1px 2px rgba(0, 0, 0, 0.3));\n",
              "      fill: #FFFFFF;\n",
              "    }\n",
              "  </style>\n",
              "\n",
              "    <script>\n",
              "      const buttonEl =\n",
              "        document.querySelector('#df-d023d7d7-2d46-4bad-85b9-1c16f6a9cdf4 button.colab-df-convert');\n",
              "      buttonEl.style.display =\n",
              "        google.colab.kernel.accessAllowed ? 'block' : 'none';\n",
              "\n",
              "      async function convertToInteractive(key) {\n",
              "        const element = document.querySelector('#df-d023d7d7-2d46-4bad-85b9-1c16f6a9cdf4');\n",
              "        const dataTable =\n",
              "          await google.colab.kernel.invokeFunction('convertToInteractive',\n",
              "                                                    [key], {});\n",
              "        if (!dataTable) return;\n",
              "\n",
              "        const docLinkHtml = 'Like what you see? Visit the ' +\n",
              "          '<a target=\"_blank\" href=https://colab.research.google.com/notebooks/data_table.ipynb>data table notebook</a>'\n",
              "          + ' to learn more about interactive tables.';\n",
              "        element.innerHTML = '';\n",
              "        dataTable['output_type'] = 'display_data';\n",
              "        await google.colab.output.renderOutput(dataTable, element);\n",
              "        const docLink = document.createElement('div');\n",
              "        docLink.innerHTML = docLinkHtml;\n",
              "        element.appendChild(docLink);\n",
              "      }\n",
              "    </script>\n",
              "  </div>\n",
              "\n",
              "\n",
              "<div id=\"df-5f894bc8-475a-46cb-ae2b-892ace3677fb\">\n",
              "  <button class=\"colab-df-quickchart\" onclick=\"quickchart('df-5f894bc8-475a-46cb-ae2b-892ace3677fb')\"\n",
              "            title=\"Suggest charts\"\n",
              "            style=\"display:none;\">\n",
              "\n",
              "<svg xmlns=\"http://www.w3.org/2000/svg\" height=\"24px\"viewBox=\"0 0 24 24\"\n",
              "     width=\"24px\">\n",
              "    <g>\n",
              "        <path d=\"M19 3H5c-1.1 0-2 .9-2 2v14c0 1.1.9 2 2 2h14c1.1 0 2-.9 2-2V5c0-1.1-.9-2-2-2zM9 17H7v-7h2v7zm4 0h-2V7h2v10zm4 0h-2v-4h2v4z\"/>\n",
              "    </g>\n",
              "</svg>\n",
              "  </button>\n",
              "\n",
              "<style>\n",
              "  .colab-df-quickchart {\n",
              "      --bg-color: #E8F0FE;\n",
              "      --fill-color: #1967D2;\n",
              "      --hover-bg-color: #E2EBFA;\n",
              "      --hover-fill-color: #174EA6;\n",
              "      --disabled-fill-color: #AAA;\n",
              "      --disabled-bg-color: #DDD;\n",
              "  }\n",
              "\n",
              "  [theme=dark] .colab-df-quickchart {\n",
              "      --bg-color: #3B4455;\n",
              "      --fill-color: #D2E3FC;\n",
              "      --hover-bg-color: #434B5C;\n",
              "      --hover-fill-color: #FFFFFF;\n",
              "      --disabled-bg-color: #3B4455;\n",
              "      --disabled-fill-color: #666;\n",
              "  }\n",
              "\n",
              "  .colab-df-quickchart {\n",
              "    background-color: var(--bg-color);\n",
              "    border: none;\n",
              "    border-radius: 50%;\n",
              "    cursor: pointer;\n",
              "    display: none;\n",
              "    fill: var(--fill-color);\n",
              "    height: 32px;\n",
              "    padding: 0;\n",
              "    width: 32px;\n",
              "  }\n",
              "\n",
              "  .colab-df-quickchart:hover {\n",
              "    background-color: var(--hover-bg-color);\n",
              "    box-shadow: 0 1px 2px rgba(60, 64, 67, 0.3), 0 1px 3px 1px rgba(60, 64, 67, 0.15);\n",
              "    fill: var(--button-hover-fill-color);\n",
              "  }\n",
              "\n",
              "  .colab-df-quickchart-complete:disabled,\n",
              "  .colab-df-quickchart-complete:disabled:hover {\n",
              "    background-color: var(--disabled-bg-color);\n",
              "    fill: var(--disabled-fill-color);\n",
              "    box-shadow: none;\n",
              "  }\n",
              "\n",
              "  .colab-df-spinner {\n",
              "    border: 2px solid var(--fill-color);\n",
              "    border-color: transparent;\n",
              "    border-bottom-color: var(--fill-color);\n",
              "    animation:\n",
              "      spin 1s steps(1) infinite;\n",
              "  }\n",
              "\n",
              "  @keyframes spin {\n",
              "    0% {\n",
              "      border-color: transparent;\n",
              "      border-bottom-color: var(--fill-color);\n",
              "      border-left-color: var(--fill-color);\n",
              "    }\n",
              "    20% {\n",
              "      border-color: transparent;\n",
              "      border-left-color: var(--fill-color);\n",
              "      border-top-color: var(--fill-color);\n",
              "    }\n",
              "    30% {\n",
              "      border-color: transparent;\n",
              "      border-left-color: var(--fill-color);\n",
              "      border-top-color: var(--fill-color);\n",
              "      border-right-color: var(--fill-color);\n",
              "    }\n",
              "    40% {\n",
              "      border-color: transparent;\n",
              "      border-right-color: var(--fill-color);\n",
              "      border-top-color: var(--fill-color);\n",
              "    }\n",
              "    60% {\n",
              "      border-color: transparent;\n",
              "      border-right-color: var(--fill-color);\n",
              "    }\n",
              "    80% {\n",
              "      border-color: transparent;\n",
              "      border-right-color: var(--fill-color);\n",
              "      border-bottom-color: var(--fill-color);\n",
              "    }\n",
              "    90% {\n",
              "      border-color: transparent;\n",
              "      border-bottom-color: var(--fill-color);\n",
              "    }\n",
              "  }\n",
              "</style>\n",
              "\n",
              "  <script>\n",
              "    async function quickchart(key) {\n",
              "      const quickchartButtonEl =\n",
              "        document.querySelector('#' + key + ' button');\n",
              "      quickchartButtonEl.disabled = true;  // To prevent multiple clicks.\n",
              "      quickchartButtonEl.classList.add('colab-df-spinner');\n",
              "      try {\n",
              "        const charts = await google.colab.kernel.invokeFunction(\n",
              "            'suggestCharts', [key], {});\n",
              "      } catch (error) {\n",
              "        console.error('Error during call to suggestCharts:', error);\n",
              "      }\n",
              "      quickchartButtonEl.classList.remove('colab-df-spinner');\n",
              "      quickchartButtonEl.classList.add('colab-df-quickchart-complete');\n",
              "    }\n",
              "    (() => {\n",
              "      let quickchartButtonEl =\n",
              "        document.querySelector('#df-5f894bc8-475a-46cb-ae2b-892ace3677fb button');\n",
              "      quickchartButtonEl.style.display =\n",
              "        google.colab.kernel.accessAllowed ? 'block' : 'none';\n",
              "    })();\n",
              "  </script>\n",
              "</div>\n",
              "\n",
              "    </div>\n",
              "  </div>\n"
            ],
            "application/vnd.google.colaboratory.intrinsic+json": {
              "type": "dataframe",
              "summary": "{\n  \"name\": \"display(val_df\",\n  \"rows\": 5,\n  \"fields\": [\n    {\n      \"column\": \"User_ID\",\n      \"properties\": {\n        \"dtype\": \"number\",\n        \"std\": 390,\n        \"min\": 10,\n        \"max\": 877,\n        \"num_unique_values\": 5,\n        \"samples\": [\n          877,\n          376,\n          230\n        ],\n        \"semantic_type\": \"\",\n        \"description\": \"\"\n      }\n    },\n    {\n      \"column\": \"Age\",\n      \"properties\": {\n        \"dtype\": \"string\",\n        \"num_unique_values\": 4,\n        \"samples\": [\n          \"32\",\n          \"28\",\n          \"31\"\n        ],\n        \"semantic_type\": \"\",\n        \"description\": \"\"\n      }\n    },\n    {\n      \"column\": \"Gender\",\n      \"properties\": {\n        \"dtype\": \"string\",\n        \"num_unique_values\": 3,\n        \"samples\": [\n          \"Male\",\n          \"Female\",\n          \"Non-binary\"\n        ],\n        \"semantic_type\": \"\",\n        \"description\": \"\"\n      }\n    },\n    {\n      \"column\": \"Platform\",\n      \"properties\": {\n        \"dtype\": \"string\",\n        \"num_unique_values\": 3,\n        \"samples\": [\n          \"Instagram\",\n          \"Facebook\",\n          \"Snapchat\"\n        ],\n        \"semantic_type\": \"\",\n        \"description\": \"\"\n      }\n    },\n    {\n      \"column\": \"Daily_Usage_Time (minutes)\",\n      \"properties\": {\n        \"dtype\": \"number\",\n        \"std\": 48,\n        \"min\": 45,\n        \"max\": 170,\n        \"num_unique_values\": 4,\n        \"samples\": [\n          155,\n          115,\n          170\n        ],\n        \"semantic_type\": \"\",\n        \"description\": \"\"\n      }\n    },\n    {\n      \"column\": \"Posts_Per_Day\",\n      \"properties\": {\n        \"dtype\": \"number\",\n        \"std\": 1,\n        \"min\": 1,\n        \"max\": 6,\n        \"num_unique_values\": 4,\n        \"samples\": [\n          6,\n          3,\n          5\n        ],\n        \"semantic_type\": \"\",\n        \"description\": \"\"\n      }\n    },\n    {\n      \"column\": \"Likes_Received_Per_Day\",\n      \"properties\": {\n        \"dtype\": \"number\",\n        \"std\": 29,\n        \"min\": 8,\n        \"max\": 80,\n        \"num_unique_values\": 4,\n        \"samples\": [\n          75,\n          38,\n          80\n        ],\n        \"semantic_type\": \"\",\n        \"description\": \"\"\n      }\n    },\n    {\n      \"column\": \"Comments_Received_Per_Day\",\n      \"properties\": {\n        \"dtype\": \"number\",\n        \"std\": 7,\n        \"min\": 4,\n        \"max\": 25,\n        \"num_unique_values\": 4,\n        \"samples\": [\n          25,\n          18,\n          20\n        ],\n        \"semantic_type\": \"\",\n        \"description\": \"\"\n      }\n    },\n    {\n      \"column\": \"Messages_Sent_Per_Day\",\n      \"properties\": {\n        \"dtype\": \"string\",\n        \"num_unique_values\": 4,\n        \"samples\": [\n          \"38\",\n          \"27\",\n          \"35\"\n        ],\n        \"semantic_type\": \"\",\n        \"description\": \"\"\n      }\n    },\n    {\n      \"column\": \"Dominant_Emotion\",\n      \"properties\": {\n        \"dtype\": \"string\",\n        \"num_unique_values\": 3,\n        \"samples\": [\n          \"Happiness\",\n          \"Sadness\",\n          \"Anxiety\"\n        ],\n        \"semantic_type\": \"\",\n        \"description\": \"\"\n      }\n    }\n  ]\n}"
            }
          },
          "metadata": {}
        }
      ]
    },
    {
      "cell_type": "code",
      "source": [
        "train_df.info()"
      ],
      "metadata": {
        "colab": {
          "base_uri": "https://localhost:8080/"
        },
        "id": "8E0z9UZSLAe9",
        "outputId": "4eb111a2-b5ae-42c7-84b8-1f51f9217b29"
      },
      "execution_count": null,
      "outputs": [
        {
          "output_type": "stream",
          "name": "stdout",
          "text": [
            "<class 'pandas.core.frame.DataFrame'>\n",
            "RangeIndex: 1001 entries, 0 to 1000\n",
            "Data columns (total 10 columns):\n",
            " #   Column                      Non-Null Count  Dtype  \n",
            "---  ------                      --------------  -----  \n",
            " 0   User_ID                     1001 non-null   object \n",
            " 1   Age                         1001 non-null   object \n",
            " 2   Gender                      1000 non-null   object \n",
            " 3   Platform                    1000 non-null   object \n",
            " 4   Daily_Usage_Time (minutes)  1000 non-null   float64\n",
            " 5   Posts_Per_Day               1000 non-null   float64\n",
            " 6   Likes_Received_Per_Day      1000 non-null   float64\n",
            " 7   Comments_Received_Per_Day   1000 non-null   float64\n",
            " 8   Messages_Sent_Per_Day       1000 non-null   float64\n",
            " 9   Dominant_Emotion            1000 non-null   object \n",
            "dtypes: float64(5), object(5)\n",
            "memory usage: 78.3+ KB\n"
          ]
        }
      ]
    },
    {
      "cell_type": "code",
      "source": [
        "test_df.info()"
      ],
      "metadata": {
        "colab": {
          "base_uri": "https://localhost:8080/"
        },
        "id": "MuGh06i0u3lM",
        "outputId": "1d21fc5e-e3f4-4a2f-9d7d-3770721fc380"
      },
      "execution_count": null,
      "outputs": [
        {
          "output_type": "stream",
          "name": "stdout",
          "text": [
            "<class 'pandas.core.frame.DataFrame'>\n",
            "RangeIndex: 103 entries, 0 to 102\n",
            "Data columns (total 10 columns):\n",
            " #   Column                      Non-Null Count  Dtype \n",
            "---  ------                      --------------  ----- \n",
            " 0   User_ID                     103 non-null    int64 \n",
            " 1   Age                         103 non-null    object\n",
            " 2   Gender                      103 non-null    object\n",
            " 3   Platform                    103 non-null    object\n",
            " 4   Daily_Usage_Time (minutes)  103 non-null    int64 \n",
            " 5   Posts_Per_Day               103 non-null    int64 \n",
            " 6   Likes_Received_Per_Day      103 non-null    int64 \n",
            " 7   Comments_Received_Per_Day   103 non-null    int64 \n",
            " 8   Messages_Sent_Per_Day       103 non-null    int64 \n",
            " 9   Dominant_Emotion            103 non-null    object\n",
            "dtypes: int64(6), object(4)\n",
            "memory usage: 8.2+ KB\n"
          ]
        }
      ]
    },
    {
      "cell_type": "code",
      "source": [
        "val_df.info()"
      ],
      "metadata": {
        "colab": {
          "base_uri": "https://localhost:8080/"
        },
        "id": "tX9XWq2Gu5dr",
        "outputId": "8d7e03f8-373a-4e6a-82d4-0643f751b3c8"
      },
      "execution_count": null,
      "outputs": [
        {
          "output_type": "stream",
          "name": "stdout",
          "text": [
            "<class 'pandas.core.frame.DataFrame'>\n",
            "RangeIndex: 145 entries, 0 to 144\n",
            "Data columns (total 10 columns):\n",
            " #   Column                      Non-Null Count  Dtype \n",
            "---  ------                      --------------  ----- \n",
            " 0   User_ID                     145 non-null    int64 \n",
            " 1   Age                         145 non-null    object\n",
            " 2   Gender                      145 non-null    object\n",
            " 3   Platform                    145 non-null    object\n",
            " 4   Daily_Usage_Time (minutes)  145 non-null    int64 \n",
            " 5   Posts_Per_Day               145 non-null    int64 \n",
            " 6   Likes_Received_Per_Day      145 non-null    int64 \n",
            " 7   Comments_Received_Per_Day   145 non-null    int64 \n",
            " 8   Messages_Sent_Per_Day       145 non-null    object\n",
            " 9   Dominant_Emotion            144 non-null    object\n",
            "dtypes: int64(5), object(5)\n",
            "memory usage: 11.5+ KB\n"
          ]
        }
      ]
    },
    {
      "cell_type": "code",
      "source": [
        "print(f\"There are {train_df.shape[0]} rows and {train_df.shape[1]} columns in the training data.\")\n",
        "print(f\"There are {test_df.shape[0]} rows and {test_df.shape[1]} columns in the testing data.\")\n",
        "print(f\"There are {val_df.shape[0]} rows and {val_df.shape[1]} columns in the validation data.\")"
      ],
      "metadata": {
        "colab": {
          "base_uri": "https://localhost:8080/"
        },
        "id": "0Iq_uV7CLV3S",
        "outputId": "db8dbae1-8564-4e92-9199-9bb75157f574"
      },
      "execution_count": null,
      "outputs": [
        {
          "output_type": "stream",
          "name": "stdout",
          "text": [
            "There are 1001 rows and 10 columns in the training data.\n",
            "There are 103 rows and 10 columns in the testing data.\n",
            "There are 145 rows and 10 columns in the validation data.\n"
          ]
        }
      ]
    },
    {
      "cell_type": "code",
      "source": [
        "# checking for null values\n",
        "print(\"Training Data:\")\n",
        "display(train_df.isnull().sum())\n",
        "\n",
        "print(\"Testing Data:\")\n",
        "display(test_df.isnull().sum())\n",
        "\n",
        "print(\"Validation Data:\")\n",
        "display(val_df.isnull().sum())"
      ],
      "metadata": {
        "colab": {
          "base_uri": "https://localhost:8080/",
          "height": 1000
        },
        "id": "v6jP8QrJN8gq",
        "outputId": "df545365-d779-4697-c667-51bb403b1f76"
      },
      "execution_count": null,
      "outputs": [
        {
          "output_type": "stream",
          "name": "stdout",
          "text": [
            "Training Data:\n"
          ]
        },
        {
          "output_type": "display_data",
          "data": {
            "text/plain": [
              "User_ID                       0\n",
              "Age                           0\n",
              "Gender                        1\n",
              "Platform                      1\n",
              "Daily_Usage_Time (minutes)    1\n",
              "Posts_Per_Day                 1\n",
              "Likes_Received_Per_Day        1\n",
              "Comments_Received_Per_Day     1\n",
              "Messages_Sent_Per_Day         1\n",
              "Dominant_Emotion              1\n",
              "dtype: int64"
            ],
            "text/html": [
              "<div>\n",
              "<style scoped>\n",
              "    .dataframe tbody tr th:only-of-type {\n",
              "        vertical-align: middle;\n",
              "    }\n",
              "\n",
              "    .dataframe tbody tr th {\n",
              "        vertical-align: top;\n",
              "    }\n",
              "\n",
              "    .dataframe thead th {\n",
              "        text-align: right;\n",
              "    }\n",
              "</style>\n",
              "<table border=\"1\" class=\"dataframe\">\n",
              "  <thead>\n",
              "    <tr style=\"text-align: right;\">\n",
              "      <th></th>\n",
              "      <th>0</th>\n",
              "    </tr>\n",
              "  </thead>\n",
              "  <tbody>\n",
              "    <tr>\n",
              "      <th>User_ID</th>\n",
              "      <td>0</td>\n",
              "    </tr>\n",
              "    <tr>\n",
              "      <th>Age</th>\n",
              "      <td>0</td>\n",
              "    </tr>\n",
              "    <tr>\n",
              "      <th>Gender</th>\n",
              "      <td>1</td>\n",
              "    </tr>\n",
              "    <tr>\n",
              "      <th>Platform</th>\n",
              "      <td>1</td>\n",
              "    </tr>\n",
              "    <tr>\n",
              "      <th>Daily_Usage_Time (minutes)</th>\n",
              "      <td>1</td>\n",
              "    </tr>\n",
              "    <tr>\n",
              "      <th>Posts_Per_Day</th>\n",
              "      <td>1</td>\n",
              "    </tr>\n",
              "    <tr>\n",
              "      <th>Likes_Received_Per_Day</th>\n",
              "      <td>1</td>\n",
              "    </tr>\n",
              "    <tr>\n",
              "      <th>Comments_Received_Per_Day</th>\n",
              "      <td>1</td>\n",
              "    </tr>\n",
              "    <tr>\n",
              "      <th>Messages_Sent_Per_Day</th>\n",
              "      <td>1</td>\n",
              "    </tr>\n",
              "    <tr>\n",
              "      <th>Dominant_Emotion</th>\n",
              "      <td>1</td>\n",
              "    </tr>\n",
              "  </tbody>\n",
              "</table>\n",
              "</div><br><label><b>dtype:</b> int64</label>"
            ]
          },
          "metadata": {}
        },
        {
          "output_type": "stream",
          "name": "stdout",
          "text": [
            "Testing Data:\n"
          ]
        },
        {
          "output_type": "display_data",
          "data": {
            "text/plain": [
              "User_ID                       0\n",
              "Age                           0\n",
              "Gender                        0\n",
              "Platform                      0\n",
              "Daily_Usage_Time (minutes)    0\n",
              "Posts_Per_Day                 0\n",
              "Likes_Received_Per_Day        0\n",
              "Comments_Received_Per_Day     0\n",
              "Messages_Sent_Per_Day         0\n",
              "Dominant_Emotion              0\n",
              "dtype: int64"
            ],
            "text/html": [
              "<div>\n",
              "<style scoped>\n",
              "    .dataframe tbody tr th:only-of-type {\n",
              "        vertical-align: middle;\n",
              "    }\n",
              "\n",
              "    .dataframe tbody tr th {\n",
              "        vertical-align: top;\n",
              "    }\n",
              "\n",
              "    .dataframe thead th {\n",
              "        text-align: right;\n",
              "    }\n",
              "</style>\n",
              "<table border=\"1\" class=\"dataframe\">\n",
              "  <thead>\n",
              "    <tr style=\"text-align: right;\">\n",
              "      <th></th>\n",
              "      <th>0</th>\n",
              "    </tr>\n",
              "  </thead>\n",
              "  <tbody>\n",
              "    <tr>\n",
              "      <th>User_ID</th>\n",
              "      <td>0</td>\n",
              "    </tr>\n",
              "    <tr>\n",
              "      <th>Age</th>\n",
              "      <td>0</td>\n",
              "    </tr>\n",
              "    <tr>\n",
              "      <th>Gender</th>\n",
              "      <td>0</td>\n",
              "    </tr>\n",
              "    <tr>\n",
              "      <th>Platform</th>\n",
              "      <td>0</td>\n",
              "    </tr>\n",
              "    <tr>\n",
              "      <th>Daily_Usage_Time (minutes)</th>\n",
              "      <td>0</td>\n",
              "    </tr>\n",
              "    <tr>\n",
              "      <th>Posts_Per_Day</th>\n",
              "      <td>0</td>\n",
              "    </tr>\n",
              "    <tr>\n",
              "      <th>Likes_Received_Per_Day</th>\n",
              "      <td>0</td>\n",
              "    </tr>\n",
              "    <tr>\n",
              "      <th>Comments_Received_Per_Day</th>\n",
              "      <td>0</td>\n",
              "    </tr>\n",
              "    <tr>\n",
              "      <th>Messages_Sent_Per_Day</th>\n",
              "      <td>0</td>\n",
              "    </tr>\n",
              "    <tr>\n",
              "      <th>Dominant_Emotion</th>\n",
              "      <td>0</td>\n",
              "    </tr>\n",
              "  </tbody>\n",
              "</table>\n",
              "</div><br><label><b>dtype:</b> int64</label>"
            ]
          },
          "metadata": {}
        },
        {
          "output_type": "stream",
          "name": "stdout",
          "text": [
            "Validation Data:\n"
          ]
        },
        {
          "output_type": "display_data",
          "data": {
            "text/plain": [
              "User_ID                       0\n",
              "Age                           0\n",
              "Gender                        0\n",
              "Platform                      0\n",
              "Daily_Usage_Time (minutes)    0\n",
              "Posts_Per_Day                 0\n",
              "Likes_Received_Per_Day        0\n",
              "Comments_Received_Per_Day     0\n",
              "Messages_Sent_Per_Day         0\n",
              "Dominant_Emotion              1\n",
              "dtype: int64"
            ],
            "text/html": [
              "<div>\n",
              "<style scoped>\n",
              "    .dataframe tbody tr th:only-of-type {\n",
              "        vertical-align: middle;\n",
              "    }\n",
              "\n",
              "    .dataframe tbody tr th {\n",
              "        vertical-align: top;\n",
              "    }\n",
              "\n",
              "    .dataframe thead th {\n",
              "        text-align: right;\n",
              "    }\n",
              "</style>\n",
              "<table border=\"1\" class=\"dataframe\">\n",
              "  <thead>\n",
              "    <tr style=\"text-align: right;\">\n",
              "      <th></th>\n",
              "      <th>0</th>\n",
              "    </tr>\n",
              "  </thead>\n",
              "  <tbody>\n",
              "    <tr>\n",
              "      <th>User_ID</th>\n",
              "      <td>0</td>\n",
              "    </tr>\n",
              "    <tr>\n",
              "      <th>Age</th>\n",
              "      <td>0</td>\n",
              "    </tr>\n",
              "    <tr>\n",
              "      <th>Gender</th>\n",
              "      <td>0</td>\n",
              "    </tr>\n",
              "    <tr>\n",
              "      <th>Platform</th>\n",
              "      <td>0</td>\n",
              "    </tr>\n",
              "    <tr>\n",
              "      <th>Daily_Usage_Time (minutes)</th>\n",
              "      <td>0</td>\n",
              "    </tr>\n",
              "    <tr>\n",
              "      <th>Posts_Per_Day</th>\n",
              "      <td>0</td>\n",
              "    </tr>\n",
              "    <tr>\n",
              "      <th>Likes_Received_Per_Day</th>\n",
              "      <td>0</td>\n",
              "    </tr>\n",
              "    <tr>\n",
              "      <th>Comments_Received_Per_Day</th>\n",
              "      <td>0</td>\n",
              "    </tr>\n",
              "    <tr>\n",
              "      <th>Messages_Sent_Per_Day</th>\n",
              "      <td>0</td>\n",
              "    </tr>\n",
              "    <tr>\n",
              "      <th>Dominant_Emotion</th>\n",
              "      <td>1</td>\n",
              "    </tr>\n",
              "  </tbody>\n",
              "</table>\n",
              "</div><br><label><b>dtype:</b> int64</label>"
            ]
          },
          "metadata": {}
        }
      ]
    },
    {
      "cell_type": "markdown",
      "source": [
        "# **EDA**"
      ],
      "metadata": {
        "id": "sylamcezMwGa"
      }
    },
    {
      "cell_type": "code",
      "source": [
        "# list of coloums in the training data\n",
        "train_df.columns"
      ],
      "metadata": {
        "colab": {
          "base_uri": "https://localhost:8080/"
        },
        "id": "k4uZQDGQvoJc",
        "outputId": "f3b0596b-b7c5-4b3b-c119-5247bfd37167"
      },
      "execution_count": null,
      "outputs": [
        {
          "output_type": "execute_result",
          "data": {
            "text/plain": [
              "Index(['User_ID', 'Age', 'Gender', 'Platform', 'Daily_Usage_Time (minutes)',\n",
              "       'Posts_Per_Day', 'Likes_Received_Per_Day', 'Comments_Received_Per_Day',\n",
              "       'Messages_Sent_Per_Day', 'Dominant_Emotion'],\n",
              "      dtype='object')"
            ]
          },
          "metadata": {},
          "execution_count": 13
        }
      ]
    },
    {
      "cell_type": "code",
      "source": [
        "train_df.describe()"
      ],
      "metadata": {
        "colab": {
          "base_uri": "https://localhost:8080/",
          "height": 300
        },
        "id": "0H2IXtKhvwOy",
        "outputId": "a5f822f1-4ac3-4bb7-b028-4a945972ab62"
      },
      "execution_count": null,
      "outputs": [
        {
          "output_type": "execute_result",
          "data": {
            "text/plain": [
              "       Daily_Usage_Time (minutes)  Posts_Per_Day  Likes_Received_Per_Day  \\\n",
              "count                 1000.000000    1000.000000             1000.000000   \n",
              "mean                    95.950000       3.321000               39.898000   \n",
              "std                     38.850442       1.914582               26.393867   \n",
              "min                     40.000000       1.000000                5.000000   \n",
              "25%                     65.000000       2.000000               20.000000   \n",
              "50%                     85.000000       3.000000               33.000000   \n",
              "75%                    120.000000       4.000000               55.000000   \n",
              "max                    200.000000       8.000000              110.000000   \n",
              "\n",
              "       Comments_Received_Per_Day  Messages_Sent_Per_Day  \n",
              "count                1000.000000            1000.000000  \n",
              "mean                   15.611000              22.560000  \n",
              "std                     8.819493               8.516274  \n",
              "min                     2.000000               8.000000  \n",
              "25%                     8.000000              17.750000  \n",
              "50%                    14.000000              22.000000  \n",
              "75%                    22.000000              28.000000  \n",
              "max                    40.000000              50.000000  "
            ],
            "text/html": [
              "\n",
              "  <div id=\"df-7ca7a62c-7b76-4d90-a353-92c2d4386ccd\" class=\"colab-df-container\">\n",
              "    <div>\n",
              "<style scoped>\n",
              "    .dataframe tbody tr th:only-of-type {\n",
              "        vertical-align: middle;\n",
              "    }\n",
              "\n",
              "    .dataframe tbody tr th {\n",
              "        vertical-align: top;\n",
              "    }\n",
              "\n",
              "    .dataframe thead th {\n",
              "        text-align: right;\n",
              "    }\n",
              "</style>\n",
              "<table border=\"1\" class=\"dataframe\">\n",
              "  <thead>\n",
              "    <tr style=\"text-align: right;\">\n",
              "      <th></th>\n",
              "      <th>Daily_Usage_Time (minutes)</th>\n",
              "      <th>Posts_Per_Day</th>\n",
              "      <th>Likes_Received_Per_Day</th>\n",
              "      <th>Comments_Received_Per_Day</th>\n",
              "      <th>Messages_Sent_Per_Day</th>\n",
              "    </tr>\n",
              "  </thead>\n",
              "  <tbody>\n",
              "    <tr>\n",
              "      <th>count</th>\n",
              "      <td>1000.000000</td>\n",
              "      <td>1000.000000</td>\n",
              "      <td>1000.000000</td>\n",
              "      <td>1000.000000</td>\n",
              "      <td>1000.000000</td>\n",
              "    </tr>\n",
              "    <tr>\n",
              "      <th>mean</th>\n",
              "      <td>95.950000</td>\n",
              "      <td>3.321000</td>\n",
              "      <td>39.898000</td>\n",
              "      <td>15.611000</td>\n",
              "      <td>22.560000</td>\n",
              "    </tr>\n",
              "    <tr>\n",
              "      <th>std</th>\n",
              "      <td>38.850442</td>\n",
              "      <td>1.914582</td>\n",
              "      <td>26.393867</td>\n",
              "      <td>8.819493</td>\n",
              "      <td>8.516274</td>\n",
              "    </tr>\n",
              "    <tr>\n",
              "      <th>min</th>\n",
              "      <td>40.000000</td>\n",
              "      <td>1.000000</td>\n",
              "      <td>5.000000</td>\n",
              "      <td>2.000000</td>\n",
              "      <td>8.000000</td>\n",
              "    </tr>\n",
              "    <tr>\n",
              "      <th>25%</th>\n",
              "      <td>65.000000</td>\n",
              "      <td>2.000000</td>\n",
              "      <td>20.000000</td>\n",
              "      <td>8.000000</td>\n",
              "      <td>17.750000</td>\n",
              "    </tr>\n",
              "    <tr>\n",
              "      <th>50%</th>\n",
              "      <td>85.000000</td>\n",
              "      <td>3.000000</td>\n",
              "      <td>33.000000</td>\n",
              "      <td>14.000000</td>\n",
              "      <td>22.000000</td>\n",
              "    </tr>\n",
              "    <tr>\n",
              "      <th>75%</th>\n",
              "      <td>120.000000</td>\n",
              "      <td>4.000000</td>\n",
              "      <td>55.000000</td>\n",
              "      <td>22.000000</td>\n",
              "      <td>28.000000</td>\n",
              "    </tr>\n",
              "    <tr>\n",
              "      <th>max</th>\n",
              "      <td>200.000000</td>\n",
              "      <td>8.000000</td>\n",
              "      <td>110.000000</td>\n",
              "      <td>40.000000</td>\n",
              "      <td>50.000000</td>\n",
              "    </tr>\n",
              "  </tbody>\n",
              "</table>\n",
              "</div>\n",
              "    <div class=\"colab-df-buttons\">\n",
              "\n",
              "  <div class=\"colab-df-container\">\n",
              "    <button class=\"colab-df-convert\" onclick=\"convertToInteractive('df-7ca7a62c-7b76-4d90-a353-92c2d4386ccd')\"\n",
              "            title=\"Convert this dataframe to an interactive table.\"\n",
              "            style=\"display:none;\">\n",
              "\n",
              "  <svg xmlns=\"http://www.w3.org/2000/svg\" height=\"24px\" viewBox=\"0 -960 960 960\">\n",
              "    <path d=\"M120-120v-720h720v720H120Zm60-500h600v-160H180v160Zm220 220h160v-160H400v160Zm0 220h160v-160H400v160ZM180-400h160v-160H180v160Zm440 0h160v-160H620v160ZM180-180h160v-160H180v160Zm440 0h160v-160H620v160Z\"/>\n",
              "  </svg>\n",
              "    </button>\n",
              "\n",
              "  <style>\n",
              "    .colab-df-container {\n",
              "      display:flex;\n",
              "      gap: 12px;\n",
              "    }\n",
              "\n",
              "    .colab-df-convert {\n",
              "      background-color: #E8F0FE;\n",
              "      border: none;\n",
              "      border-radius: 50%;\n",
              "      cursor: pointer;\n",
              "      display: none;\n",
              "      fill: #1967D2;\n",
              "      height: 32px;\n",
              "      padding: 0 0 0 0;\n",
              "      width: 32px;\n",
              "    }\n",
              "\n",
              "    .colab-df-convert:hover {\n",
              "      background-color: #E2EBFA;\n",
              "      box-shadow: 0px 1px 2px rgba(60, 64, 67, 0.3), 0px 1px 3px 1px rgba(60, 64, 67, 0.15);\n",
              "      fill: #174EA6;\n",
              "    }\n",
              "\n",
              "    .colab-df-buttons div {\n",
              "      margin-bottom: 4px;\n",
              "    }\n",
              "\n",
              "    [theme=dark] .colab-df-convert {\n",
              "      background-color: #3B4455;\n",
              "      fill: #D2E3FC;\n",
              "    }\n",
              "\n",
              "    [theme=dark] .colab-df-convert:hover {\n",
              "      background-color: #434B5C;\n",
              "      box-shadow: 0px 1px 3px 1px rgba(0, 0, 0, 0.15);\n",
              "      filter: drop-shadow(0px 1px 2px rgba(0, 0, 0, 0.3));\n",
              "      fill: #FFFFFF;\n",
              "    }\n",
              "  </style>\n",
              "\n",
              "    <script>\n",
              "      const buttonEl =\n",
              "        document.querySelector('#df-7ca7a62c-7b76-4d90-a353-92c2d4386ccd button.colab-df-convert');\n",
              "      buttonEl.style.display =\n",
              "        google.colab.kernel.accessAllowed ? 'block' : 'none';\n",
              "\n",
              "      async function convertToInteractive(key) {\n",
              "        const element = document.querySelector('#df-7ca7a62c-7b76-4d90-a353-92c2d4386ccd');\n",
              "        const dataTable =\n",
              "          await google.colab.kernel.invokeFunction('convertToInteractive',\n",
              "                                                    [key], {});\n",
              "        if (!dataTable) return;\n",
              "\n",
              "        const docLinkHtml = 'Like what you see? Visit the ' +\n",
              "          '<a target=\"_blank\" href=https://colab.research.google.com/notebooks/data_table.ipynb>data table notebook</a>'\n",
              "          + ' to learn more about interactive tables.';\n",
              "        element.innerHTML = '';\n",
              "        dataTable['output_type'] = 'display_data';\n",
              "        await google.colab.output.renderOutput(dataTable, element);\n",
              "        const docLink = document.createElement('div');\n",
              "        docLink.innerHTML = docLinkHtml;\n",
              "        element.appendChild(docLink);\n",
              "      }\n",
              "    </script>\n",
              "  </div>\n",
              "\n",
              "\n",
              "<div id=\"df-51ba9d46-5e8a-43b0-a717-b24b1cff5a2d\">\n",
              "  <button class=\"colab-df-quickchart\" onclick=\"quickchart('df-51ba9d46-5e8a-43b0-a717-b24b1cff5a2d')\"\n",
              "            title=\"Suggest charts\"\n",
              "            style=\"display:none;\">\n",
              "\n",
              "<svg xmlns=\"http://www.w3.org/2000/svg\" height=\"24px\"viewBox=\"0 0 24 24\"\n",
              "     width=\"24px\">\n",
              "    <g>\n",
              "        <path d=\"M19 3H5c-1.1 0-2 .9-2 2v14c0 1.1.9 2 2 2h14c1.1 0 2-.9 2-2V5c0-1.1-.9-2-2-2zM9 17H7v-7h2v7zm4 0h-2V7h2v10zm4 0h-2v-4h2v4z\"/>\n",
              "    </g>\n",
              "</svg>\n",
              "  </button>\n",
              "\n",
              "<style>\n",
              "  .colab-df-quickchart {\n",
              "      --bg-color: #E8F0FE;\n",
              "      --fill-color: #1967D2;\n",
              "      --hover-bg-color: #E2EBFA;\n",
              "      --hover-fill-color: #174EA6;\n",
              "      --disabled-fill-color: #AAA;\n",
              "      --disabled-bg-color: #DDD;\n",
              "  }\n",
              "\n",
              "  [theme=dark] .colab-df-quickchart {\n",
              "      --bg-color: #3B4455;\n",
              "      --fill-color: #D2E3FC;\n",
              "      --hover-bg-color: #434B5C;\n",
              "      --hover-fill-color: #FFFFFF;\n",
              "      --disabled-bg-color: #3B4455;\n",
              "      --disabled-fill-color: #666;\n",
              "  }\n",
              "\n",
              "  .colab-df-quickchart {\n",
              "    background-color: var(--bg-color);\n",
              "    border: none;\n",
              "    border-radius: 50%;\n",
              "    cursor: pointer;\n",
              "    display: none;\n",
              "    fill: var(--fill-color);\n",
              "    height: 32px;\n",
              "    padding: 0;\n",
              "    width: 32px;\n",
              "  }\n",
              "\n",
              "  .colab-df-quickchart:hover {\n",
              "    background-color: var(--hover-bg-color);\n",
              "    box-shadow: 0 1px 2px rgba(60, 64, 67, 0.3), 0 1px 3px 1px rgba(60, 64, 67, 0.15);\n",
              "    fill: var(--button-hover-fill-color);\n",
              "  }\n",
              "\n",
              "  .colab-df-quickchart-complete:disabled,\n",
              "  .colab-df-quickchart-complete:disabled:hover {\n",
              "    background-color: var(--disabled-bg-color);\n",
              "    fill: var(--disabled-fill-color);\n",
              "    box-shadow: none;\n",
              "  }\n",
              "\n",
              "  .colab-df-spinner {\n",
              "    border: 2px solid var(--fill-color);\n",
              "    border-color: transparent;\n",
              "    border-bottom-color: var(--fill-color);\n",
              "    animation:\n",
              "      spin 1s steps(1) infinite;\n",
              "  }\n",
              "\n",
              "  @keyframes spin {\n",
              "    0% {\n",
              "      border-color: transparent;\n",
              "      border-bottom-color: var(--fill-color);\n",
              "      border-left-color: var(--fill-color);\n",
              "    }\n",
              "    20% {\n",
              "      border-color: transparent;\n",
              "      border-left-color: var(--fill-color);\n",
              "      border-top-color: var(--fill-color);\n",
              "    }\n",
              "    30% {\n",
              "      border-color: transparent;\n",
              "      border-left-color: var(--fill-color);\n",
              "      border-top-color: var(--fill-color);\n",
              "      border-right-color: var(--fill-color);\n",
              "    }\n",
              "    40% {\n",
              "      border-color: transparent;\n",
              "      border-right-color: var(--fill-color);\n",
              "      border-top-color: var(--fill-color);\n",
              "    }\n",
              "    60% {\n",
              "      border-color: transparent;\n",
              "      border-right-color: var(--fill-color);\n",
              "    }\n",
              "    80% {\n",
              "      border-color: transparent;\n",
              "      border-right-color: var(--fill-color);\n",
              "      border-bottom-color: var(--fill-color);\n",
              "    }\n",
              "    90% {\n",
              "      border-color: transparent;\n",
              "      border-bottom-color: var(--fill-color);\n",
              "    }\n",
              "  }\n",
              "</style>\n",
              "\n",
              "  <script>\n",
              "    async function quickchart(key) {\n",
              "      const quickchartButtonEl =\n",
              "        document.querySelector('#' + key + ' button');\n",
              "      quickchartButtonEl.disabled = true;  // To prevent multiple clicks.\n",
              "      quickchartButtonEl.classList.add('colab-df-spinner');\n",
              "      try {\n",
              "        const charts = await google.colab.kernel.invokeFunction(\n",
              "            'suggestCharts', [key], {});\n",
              "      } catch (error) {\n",
              "        console.error('Error during call to suggestCharts:', error);\n",
              "      }\n",
              "      quickchartButtonEl.classList.remove('colab-df-spinner');\n",
              "      quickchartButtonEl.classList.add('colab-df-quickchart-complete');\n",
              "    }\n",
              "    (() => {\n",
              "      let quickchartButtonEl =\n",
              "        document.querySelector('#df-51ba9d46-5e8a-43b0-a717-b24b1cff5a2d button');\n",
              "      quickchartButtonEl.style.display =\n",
              "        google.colab.kernel.accessAllowed ? 'block' : 'none';\n",
              "    })();\n",
              "  </script>\n",
              "</div>\n",
              "\n",
              "    </div>\n",
              "  </div>\n"
            ],
            "application/vnd.google.colaboratory.intrinsic+json": {
              "type": "dataframe",
              "summary": "{\n  \"name\": \"train_df\",\n  \"rows\": 8,\n  \"fields\": [\n    {\n      \"column\": \"Daily_Usage_Time (minutes)\",\n      \"properties\": {\n        \"dtype\": \"number\",\n        \"std\": 325.1361687346772,\n        \"min\": 38.850442170673645,\n        \"max\": 1000.0,\n        \"num_unique_values\": 8,\n        \"samples\": [\n          95.95,\n          85.0,\n          1000.0\n        ],\n        \"semantic_type\": \"\",\n        \"description\": \"\"\n      }\n    },\n    {\n      \"column\": \"Posts_Per_Day\",\n      \"properties\": {\n        \"dtype\": \"number\",\n        \"std\": 352.38621519287557,\n        \"min\": 1.0,\n        \"max\": 1000.0,\n        \"num_unique_values\": 8,\n        \"samples\": [\n          3.321,\n          3.0,\n          1000.0\n        ],\n        \"semantic_type\": \"\",\n        \"description\": \"\"\n      }\n    },\n    {\n      \"column\": \"Likes_Received_Per_Day\",\n      \"properties\": {\n        \"dtype\": \"number\",\n        \"std\": 340.4080108053681,\n        \"min\": 5.0,\n        \"max\": 1000.0,\n        \"num_unique_values\": 8,\n        \"samples\": [\n          39.898,\n          33.0,\n          1000.0\n        ],\n        \"semantic_type\": \"\",\n        \"description\": \"\"\n      }\n    },\n    {\n      \"column\": \"Comments_Received_Per_Day\",\n      \"properties\": {\n        \"dtype\": \"number\",\n        \"std\": 348.1661142371464,\n        \"min\": 2.0,\n        \"max\": 1000.0,\n        \"num_unique_values\": 8,\n        \"samples\": [\n          15.611,\n          14.0,\n          1000.0\n        ],\n        \"semantic_type\": \"\",\n        \"description\": \"\"\n      }\n    },\n    {\n      \"column\": \"Messages_Sent_Per_Day\",\n      \"properties\": {\n        \"dtype\": \"number\",\n        \"std\": 345.8834784041119,\n        \"min\": 8.0,\n        \"max\": 1000.0,\n        \"num_unique_values\": 8,\n        \"samples\": [\n          22.56,\n          22.0,\n          1000.0\n        ],\n        \"semantic_type\": \"\",\n        \"description\": \"\"\n      }\n    }\n  ]\n}"
            }
          },
          "metadata": {},
          "execution_count": 14
        }
      ]
    },
    {
      "cell_type": "markdown",
      "source": [
        "Age Distribution"
      ],
      "metadata": {
        "id": "WuLs1zHANGEM"
      }
    },
    {
      "cell_type": "code",
      "source": [
        "train_df['Age'].isnull().sum()"
      ],
      "metadata": {
        "colab": {
          "base_uri": "https://localhost:8080/"
        },
        "id": "BOz4-EW8wC7Y",
        "outputId": "e65ef275-de7a-4cea-abe0-d4c6d6a3b553"
      },
      "execution_count": null,
      "outputs": [
        {
          "output_type": "execute_result",
          "data": {
            "text/plain": [
              "0"
            ]
          },
          "metadata": {},
          "execution_count": 15
        }
      ]
    },
    {
      "cell_type": "code",
      "source": [
        "train_df['Age'].unique()"
      ],
      "metadata": {
        "colab": {
          "base_uri": "https://localhost:8080/"
        },
        "id": "H7Vg-85pwQMu",
        "outputId": "5ff55697-6648-49f9-e24d-57c646cca8ec"
      },
      "execution_count": null,
      "outputs": [
        {
          "output_type": "execute_result",
          "data": {
            "text/plain": [
              "array(['25', '30', '22', '28', '33', '21', '27', '24', '29', '31', '23',\n",
              "       '26', '34', '35', '32', 'Male', 'Female', 'Non-binary',\n",
              "       ' işte mevcut veri kümesini 1000 satıra tamamlıyorum:'],\n",
              "      dtype=object)"
            ]
          },
          "metadata": {},
          "execution_count": 16
        }
      ]
    },
    {
      "cell_type": "code",
      "source": [
        "# Replace non-numeric values with NaN\n",
        "train_df['Age'] = pd.to_numeric(train_df['Age'], errors='coerce')\n",
        "\n",
        "# Handle NaN values\n",
        "train_df['Age'].fillna(train_df['Age'].median(), inplace=True)"
      ],
      "metadata": {
        "id": "nG694JdYMuqQ"
      },
      "execution_count": null,
      "outputs": []
    },
    {
      "cell_type": "code",
      "source": [
        "train_df[\"Age\"].unique()"
      ],
      "metadata": {
        "colab": {
          "base_uri": "https://localhost:8080/"
        },
        "id": "WwxlPEe9wZ1D",
        "outputId": "ebfa7422-711f-4928-c855-ecf0c769ebc7"
      },
      "execution_count": null,
      "outputs": [
        {
          "output_type": "execute_result",
          "data": {
            "text/plain": [
              "array([25., 30., 22., 28., 33., 21., 27., 24., 29., 31., 23., 26., 34.,\n",
              "       35., 32.])"
            ]
          },
          "metadata": {},
          "execution_count": 18
        }
      ]
    },
    {
      "cell_type": "code",
      "source": [
        "import matplotlib.pyplot as plt\n",
        "\n",
        "# Creating a histogram for the 'Age' column with similar styling\n",
        "plt.figure(figsize=(12, 6))\n",
        "plt.hist(train_df['Age'], bins=15, color='blue', edgecolor='black', alpha=0.7)  # Adjusting color and transparency\n",
        "plt.title('Age Distribution', fontsize=16)\n",
        "plt.xlabel('Age', fontsize=14)\n",
        "plt.ylabel('Frequency', fontsize=14)\n",
        "plt.grid(axis='y', alpha=0.3)  # Adding grid only on y-axis with some transparency\n",
        "\n",
        "# Display the histogram\n",
        "plt.show()"
      ],
      "metadata": {
        "colab": {
          "base_uri": "https://localhost:8080/",
          "height": 571
        },
        "id": "Vp0HjWvYNQFJ",
        "outputId": "66d22228-f919-47ed-9cb3-3018723288eb"
      },
      "execution_count": null,
      "outputs": [
        {
          "output_type": "display_data",
          "data": {
            "text/plain": [
              "<Figure size 1200x600 with 1 Axes>"
            ],
            "image/png": "[encoded data removed]"
          },
          "metadata": {}
        }
      ]
    },
    {
      "cell_type": "markdown",
      "source": [
        "Gender Distribution"
      ],
      "metadata": {
        "id": "2tBxrBeNNXqZ"
      }
    },
    {
      "cell_type": "code",
      "source": [
        "train_df['Gender'].unique()"
      ],
      "metadata": {
        "colab": {
          "base_uri": "https://localhost:8080/"
        },
        "id": "0lklbPExyKz3",
        "outputId": "f172ff32-998b-4fad-b4e7-773d565e6427"
      },
      "execution_count": null,
      "outputs": [
        {
          "output_type": "execute_result",
          "data": {
            "text/plain": [
              "array(['Female', 'Male', 'Non-binary', '27', '24', '29', '33', '31', '22',\n",
              "       '25', '28', '30', '23', '34', '26', '35', '21', '32', nan],\n",
              "      dtype=object)"
            ]
          },
          "metadata": {},
          "execution_count": 20
        }
      ]
    },
    {
      "cell_type": "code",
      "source": [
        "# Function to replace numeric values with NaN\n",
        "def clean_gender_column(gender_value):\n",
        "    try:\n",
        "        # Try converting the value to float, if it succeeds it's a numeric value\n",
        "        float(gender_value)\n",
        "        return np.nan\n",
        "    except ValueError:\n",
        "        # If conversion fails, it's a valid gender entry\n",
        "        return gender_value\n",
        "\n",
        "# Apply the function to the Gender column\n",
        "train_df['Gender'] = train_df['Gender'].apply(clean_gender_column)\n",
        "\n",
        "# Fill NaN values with a placeholder or drop them\n",
        "train_df = train_df.dropna(subset=['Gender'])\n",
        "\n",
        "# Verify the unique values after cleaning\n",
        "print(train_df['Gender'].unique())"
      ],
      "metadata": {
        "colab": {
          "base_uri": "https://localhost:8080/"
        },
        "id": "7eb4kAM7NTpY",
        "outputId": "fd45924b-e50f-4f51-9f58-08eeef25a1ff"
      },
      "execution_count": null,
      "outputs": [
        {
          "output_type": "stream",
          "name": "stdout",
          "text": [
            "['Female' 'Male' 'Non-binary']\n"
          ]
        }
      ]
    },
    {
      "cell_type": "code",
      "source": [
        "# Counting the occurrences of each gender\n",
        "gender_counts = train_df['Gender'].value_counts()\n",
        "\n",
        "# Creating a bar plot for the 'Gender' column\n",
        "plt.figure(figsize=(12, 6))\n",
        "bars = plt.bar(gender_counts.index, gender_counts.values, color='blue', edgecolor='black', alpha=0.7)  # Adjusting color and transparency\n",
        "plt.title('Gender Distribution', fontsize=16)\n",
        "plt.xlabel('Gender', fontsize=14)\n",
        "plt.ylabel('Frequency', fontsize=14)\n",
        "plt.grid(axis='y', alpha=0.3)  # Adding grid only on y-axis with some transparency\n",
        "\n",
        "# Adding the number on top of each bar\n",
        "for bar in bars:\n",
        "    yval = bar.get_height()\n",
        "    plt.text(bar.get_x() + bar.get_width()/2, yval, int(yval), ha='center', va='bottom', fontsize=12)\n",
        "\n",
        "# Display the bar plot\n",
        "plt.show()"
      ],
      "metadata": {
        "colab": {
          "base_uri": "https://localhost:8080/",
          "height": 571
        },
        "id": "0TObYzVA0aNE",
        "outputId": "c0e2ae7b-283b-4c5b-da59-56c34a7b61e8"
      },
      "execution_count": null,
      "outputs": [
        {
          "output_type": "display_data",
          "data": {
            "text/plain": [
              "<Figure size 1200x600 with 1 Axes>"
            ],
            "image/png": "[encoded data removed]"
          },
          "metadata": {}
        }
      ]
    },
    {
      "cell_type": "markdown",
      "source": [
        "Platform Distribution"
      ],
      "metadata": {
        "id": "CXPEcxrHNjg-"
      }
    },
    {
      "cell_type": "code",
      "source": [
        "train_df['Platform'].unique()"
      ],
      "metadata": {
        "colab": {
          "base_uri": "https://localhost:8080/"
        },
        "id": "V57W99RY1Jf5",
        "outputId": "8126f09d-e4ea-47cc-9e41-2cc064953299"
      },
      "execution_count": null,
      "outputs": [
        {
          "output_type": "execute_result",
          "data": {
            "text/plain": [
              "array(['Instagram', 'Twitter', 'Facebook', 'LinkedIn', 'Whatsapp',\n",
              "       'Telegram', 'Snapchat'], dtype=object)"
            ]
          },
          "metadata": {},
          "execution_count": 23
        }
      ]
    },
    {
      "cell_type": "code",
      "source": [
        "# filling nan with mode\n",
        "train_df['Platform'].fillna(train_df['Platform'].mode()[0], inplace=True)"
      ],
      "metadata": {
        "id": "k-xXGxeZNfr3"
      },
      "execution_count": null,
      "outputs": []
    },
    {
      "cell_type": "code",
      "source": [
        "import matplotlib.pyplot as plt\n",
        "# Counting the occurrences of each platform\n",
        "platform_counts = train_df['Platform'].value_counts()\n",
        "\n",
        "# Creating a bar plot for the 'Platform' column\n",
        "plt.figure(figsize=(12, 6))\n",
        "bars = plt.bar(platform_counts.index, platform_counts.values, color='blue', edgecolor='black', alpha=0.7)  # Adjusting color and transparency\n",
        "plt.title('Platform Distribution', fontsize=16)\n",
        "plt.xlabel('Platform', fontsize=14)\n",
        "plt.ylabel('Frequency', fontsize=14)\n",
        "plt.grid(axis='y', alpha=0.3)  # Adding grid only on y-axis with some transparency\n",
        "\n",
        "# Adding the number on top of each bar\n",
        "for bar in bars:\n",
        "    yval = bar.get_height()\n",
        "    plt.text(bar.get_x() + bar.get_width()/2, yval, int(yval), ha='center', va='bottom', fontsize=12)\n",
        "\n",
        "# Display the bar plot\n",
        "plt.show()"
      ],
      "metadata": {
        "colab": {
          "base_uri": "https://localhost:8080/",
          "height": 571
        },
        "id": "fBzrLH-k1T6d",
        "outputId": "a1ed6c17-ab47-4572-e838-a1b93b324e5c"
      },
      "execution_count": null,
      "outputs": [
        {
          "output_type": "display_data",
          "data": {
            "text/plain": [
              "<Figure size 1200x600 with 1 Axes>"
            ],
            "image/png": "[encoded data removed]"
          },
          "metadata": {}
        }
      ]
    },
    {
      "cell_type": "markdown",
      "source": [
        "Daily Usage Time (minutes) Distribution"
      ],
      "metadata": {
        "id": "qYl56958OfXm"
      }
    },
    {
      "cell_type": "code",
      "source": [
        "# Creating the histogram for 'Daily_Usage_Time (minutes)'\n",
        "plt.figure(figsize=(12, 6))\n",
        "plt.hist(train_df['Daily_Usage_Time (minutes)'], bins=20, color='blue', edgecolor='black', alpha=0.7)  # Adjusting color and transparency\n",
        "plt.title('Daily Usage Time Distribution', fontsize=16)\n",
        "plt.xlabel('Minutes', fontsize=14)\n",
        "plt.ylabel('Frequency', fontsize=14)\n",
        "plt.grid(axis='y', alpha=0.3)  # Adding grid only on the y-axis with some transparency\n",
        "\n",
        "# Display the histogram\n",
        "plt.show()"
      ],
      "metadata": {
        "colab": {
          "base_uri": "https://localhost:8080/",
          "height": 571
        },
        "id": "Gey7PXLWObSs",
        "outputId": "e47a5a81-f08b-43bc-d718-82ca4b35e198"
      },
      "execution_count": null,
      "outputs": [
        {
          "output_type": "display_data",
          "data": {
            "text/plain": [
              "<Figure size 1200x600 with 1 Axes>"
            ],
            "image/png": "[encoded data removed]"
          },
          "metadata": {}
        }
      ]
    },
    {
      "cell_type": "markdown",
      "source": [
        "Post Per Day Distribution"
      ],
      "metadata": {
        "id": "go51CZ5zOm84"
      }
    },
    {
      "cell_type": "code",
      "source": [
        "train_df['Posts_Per_Day'].unique()"
      ],
      "metadata": {
        "colab": {
          "base_uri": "https://localhost:8080/"
        },
        "id": "qLfWQ8xU25yQ",
        "outputId": "e8125dc5-1a5e-4c71-f6fd-71c76abcff85"
      },
      "execution_count": null,
      "outputs": [
        {
          "output_type": "execute_result",
          "data": {
            "text/plain": [
              "array([3., 5., 2., 8., 1., 4., 6., 7.])"
            ]
          },
          "metadata": {},
          "execution_count": 27
        }
      ]
    },
    {
      "cell_type": "code",
      "source": [
        "# fill nan with mode\n",
        "train_df['Posts_Per_Day'].fillna(train_df['Posts_Per_Day'].mode()[0], inplace=True)"
      ],
      "metadata": {
        "id": "G8kRiz8jOhrt"
      },
      "execution_count": null,
      "outputs": []
    },
    {
      "cell_type": "code",
      "source": [
        "posts_per_day_counts = train_df['Posts_Per_Day'].value_counts()\n",
        "\n",
        "# Creating a bar chart for the 'Posts_Per_Day' column\n",
        "plt.figure(figsize=(12, 6))\n",
        "plt.bar(posts_per_day_counts.index, posts_per_day_counts.values, color='blue', edgecolor='black', alpha=0.7)\n",
        "plt.title('Posts Per Day Distribution', fontsize=16)\n",
        "plt.xlabel('Posts Per Day', fontsize=14)\n",
        "plt.ylabel('Frequency', fontsize=14)\n",
        "plt.grid(axis='y', alpha=0.3)  # Adding grid only on y-axis with some transparency\n",
        "\n",
        "# Adding the number on top of each bar\n",
        "for i in range(len(posts_per_day_counts)):\n",
        "    plt.text(posts_per_day_counts.index[i], posts_per_day_counts.values[i], str(posts_per_day_counts.values[i]), ha='center', va='bottom')\n",
        "\n",
        "# Display the bar chart\n",
        "plt.show()"
      ],
      "metadata": {
        "colab": {
          "base_uri": "https://localhost:8080/",
          "height": 571
        },
        "id": "sN_qF9pPOqr1",
        "outputId": "43248fee-2487-446b-8cbc-8feb00e50428"
      },
      "execution_count": null,
      "outputs": [
        {
          "output_type": "display_data",
          "data": {
            "text/plain": [
              "<Figure size 1200x600 with 1 Axes>"
            ],
            "image/png": "[encoded data removed]"
          },
          "metadata": {}
        }
      ]
    },
    {
      "cell_type": "markdown",
      "source": [
        "Likes Per Day Distribution"
      ],
      "metadata": {
        "id": "QqJlcuj-Owgy"
      }
    },
    {
      "cell_type": "code",
      "source": [
        "train_df['Likes_Received_Per_Day'].unique()"
      ],
      "metadata": {
        "colab": {
          "base_uri": "https://localhost:8080/"
        },
        "id": "hA6HcDdW3TVv",
        "outputId": "7d95f970-39a2-44f2-c8f8-fabf119ea0c0"
      },
      "execution_count": null,
      "outputs": [
        {
          "output_type": "execute_result",
          "data": {
            "text/plain": [
              "array([ 45.,  20.,  15., 100.,   5.,  60.,  30.,  25.,  10.,  80.,  35.,\n",
              "        12.,  90.,  40.,  55.,  33.,   8.,  70.,  28.,  11.,  95.,  18.,\n",
              "         9.,  85.,  38.,   6.,  13.,  75.,  27.,  88.,  22.,  78.,  29.,\n",
              "        50.,  36.,  72.,  65., 110.,  14.,  17., 105.,  43.,  37.,  42.,\n",
              "        48.,  21.,  24.,  23.,  83.])"
            ]
          },
          "metadata": {},
          "execution_count": 30
        }
      ]
    },
    {
      "cell_type": "code",
      "source": [
        "# filling nan wih mode\n",
        "train_df['Likes_Received_Per_Day'].fillna(train_df['Likes_Received_Per_Day'].mode()[0], inplace=True)"
      ],
      "metadata": {
        "id": "MR82Zm9oOtIz"
      },
      "execution_count": null,
      "outputs": []
    },
    {
      "cell_type": "code",
      "source": [
        "# Creating the histogram for 'Likes_Received_Per_Day'\n",
        "plt.figure(figsize=(12, 6))\n",
        "plt.hist(train_df['Likes_Received_Per_Day'], bins=20, color='blue', edgecolor='black', alpha=0.7)  # Adjusting color and transparency\n",
        "plt.title('Likes Per Day Distribution', fontsize=16)\n",
        "plt.xlabel('Likes Received Per Day', fontsize=14)\n",
        "plt.ylabel('Frequency', fontsize=14)\n",
        "plt.grid(axis='y', alpha=0.3)  # Adding grid only on the y-axis with some transparency\n",
        "\n",
        "# Display the histogram\n",
        "plt.show()"
      ],
      "metadata": {
        "colab": {
          "base_uri": "https://localhost:8080/",
          "height": 571
        },
        "id": "eR38yC_EO0u1",
        "outputId": "b8d880f5-1979-4d69-8ed5-fbd4a4c6cc38"
      },
      "execution_count": null,
      "outputs": [
        {
          "output_type": "display_data",
          "data": {
            "text/plain": [
              "<Figure size 1200x600 with 1 Axes>"
            ],
            "image/png": "[encoded data removed]"
          },
          "metadata": {}
        }
      ]
    },
    {
      "cell_type": "markdown",
      "source": [
        "Comments Per Day Distribution"
      ],
      "metadata": {
        "id": "qJGcfQtoPGEn"
      }
    },
    {
      "cell_type": "code",
      "source": [
        "train_df['Comments_Received_Per_Day'].unique()"
      ],
      "metadata": {
        "colab": {
          "base_uri": "https://localhost:8080/"
        },
        "id": "BNOxUrU23pbn",
        "outputId": "2cea5771-f5c0-47cd-c5ec-f865effed70c"
      },
      "execution_count": null,
      "outputs": [
        {
          "output_type": "execute_result",
          "data": {
            "text/plain": [
              "array([10., 25.,  5., 30.,  2., 15., 12.,  3., 20.,  7.,  4., 23., 18.,\n",
              "       22., 14., 26.,  8., 19., 17., 11.,  6.,  9., 13., 40., 16., 35.,\n",
              "       38., 28., 36., 33.])"
            ]
          },
          "metadata": {},
          "execution_count": 33
        }
      ]
    },
    {
      "cell_type": "code",
      "source": [
        "# filling with mode\n",
        "train_df['Comments_Received_Per_Day'].fillna(train_df['Comments_Received_Per_Day'].mode()[0], inplace=True)"
      ],
      "metadata": {
        "id": "1JBjYvU9O3bR"
      },
      "execution_count": null,
      "outputs": []
    },
    {
      "cell_type": "code",
      "source": [
        "# Creating the histogram for 'Comments_Received_Per_Day'\n",
        "plt.figure(figsize=(12, 6))\n",
        "plt.hist(train_df['Comments_Received_Per_Day'], bins=20, color='blue', edgecolor='black', alpha=0.7)  # Adjusting color and transparency\n",
        "plt.title('Comments Per Day Distribution', fontsize=16)\n",
        "plt.xlabel('Comments Received Per Day', fontsize=14)\n",
        "plt.ylabel('Frequency', fontsize=14)\n",
        "plt.grid(axis='y', alpha=0.3)  # Adding grid only on the y-axis with some transparency\n",
        "\n",
        "# Display the histogram\n",
        "plt.show()"
      ],
      "metadata": {
        "colab": {
          "base_uri": "https://localhost:8080/",
          "height": 571
        },
        "id": "pQNHuE3yPI3c",
        "outputId": "c76b0da5-3e6c-4853-b61e-c83cb434b5bc"
      },
      "execution_count": null,
      "outputs": [
        {
          "output_type": "display_data",
          "data": {
            "text/plain": [
              "<Figure size 1200x600 with 1 Axes>"
            ],
            "image/png": "[encoded data removed]"
          },
          "metadata": {}
        }
      ]
    },
    {
      "cell_type": "markdown",
      "source": [
        "Messages Per Day Distribution"
      ],
      "metadata": {
        "id": "IrZU9YsrPQHu"
      }
    },
    {
      "cell_type": "code",
      "source": [
        "plt.figure(figsize= (12,6))\n",
        "plt.hist(train_df['Messages_Sent_Per_Day'], bins=20, color='blue', edgecolor='black', alpha=0.7)\n",
        "plt.title('Messages Per Day Distribution', fontsize=16)\n",
        "plt.xlabel('Messages Sent Per Day', fontsize=14)\n",
        "plt.ylabel('Frequency', fontsize=14)\n",
        "plt.grid(axis='y', alpha=0.3)\n",
        "\n",
        "plt.show()"
      ],
      "metadata": {
        "colab": {
          "base_uri": "https://localhost:8080/",
          "height": 571
        },
        "id": "Ksls1ReTPNtl",
        "outputId": "8159e8b6-da60-41ba-9541-a9028f9be021"
      },
      "execution_count": null,
      "outputs": [
        {
          "output_type": "display_data",
          "data": {
            "text/plain": [
              "<Figure size 1200x600 with 1 Axes>"
            ],
            "image/png": "[encoded data removed]"
          },
          "metadata": {}
        }
      ]
    },
    {
      "cell_type": "markdown",
      "source": [
        "Emotion Distribution"
      ],
      "metadata": {
        "id": "OZWbzwLVPWpu"
      }
    },
    {
      "cell_type": "code",
      "source": [
        "train_df['Dominant_Emotion'].unique()"
      ],
      "metadata": {
        "colab": {
          "base_uri": "https://localhost:8080/"
        },
        "id": "17Kovfxi4Qz7",
        "outputId": "5b471955-d962-4f0b-98a8-eda04c505992"
      },
      "execution_count": null,
      "outputs": [
        {
          "output_type": "execute_result",
          "data": {
            "text/plain": [
              "array(['Happiness', 'Anger', 'Neutral', 'Anxiety', 'Boredom', 'Sadness'],\n",
              "      dtype=object)"
            ]
          },
          "metadata": {},
          "execution_count": 37
        }
      ]
    },
    {
      "cell_type": "code",
      "source": [
        "# fill nan with mode\n",
        "train_df['Dominant_Emotion'].fillna(train_df['Dominant_Emotion'].mode()[0], inplace=True)"
      ],
      "metadata": {
        "id": "UXx2yOJYPSz5"
      },
      "execution_count": null,
      "outputs": []
    },
    {
      "cell_type": "code",
      "source": [
        "import matplotlib.pyplot as plt\n",
        "# Counting the occurrences of each 'Dominant_Emotion'\n",
        "emotion_counts = train_df['Dominant_Emotion'].value_counts()\n",
        "\n",
        "# Creating the pie chart\n",
        "plt.figure(figsize=(8, 8))\n",
        "plt.pie(emotion_counts, labels=emotion_counts.index, autopct='%1.1f%%', startangle=140, colors=plt.cm.Paired.colors)\n",
        "\n",
        "plt.title('Dominant Emotion Distribution', fontsize=16)\n",
        "\n",
        "# Display the pie chart\n",
        "plt.show()"
      ],
      "metadata": {
        "colab": {
          "base_uri": "https://localhost:8080/",
          "height": 677
        },
        "id": "wof4csKyPcNE",
        "outputId": "04b2068c-a553-497e-f641-7b70657b48e6"
      },
      "execution_count": null,
      "outputs": [
        {
          "output_type": "display_data",
          "data": {
            "text/plain": [
              "<Figure size 800x800 with 1 Axes>"
            ],
            "image/png": "[encoded data removed]"
          },
          "metadata": {}
        }
      ]
    },
    {
      "cell_type": "markdown",
      "source": [
        "**Relationship Between Variables**"
      ],
      "metadata": {
        "id": "8Y_aWGsRPzw-"
      }
    },
    {
      "cell_type": "markdown",
      "source": [
        "Gender and Platform"
      ],
      "metadata": {
        "id": "qvIBTHkVP4iP"
      }
    },
    {
      "cell_type": "code",
      "source": [
        "# Group the data by gender and platform\n",
        "grouped = train_df.groupby(['Gender', 'Platform'])\n",
        "\n",
        "# Count the number of rows in each group\n",
        "counts = grouped.size()\n",
        "\n",
        "# Print the counts\n",
        "print(counts)"
      ],
      "metadata": {
        "colab": {
          "base_uri": "https://localhost:8080/"
        },
        "id": "Kubf_U974pyx",
        "outputId": "e172de3f-09f2-4aab-f89c-7609d3d66e05"
      },
      "execution_count": null,
      "outputs": [
        {
          "output_type": "stream",
          "name": "stdout",
          "text": [
            "Gender      Platform \n",
            "Female      Facebook      10\n",
            "            Instagram    150\n",
            "            LinkedIn      40\n",
            "            Snapchat      28\n",
            "            Twitter       66\n",
            "            Whatsapp      50\n",
            "Male        Facebook      38\n",
            "            Instagram     76\n",
            "            LinkedIn      48\n",
            "            Telegram      50\n",
            "            Twitter      102\n",
            "            Whatsapp      18\n",
            "Non-binary  Facebook     130\n",
            "            Instagram     10\n",
            "            LinkedIn      30\n",
            "            Snapchat      40\n",
            "            Telegram      18\n",
            "            Twitter       20\n",
            "dtype: int64\n"
          ]
        }
      ]
    },
    {
      "cell_type": "code",
      "source": [
        "import matplotlib.pyplot as plt\n",
        "import seaborn as sns\n",
        "import pandas as pd\n",
        "\n",
        "# Assuming train_df is already loaded and contains the necessary data\n",
        "\n",
        "# Grouping the data by Gender and Platform, then counting the occurrences\n",
        "platform_gender_counts = train_df.groupby(['Gender', 'Platform']).size().unstack()\n",
        "\n",
        "# Set a more attractive color palette\n",
        "colors = sns.color_palette(\"Set1\")\n",
        "\n",
        "# Creating the bar chart with custom styling\n",
        "plt.figure(figsize=(12, 8))\n",
        "ax = platform_gender_counts.plot(kind='bar', figsize=(12, 8), color=colors, edgecolor='black', alpha=0.85)\n",
        "plt.title('Platform by Gender Usage', fontsize=20)\n",
        "plt.xlabel('Gender', fontsize=16)\n",
        "plt.ylabel('Count', fontsize=16)\n",
        "plt.xticks(rotation=45, fontsize=12)\n",
        "plt.yticks(fontsize=12)\n",
        "plt.grid(axis='y', alpha=0.3)  # Adding grid only on the y-axis with some transparency\n",
        "plt.legend(title='Platform', fontsize=12, title_fontsize=14, loc='upper right')\n",
        "\n",
        "# Adding labels on top of each bar\n",
        "for container in ax.containers:\n",
        "    ax.bar_label(container, fmt='%.0f', label_type='edge', padding=3, fontsize=10, color='black')\n",
        "\n",
        "plt.tight_layout()  # Adjust layout to make room for labels\n",
        "plt.show()\n",
        "\n"
      ],
      "metadata": {
        "colab": {
          "base_uri": "https://localhost:8080/",
          "height": 824
        },
        "id": "aaVynDlMP2oA",
        "outputId": "8d65c676-2547-4451-8352-7d22080b1d68"
      },
      "execution_count": null,
      "outputs": [
        {
          "output_type": "display_data",
          "data": {
            "text/plain": [
              "<Figure size 1200x800 with 0 Axes>"
            ]
          },
          "metadata": {}
        },
        {
          "output_type": "display_data",
          "data": {
            "text/plain": [
              "<Figure size 1200x800 with 1 Axes>"
            ],
            "image/png": "[encoded data removed]"
          },
          "metadata": {}
        }
      ]
    },
    {
      "cell_type": "markdown",
      "source": [
        "Age and Gender"
      ],
      "metadata": {
        "id": "rRnRmbElQUpw"
      }
    },
    {
      "cell_type": "code",
      "source": [
        "# grouping age with gender\n",
        "grouped = train_df.groupby(['Age', 'Gender'])\n",
        "\n",
        "# count the number of rows in each group\n",
        "counts = grouped.size()\n",
        "\n",
        "# print the counts\n",
        "print(counts)"
      ],
      "metadata": {
        "colab": {
          "base_uri": "https://localhost:8080/"
        },
        "id": "u0znuf1XQVQB",
        "outputId": "51165e81-5e2c-4ab4-f052-ac6046a7fa46"
      },
      "execution_count": null,
      "outputs": [
        {
          "output_type": "stream",
          "name": "stdout",
          "text": [
            "Age   Gender    \n",
            "21.0  Female        20\n",
            "      Male          10\n",
            "      Non-binary    26\n",
            "22.0  Female        48\n",
            "      Male           8\n",
            "      Non-binary    18\n",
            "23.0  Female        10\n",
            "      Male           8\n",
            "      Non-binary    30\n",
            "24.0  Female        26\n",
            "      Male          10\n",
            "      Non-binary    28\n",
            "25.0  Female        40\n",
            "      Male          24\n",
            "26.0  Female         8\n",
            "      Male          28\n",
            "      Non-binary    30\n",
            "27.0  Female        28\n",
            "      Male          44\n",
            "      Non-binary    20\n",
            "28.0  Female        36\n",
            "      Male          28\n",
            "      Non-binary    28\n",
            "29.0  Female        28\n",
            "      Male          30\n",
            "      Non-binary    32\n",
            "30.0  Female         8\n",
            "      Male          40\n",
            "31.0  Female         8\n",
            "      Male          54\n",
            "32.0  Female        28\n",
            "      Male          10\n",
            "33.0  Female        18\n",
            "      Male          10\n",
            "      Non-binary    28\n",
            "34.0  Female        18\n",
            "      Male          10\n",
            "      Non-binary     8\n",
            "35.0  Female        20\n",
            "      Male          18\n",
            "dtype: int64\n"
          ]
        }
      ]
    },
    {
      "cell_type": "code",
      "source": [
        "plt = px.histogram(train_df, x='Age', color='Gender', title='Age by Gender')\n",
        "plt.show()"
      ],
      "metadata": {
        "colab": {
          "base_uri": "https://localhost:8080/",
          "height": 542
        },
        "id": "mbaP-h1NQYjW",
        "outputId": "e18f2125-745f-4da9-be14-ec3c145ae423"
      },
      "execution_count": null,
      "outputs": [
        {
          "output_type": "display_data",
          "data": {
            "text/html": [
              "<html>\n",
              "<head><meta charset=\"utf-8\" /></head>\n",
              "<body>\n",
              "    <div>            <script src=\"https://cdnjs.cloudflare.com/ajax/libs/mathjax/2.7.5/MathJax.js?config=TeX-AMS-MML_SVG\"></script><script type=\"text/javascript\">if (window.MathJax && window.MathJax.Hub && window.MathJax.Hub.Config) {window.MathJax.Hub.Config({SVG: {font: \"STIX-Web\"}});}</script>                <script type=\"text/javascript\">window.PlotlyConfig = {MathJaxConfig: 'local'};</script>\n",
              "        <script charset=\"utf-8\" src=\"https://cdn.plot.ly/plotly-2.24.1.min.js\"></script>                <div id=\"158605bf-705c-46d6-a2e7-5f8baf48df52\" class=\"plotly-graph-div\" style=\"height:525px; width:100%;\"></div>            <script type=\"text/javascript\">                                    window.PLOTLYENV=window.PLOTLYENV || {};                                    if (document.getElementById(\"158605bf-705c-46d6-a2e7-5f8baf48df52\")) {                    Plotly.newPlot(                        \"158605bf-705c-46d6-a2e7-5f8baf48df52\",                        [{\"alignmentgroup\":\"True\",\"bingroup\":\"x\",\"hovertemplate\":\"Gender=Female\\u003cbr\\u003eAge=%{x}\\u003cbr\\u003ecount=%{y}\\u003cextra\\u003e\\u003c\\u002fextra\\u003e\",\"legendgroup\":\"Female\",\"marker\":{\"color\":\"#636efa\",\"pattern\":{\"shape\":\"\"}},\"name\":\"Female\",\"offsetgroup\":\"Female\",\"orientation\":\"v\",\"showlegend\":true,\"x\":[25.0,28.0,27.0,29.0,23.0,22.0,35.0,32.0,24.0,22.0,25.0,34.0,21.0,33.0,22.0,25.0,35.0,21.0,28.0,24.0,33.0,22.0,28.0,30.0,26.0,31.0,24.0,29.0,32.0,27.0,34.0,28.0,25.0,32.0,29.0,22.0,27.0,25.0,28.0,27.0,29.0,23.0,22.0,35.0,32.0,24.0,22.0,25.0,34.0,21.0,33.0,22.0,25.0,35.0,21.0,28.0,24.0,33.0,22.0,28.0,30.0,26.0,31.0,24.0,29.0,32.0,27.0,34.0,28.0,25.0,32.0,29.0,22.0,27.0,25.0,28.0,27.0,29.0,23.0,22.0,35.0,32.0,24.0,22.0,25.0,34.0,21.0,33.0,22.0,25.0,35.0,21.0,28.0,25.0,32.0,29.0,22.0,27.0,25.0,28.0,27.0,29.0,23.0,22.0,35.0,32.0,24.0,22.0,25.0,34.0,21.0,33.0,22.0,25.0,35.0,21.0,28.0,24.0,33.0,22.0,28.0,30.0,26.0,31.0,24.0,29.0,32.0,27.0,34.0,28.0,25.0,32.0,29.0,22.0,27.0,25.0,28.0,27.0,29.0,23.0,22.0,35.0,32.0,24.0,22.0,25.0,34.0,21.0,33.0,22.0,25.0,35.0,21.0,28.0,24.0,33.0,22.0,28.0,30.0,26.0,31.0,24.0,29.0,32.0,27.0,34.0,28.0,25.0,32.0,29.0,22.0,27.0,25.0,28.0,27.0,29.0,23.0,22.0,35.0,32.0,24.0,22.0,25.0,34.0,21.0,33.0,22.0,25.0,35.0,21.0,28.0,24.0,33.0,22.0,28.0,30.0,26.0,31.0,24.0,29.0,32.0,27.0,34.0,28.0,25.0,32.0,29.0,22.0,27.0,25.0,28.0,27.0,29.0,23.0,22.0,35.0,32.0,24.0,22.0,25.0,34.0,21.0,33.0,22.0,25.0,35.0,21.0,28.0,24.0,33.0,22.0,28.0,30.0,26.0,31.0,24.0,29.0,32.0,27.0,34.0,28.0,25.0,32.0,29.0,22.0,27.0,25.0,28.0,27.0,29.0,23.0,22.0,35.0,32.0,24.0,22.0,25.0,34.0,21.0,33.0,22.0,25.0,35.0,21.0,28.0,25.0,32.0,29.0,22.0,27.0,25.0,28.0,27.0,29.0,23.0,22.0,35.0,32.0,24.0,22.0,25.0,34.0,21.0,33.0,22.0,25.0,35.0,21.0,28.0,24.0,33.0,22.0,28.0,30.0,26.0,31.0,24.0,29.0,32.0,27.0,34.0,28.0,25.0,32.0,29.0,22.0,27.0,25.0,28.0,27.0,29.0,23.0,22.0,35.0,32.0,24.0,22.0,25.0,34.0,21.0,33.0,22.0,25.0,35.0,21.0,28.0,24.0,33.0,22.0,28.0,30.0,26.0,31.0,24.0,29.0,32.0,27.0,34.0,28.0,25.0,32.0,29.0,22.0,27.0],\"xaxis\":\"x\",\"yaxis\":\"y\",\"type\":\"histogram\"},{\"alignmentgroup\":\"True\",\"bingroup\":\"x\",\"hovertemplate\":\"Gender=Male\\u003cbr\\u003eAge=%{x}\\u003cbr\\u003ecount=%{y}\\u003cextra\\u003e\\u003c\\u002fextra\\u003e\",\"legendgroup\":\"Male\",\"marker\":{\"color\":\"#EF553B\",\"pattern\":{\"shape\":\"\"}},\"name\":\"Male\",\"offsetgroup\":\"Male\",\"orientation\":\"v\",\"showlegend\":true,\"x\":[30.0,33.0,21.0,31.0,34.0,28.0,27.0,26.0,29.0,31.0,30.0,28.0,29.0,27.0,31.0,29.0,30.0,32.0,27.0,31.0,25.0,27.0,23.0,25.0,28.0,27.0,35.0,25.0,26.0,31.0,22.0,31.0,30.0,24.0,26.0,35.0,30.0,33.0,21.0,31.0,34.0,28.0,27.0,26.0,29.0,31.0,30.0,28.0,29.0,27.0,31.0,29.0,30.0,32.0,27.0,31.0,25.0,27.0,23.0,25.0,28.0,27.0,35.0,25.0,26.0,31.0,22.0,31.0,30.0,24.0,26.0,35.0,30.0,33.0,21.0,31.0,34.0,28.0,27.0,26.0,29.0,31.0,30.0,28.0,29.0,27.0,31.0,29.0,30.0,32.0,30.0,24.0,26.0,35.0,30.0,33.0,21.0,31.0,34.0,28.0,27.0,26.0,29.0,31.0,30.0,28.0,29.0,27.0,31.0,29.0,30.0,32.0,27.0,31.0,25.0,27.0,23.0,25.0,28.0,27.0,35.0,25.0,26.0,31.0,22.0,31.0,30.0,24.0,26.0,35.0,30.0,33.0,21.0,31.0,34.0,28.0,27.0,26.0,29.0,31.0,30.0,28.0,29.0,27.0,31.0,29.0,30.0,32.0,27.0,31.0,25.0,27.0,23.0,25.0,28.0,27.0,35.0,25.0,26.0,31.0,22.0,31.0,30.0,24.0,26.0,35.0,30.0,33.0,21.0,31.0,34.0,28.0,27.0,26.0,29.0,31.0,30.0,28.0,29.0,27.0,31.0,29.0,30.0,32.0,27.0,31.0,25.0,27.0,23.0,25.0,28.0,27.0,35.0,25.0,26.0,31.0,22.0,31.0,30.0,24.0,26.0,35.0,30.0,33.0,21.0,31.0,34.0,28.0,27.0,26.0,29.0,31.0,30.0,28.0,29.0,27.0,31.0,29.0,30.0,32.0,27.0,31.0,25.0,27.0,23.0,25.0,28.0,27.0,35.0,25.0,26.0,31.0,22.0,31.0,30.0,24.0,26.0,35.0,30.0,33.0,21.0,31.0,34.0,28.0,27.0,26.0,29.0,31.0,30.0,28.0,29.0,27.0,31.0,29.0,30.0,32.0,30.0,24.0,26.0,35.0,30.0,33.0,21.0,31.0,34.0,28.0,27.0,26.0,29.0,31.0,30.0,28.0,29.0,27.0,31.0,29.0,30.0,32.0,27.0,31.0,25.0,27.0,23.0,25.0,28.0,27.0,35.0,25.0,26.0,31.0,22.0,31.0,30.0,24.0,26.0,35.0,30.0,33.0,21.0,31.0,34.0,28.0,27.0,26.0,29.0,31.0,30.0,28.0,29.0,27.0,31.0,29.0,30.0,32.0,27.0,31.0,25.0,27.0,23.0,25.0,28.0,27.0,35.0,25.0,26.0,31.0,22.0,31.0,30.0,24.0,26.0,35.0],\"xaxis\":\"x\",\"yaxis\":\"y\",\"type\":\"histogram\"},{\"alignmentgroup\":\"True\",\"bingroup\":\"x\",\"hovertemplate\":\"Gender=Non-binary\\u003cbr\\u003eAge=%{x}\\u003cbr\\u003ecount=%{y}\\u003cextra\\u003e\\u003c\\u002fextra\\u003e\",\"legendgroup\":\"Non-binary\",\"marker\":{\"color\":\"#00cc96\",\"pattern\":{\"shape\":\"\"}},\"name\":\"Non-binary\",\"offsetgroup\":\"Non-binary\",\"orientation\":\"v\",\"showlegend\":true,\"x\":[22.0,24.0,26.0,21.0,23.0,33.0,27.0,26.0,23.0,24.0,28.0,23.0,26.0,29.0,29.0,34.0,29.0,22.0,21.0,28.0,33.0,24.0,29.0,21.0,27.0,33.0,28.0,22.0,24.0,26.0,21.0,23.0,33.0,27.0,26.0,23.0,24.0,28.0,23.0,26.0,29.0,29.0,34.0,29.0,22.0,21.0,28.0,33.0,24.0,29.0,21.0,27.0,33.0,28.0,22.0,24.0,26.0,21.0,23.0,33.0,27.0,26.0,23.0,24.0,28.0,23.0,26.0,27.0,33.0,28.0,22.0,24.0,26.0,21.0,23.0,33.0,27.0,26.0,23.0,24.0,28.0,23.0,26.0,29.0,29.0,34.0,29.0,22.0,21.0,28.0,33.0,24.0,29.0,21.0,27.0,33.0,28.0,22.0,24.0,26.0,21.0,23.0,33.0,27.0,26.0,23.0,24.0,28.0,23.0,26.0,29.0,29.0,34.0,29.0,22.0,21.0,28.0,33.0,24.0,29.0,21.0,27.0,33.0,28.0,22.0,24.0,26.0,21.0,23.0,33.0,27.0,26.0,23.0,24.0,28.0,23.0,26.0,29.0,29.0,34.0,29.0,22.0,21.0,28.0,33.0,24.0,29.0,21.0,27.0,33.0,28.0,22.0,24.0,26.0,21.0,23.0,33.0,27.0,26.0,23.0,24.0,28.0,23.0,26.0,29.0,29.0,34.0,29.0,22.0,21.0,28.0,33.0,24.0,29.0,21.0,27.0,33.0,28.0,22.0,24.0,26.0,21.0,23.0,33.0,27.0,26.0,23.0,24.0,28.0,23.0,26.0,27.0,33.0,28.0,22.0,24.0,26.0,21.0,23.0,33.0,27.0,26.0,23.0,24.0,28.0,23.0,26.0,29.0,29.0,34.0,29.0,22.0,21.0,28.0,33.0,24.0,29.0,21.0,27.0,33.0,28.0,22.0,24.0,26.0,21.0,23.0,33.0,27.0,26.0,23.0,24.0,28.0,23.0,26.0,29.0,29.0,34.0,29.0,22.0,21.0,28.0,33.0,24.0,29.0,21.0,27.0,33.0,28.0],\"xaxis\":\"x\",\"yaxis\":\"y\",\"type\":\"histogram\"}],                        {\"template\":{\"data\":{\"histogram2dcontour\":[{\"type\":\"histogram2dcontour\",\"colorbar\":{\"outlinewidth\":0,\"ticks\":\"\"},\"colorscale\":[[0.0,\"#0d0887\"],[0.1111111111111111,\"#46039f\"],[0.2222222222222222,\"#7201a8\"],[0.3333333333333333,\"#9c179e\"],[0.4444444444444444,\"#bd3786\"],[0.5555555555555556,\"#d8576b\"],[0.6666666666666666,\"#ed7953\"],[0.7777777777777778,\"#fb9f3a\"],[0.8888888888888888,\"#fdca26\"],[1.0,\"#f0f921\"]]}],\"choropleth\":[{\"type\":\"choropleth\",\"colorbar\":{\"outlinewidth\":0,\"ticks\":\"\"}}],\"histogram2d\":[{\"type\":\"histogram2d\",\"colorbar\":{\"outlinewidth\":0,\"ticks\":\"\"},\"colorscale\":[[0.0,\"#0d0887\"],[0.1111111111111111,\"#46039f\"],[0.2222222222222222,\"#7201a8\"],[0.3333333333333333,\"#9c179e\"],[0.4444444444444444,\"#bd3786\"],[0.5555555555555556,\"#d8576b\"],[0.6666666666666666,\"#ed7953\"],[0.7777777777777778,\"#fb9f3a\"],[0.8888888888888888,\"#fdca26\"],[1.0,\"#f0f921\"]]}],\"heatmap\":[{\"type\":\"heatmap\",\"colorbar\":{\"outlinewidth\":0,\"ticks\":\"\"},\"colorscale\":[[0.0,\"#0d0887\"],[0.1111111111111111,\"#46039f\"],[0.2222222222222222,\"#7201a8\"],[0.3333333333333333,\"#9c179e\"],[0.4444444444444444,\"#bd3786\"],[0.5555555555555556,\"#d8576b\"],[0.6666666666666666,\"#ed7953\"],[0.7777777777777778,\"#fb9f3a\"],[0.8888888888888888,\"#fdca26\"],[1.0,\"#f0f921\"]]}],\"heatmapgl\":[{\"type\":\"heatmapgl\",\"colorbar\":{\"outlinewidth\":0,\"ticks\":\"\"},\"colorscale\":[[0.0,\"#0d0887\"],[0.1111111111111111,\"#46039f\"],[0.2222222222222222,\"#7201a8\"],[0.3333333333333333,\"#9c179e\"],[0.4444444444444444,\"#bd3786\"],[0.5555555555555556,\"#d8576b\"],[0.6666666666666666,\"#ed7953\"],[0.7777777777777778,\"#fb9f3a\"],[0.8888888888888888,\"#fdca26\"],[1.0,\"#f0f921\"]]}],\"contourcarpet\":[{\"type\":\"contourcarpet\",\"colorbar\":{\"outlinewidth\":0,\"ticks\":\"\"}}],\"contour\":[{\"type\":\"contour\",\"colorbar\":{\"outlinewidth\":0,\"ticks\":\"\"},\"colorscale\":[[0.0,\"#0d0887\"],[0.1111111111111111,\"#46039f\"],[0.2222222222222222,\"#7201a8\"],[0.3333333333333333,\"#9c179e\"],[0.4444444444444444,\"#bd3786\"],[0.5555555555555556,\"#d8576b\"],[0.6666666666666666,\"#ed7953\"],[0.7777777777777778,\"#fb9f3a\"],[0.8888888888888888,\"#fdca26\"],[1.0,\"#f0f921\"]]}],\"surface\":[{\"type\":\"surface\",\"colorbar\":{\"outlinewidth\":0,\"ticks\":\"\"},\"colorscale\":[[0.0,\"#0d0887\"],[0.1111111111111111,\"#46039f\"],[0.2222222222222222,\"#7201a8\"],[0.3333333333333333,\"#9c179e\"],[0.4444444444444444,\"#bd3786\"],[0.5555555555555556,\"#d8576b\"],[0.6666666666666666,\"#ed7953\"],[0.7777777777777778,\"#fb9f3a\"],[0.8888888888888888,\"#fdca26\"],[1.0,\"#f0f921\"]]}],\"mesh3d\":[{\"type\":\"mesh3d\",\"colorbar\":{\"outlinewidth\":0,\"ticks\":\"\"}}],\"scatter\":[{\"fillpattern\":{\"fillmode\":\"overlay\",\"size\":10,\"solidity\":0.2},\"type\":\"scatter\"}],\"parcoords\":[{\"type\":\"parcoords\",\"line\":{\"colorbar\":{\"outlinewidth\":0,\"ticks\":\"\"}}}],\"scatterpolargl\":[{\"type\":\"scatterpolargl\",\"marker\":{\"colorbar\":{\"outlinewidth\":0,\"ticks\":\"\"}}}],\"bar\":[{\"error_x\":{\"color\":\"#2a3f5f\"},\"error_y\":{\"color\":\"#2a3f5f\"},\"marker\":{\"line\":{\"color\":\"#E5ECF6\",\"width\":0.5},\"pattern\":{\"fillmode\":\"overlay\",\"size\":10,\"solidity\":0.2}},\"type\":\"bar\"}],\"scattergeo\":[{\"type\":\"scattergeo\",\"marker\":{\"colorbar\":{\"outlinewidth\":0,\"ticks\":\"\"}}}],\"scatterpolar\":[{\"type\":\"scatterpolar\",\"marker\":{\"colorbar\":{\"outlinewidth\":0,\"ticks\":\"\"}}}],\"histogram\":[{\"marker\":{\"pattern\":{\"fillmode\":\"overlay\",\"size\":10,\"solidity\":0.2}},\"type\":\"histogram\"}],\"scattergl\":[{\"type\":\"scattergl\",\"marker\":{\"colorbar\":{\"outlinewidth\":0,\"ticks\":\"\"}}}],\"scatter3d\":[{\"type\":\"scatter3d\",\"line\":{\"colorbar\":{\"outlinewidth\":0,\"ticks\":\"\"}},\"marker\":{\"colorbar\":{\"outlinewidth\":0,\"ticks\":\"\"}}}],\"scattermapbox\":[{\"type\":\"scattermapbox\",\"marker\":{\"colorbar\":{\"outlinewidth\":0,\"ticks\":\"\"}}}],\"scatterternary\":[{\"type\":\"scatterternary\",\"marker\":{\"colorbar\":{\"outlinewidth\":0,\"ticks\":\"\"}}}],\"scattercarpet\":[{\"type\":\"scattercarpet\",\"marker\":{\"colorbar\":{\"outlinewidth\":0,\"ticks\":\"\"}}}],\"carpet\":[{\"aaxis\":{\"endlinecolor\":\"#2a3f5f\",\"gridcolor\":\"white\",\"linecolor\":\"white\",\"minorgridcolor\":\"white\",\"startlinecolor\":\"#2a3f5f\"},\"baxis\":{\"endlinecolor\":\"#2a3f5f\",\"gridcolor\":\"white\",\"linecolor\":\"white\",\"minorgridcolor\":\"white\",\"startlinecolor\":\"#2a3f5f\"},\"type\":\"carpet\"}],\"table\":[{\"cells\":{\"fill\":{\"color\":\"#EBF0F8\"},\"line\":{\"color\":\"white\"}},\"header\":{\"fill\":{\"color\":\"#C8D4E3\"},\"line\":{\"color\":\"white\"}},\"type\":\"table\"}],\"barpolar\":[{\"marker\":{\"line\":{\"color\":\"#E5ECF6\",\"width\":0.5},\"pattern\":{\"fillmode\":\"overlay\",\"size\":10,\"solidity\":0.2}},\"type\":\"barpolar\"}],\"pie\":[{\"automargin\":true,\"type\":\"pie\"}]},\"layout\":{\"autotypenumbers\":\"strict\",\"colorway\":[\"#636efa\",\"#EF553B\",\"#00cc96\",\"#ab63fa\",\"#FFA15A\",\"#19d3f3\",\"#FF6692\",\"#B6E880\",\"#FF97FF\",\"#FECB52\"],\"font\":{\"color\":\"#2a3f5f\"},\"hovermode\":\"closest\",\"hoverlabel\":{\"align\":\"left\"},\"paper_bgcolor\":\"white\",\"plot_bgcolor\":\"#E5ECF6\",\"polar\":{\"bgcolor\":\"#E5ECF6\",\"angularaxis\":{\"gridcolor\":\"white\",\"linecolor\":\"white\",\"ticks\":\"\"},\"radialaxis\":{\"gridcolor\":\"white\",\"linecolor\":\"white\",\"ticks\":\"\"}},\"ternary\":{\"bgcolor\":\"#E5ECF6\",\"aaxis\":{\"gridcolor\":\"white\",\"linecolor\":\"white\",\"ticks\":\"\"},\"baxis\":{\"gridcolor\":\"white\",\"linecolor\":\"white\",\"ticks\":\"\"},\"caxis\":{\"gridcolor\":\"white\",\"linecolor\":\"white\",\"ticks\":\"\"}},\"coloraxis\":{\"colorbar\":{\"outlinewidth\":0,\"ticks\":\"\"}},\"colorscale\":{\"sequential\":[[0.0,\"#0d0887\"],[0.1111111111111111,\"#46039f\"],[0.2222222222222222,\"#7201a8\"],[0.3333333333333333,\"#9c179e\"],[0.4444444444444444,\"#bd3786\"],[0.5555555555555556,\"#d8576b\"],[0.6666666666666666,\"#ed7953\"],[0.7777777777777778,\"#fb9f3a\"],[0.8888888888888888,\"#fdca26\"],[1.0,\"#f0f921\"]],\"sequentialminus\":[[0.0,\"#0d0887\"],[0.1111111111111111,\"#46039f\"],[0.2222222222222222,\"#7201a8\"],[0.3333333333333333,\"#9c179e\"],[0.4444444444444444,\"#bd3786\"],[0.5555555555555556,\"#d8576b\"],[0.6666666666666666,\"#ed7953\"],[0.7777777777777778,\"#fb9f3a\"],[0.8888888888888888,\"#fdca26\"],[1.0,\"#f0f921\"]],\"diverging\":[[0,\"#8e0152\"],[0.1,\"#c51b7d\"],[0.2,\"#de77ae\"],[0.3,\"#f1b6da\"],[0.4,\"#fde0ef\"],[0.5,\"#f7f7f7\"],[0.6,\"#e6f5d0\"],[0.7,\"#b8e186\"],[0.8,\"#7fbc41\"],[0.9,\"#4d9221\"],[1,\"#276419\"]]},\"xaxis\":{\"gridcolor\":\"white\",\"linecolor\":\"white\",\"ticks\":\"\",\"title\":{\"standoff\":15},\"zerolinecolor\":\"white\",\"automargin\":true,\"zerolinewidth\":2},\"yaxis\":{\"gridcolor\":\"white\",\"linecolor\":\"white\",\"ticks\":\"\",\"title\":{\"standoff\":15},\"zerolinecolor\":\"white\",\"automargin\":true,\"zerolinewidth\":2},\"scene\":{\"xaxis\":{\"backgroundcolor\":\"#E5ECF6\",\"gridcolor\":\"white\",\"linecolor\":\"white\",\"showbackground\":true,\"ticks\":\"\",\"zerolinecolor\":\"white\",\"gridwidth\":2},\"yaxis\":{\"backgroundcolor\":\"#E5ECF6\",\"gridcolor\":\"white\",\"linecolor\":\"white\",\"showbackground\":true,\"ticks\":\"\",\"zerolinecolor\":\"white\",\"gridwidth\":2},\"zaxis\":{\"backgroundcolor\":\"#E5ECF6\",\"gridcolor\":\"white\",\"linecolor\":\"white\",\"showbackground\":true,\"ticks\":\"\",\"zerolinecolor\":\"white\",\"gridwidth\":2}},\"shapedefaults\":{\"line\":{\"color\":\"#2a3f5f\"}},\"annotationdefaults\":{\"arrowcolor\":\"#2a3f5f\",\"arrowhead\":0,\"arrowwidth\":1},\"geo\":{\"bgcolor\":\"white\",\"landcolor\":\"#E5ECF6\",\"subunitcolor\":\"white\",\"showland\":true,\"showlakes\":true,\"lakecolor\":\"white\"},\"title\":{\"x\":0.05},\"mapbox\":{\"style\":\"light\"}}},\"xaxis\":{\"anchor\":\"y\",\"domain\":[0.0,1.0],\"title\":{\"text\":\"Age\"}},\"yaxis\":{\"anchor\":\"x\",\"domain\":[0.0,1.0],\"title\":{\"text\":\"count\"}},\"legend\":{\"title\":{\"text\":\"Gender\"},\"tracegroupgap\":0},\"title\":{\"text\":\"Age by Gender\"},\"barmode\":\"relative\"},                        {\"responsive\": true}                    ).then(function(){\n",
              "                            \n",
              "var gd = document.getElementById('158605bf-705c-46d6-a2e7-5f8baf48df52');\n",
              "var x = new MutationObserver(function (mutations, observer) {{\n",
              "        var display = window.getComputedStyle(gd).display;\n",
              "        if (!display || display === 'none') {{\n",
              "            console.log([gd, 'removed!']);\n",
              "            Plotly.purge(gd);\n",
              "            observer.disconnect();\n",
              "        }}\n",
              "}});\n",
              "\n",
              "// Listen for the removal of the full notebook cells\n",
              "var notebookContainer = gd.closest('#notebook-container');\n",
              "if (notebookContainer) {{\n",
              "    x.observe(notebookContainer, {childList: true});\n",
              "}}\n",
              "\n",
              "// Listen for the clearing of the current output cell\n",
              "var outputEl = gd.closest('.output');\n",
              "if (outputEl) {{\n",
              "    x.observe(outputEl, {childList: true});\n",
              "}}\n",
              "\n",
              "                        })                };                            </script>        </div>\n",
              "</body>\n",
              "</html>"
            ]
          },
          "metadata": {}
        }
      ]
    },
    {
      "cell_type": "markdown",
      "source": [
        "Gender and Platform VS Daily Usage Time (minutes)"
      ],
      "metadata": {
        "id": "vzRVd2wjQdvH"
      }
    },
    {
      "cell_type": "code",
      "source": [
        "plt = px.histogram(train_df, x='Posts_Per_Day', y='Platform' ,color='Gender', title='Posts Per Day by Gender')\n",
        "plt.show()\n"
      ],
      "metadata": {
        "colab": {
          "base_uri": "https://localhost:8080/",
          "height": 542
        },
        "id": "tvbbeZ2ZQeYF",
        "outputId": "bfb0f136-de5e-43e6-d42b-6c69c02c3282"
      },
      "execution_count": null,
      "outputs": [
        {
          "output_type": "display_data",
          "data": {
            "text/html": [
              "<html>\n",
              "<head><meta charset=\"utf-8\" /></head>\n",
              "<body>\n",
              "    <div>            <script src=\"https://cdnjs.cloudflare.com/ajax/libs/mathjax/2.7.5/MathJax.js?config=TeX-AMS-MML_SVG\"></script><script type=\"text/javascript\">if (window.MathJax && window.MathJax.Hub && window.MathJax.Hub.Config) {window.MathJax.Hub.Config({SVG: {font: \"STIX-Web\"}});}</script>                <script type=\"text/javascript\">window.PlotlyConfig = {MathJaxConfig: 'local'};</script>\n",
              "        <script charset=\"utf-8\" src=\"https://cdn.plot.ly/plotly-2.24.1.min.js\"></script>                <div id=\"1f457b60-4cf5-498c-b2ec-cae372c2a096\" class=\"plotly-graph-div\" style=\"height:525px; width:100%;\"></div>            <script type=\"text/javascript\">                                    window.PLOTLYENV=window.PLOTLYENV || {};                                    if (document.getElementById(\"1f457b60-4cf5-498c-b2ec-cae372c2a096\")) {                    Plotly.newPlot(                        \"1f457b60-4cf5-498c-b2ec-cae372c2a096\",                        [{\"alignmentgroup\":\"True\",\"bingroup\":\"y\",\"histfunc\":\"sum\",\"hovertemplate\":\"Gender=Female\\u003cbr\\u003esum of Posts_Per_Day=%{x}\\u003cbr\\u003ePlatform=%{y}\\u003cextra\\u003e\\u003c\\u002fextra\\u003e\",\"legendgroup\":\"Female\",\"marker\":{\"color\":\"#636efa\",\"pattern\":{\"shape\":\"\"}},\"name\":\"Female\",\"offsetgroup\":\"Female\",\"orientation\":\"h\",\"showlegend\":true,\"x\":[3.0,8.0,3.0,2.0,4.0,7.0,4.0,5.0,4.0,3.0,6.0,2.0,6.0,7.0,3.0,6.0,1.0,3.0,1.0,3.0,4.0,2.0,4.0,6.0,4.0,2.0,4.0,2.0,6.0,4.0,5.0,4.0,6.0,4.0,2.0,1.0,4.0,5.0,8.0,3.0,2.0,4.0,8.0,5.0,6.0,4.0,3.0,6.0,2.0,6.0,7.0,3.0,6.0,1.0,3.0,1.0,3.0,4.0,2.0,4.0,6.0,4.0,2.0,4.0,2.0,6.0,4.0,5.0,4.0,6.0,4.0,2.0,1.0,4.0,5.0,8.0,3.0,2.0,4.0,8.0,5.0,6.0,4.0,3.0,6.0,2.0,6.0,7.0,3.0,6.0,1.0,3.0,1.0,6.0,4.0,2.0,1.0,4.0,5.0,8.0,3.0,2.0,4.0,8.0,5.0,6.0,4.0,3.0,6.0,2.0,6.0,7.0,3.0,6.0,1.0,3.0,1.0,3.0,4.0,2.0,4.0,6.0,4.0,2.0,4.0,2.0,6.0,4.0,5.0,4.0,6.0,4.0,2.0,1.0,4.0,5.0,8.0,3.0,2.0,4.0,8.0,5.0,6.0,4.0,3.0,6.0,2.0,6.0,7.0,3.0,6.0,1.0,3.0,1.0,3.0,4.0,2.0,4.0,6.0,4.0,2.0,4.0,2.0,6.0,4.0,5.0,4.0,6.0,4.0,2.0,1.0,4.0,5.0,8.0,3.0,2.0,4.0,8.0,5.0,6.0,4.0,3.0,6.0,2.0,6.0,7.0,3.0,6.0,1.0,3.0,1.0,3.0,4.0,2.0,4.0,6.0,4.0,2.0,4.0,2.0,6.0,4.0,5.0,4.0,6.0,4.0,2.0,1.0,4.0,5.0,8.0,3.0,2.0,4.0,8.0,5.0,6.0,4.0,3.0,6.0,2.0,6.0,7.0,3.0,6.0,1.0,3.0,1.0,3.0,4.0,2.0,4.0,6.0,4.0,2.0,4.0,2.0,6.0,4.0,5.0,4.0,6.0,4.0,2.0,1.0,4.0,5.0,8.0,3.0,2.0,4.0,8.0,5.0,6.0,4.0,3.0,6.0,2.0,6.0,7.0,3.0,6.0,1.0,3.0,1.0,6.0,4.0,2.0,1.0,4.0,5.0,8.0,3.0,2.0,4.0,8.0,5.0,6.0,4.0,3.0,6.0,2.0,6.0,7.0,3.0,6.0,1.0,3.0,1.0,3.0,4.0,2.0,4.0,6.0,4.0,2.0,4.0,2.0,6.0,4.0,5.0,4.0,6.0,4.0,2.0,1.0,4.0,5.0,8.0,3.0,2.0,4.0,8.0,5.0,6.0,4.0,3.0,6.0,2.0,6.0,7.0,3.0,6.0,1.0,3.0,1.0,3.0,4.0,2.0,4.0,6.0,4.0,2.0,4.0,2.0,6.0,4.0,5.0,4.0,6.0,4.0,2.0,1.0,4.0],\"xaxis\":\"x\",\"y\":[\"Instagram\",\"Instagram\",\"Twitter\",\"LinkedIn\",\"Twitter\",\"Instagram\",\"Instagram\",\"Instagram\",\"Twitter\",\"Twitter\",\"Instagram\",\"LinkedIn\",\"Instagram\",\"Instagram\",\"Instagram\",\"Instagram\",\"LinkedIn\",\"Twitter\",\"LinkedIn\",\"Twitter\",\"Instagram\",\"Whatsapp\",\"Twitter\",\"Instagram\",\"Snapchat\",\"Whatsapp\",\"Instagram\",\"Whatsapp\",\"Instagram\",\"Whatsapp\",\"Instagram\",\"Whatsapp\",\"Instagram\",\"Whatsapp\",\"Snapchat\",\"Facebook\",\"Snapchat\",\"Instagram\",\"Instagram\",\"Twitter\",\"LinkedIn\",\"Twitter\",\"Instagram\",\"Instagram\",\"Instagram\",\"Twitter\",\"Twitter\",\"Instagram\",\"LinkedIn\",\"Instagram\",\"Instagram\",\"Instagram\",\"Instagram\",\"LinkedIn\",\"Twitter\",\"LinkedIn\",\"Twitter\",\"Instagram\",\"Whatsapp\",\"Twitter\",\"Instagram\",\"Snapchat\",\"Whatsapp\",\"Instagram\",\"Whatsapp\",\"Instagram\",\"Whatsapp\",\"Instagram\",\"Whatsapp\",\"Instagram\",\"Whatsapp\",\"Snapchat\",\"Facebook\",\"Snapchat\",\"Instagram\",\"Instagram\",\"Twitter\",\"LinkedIn\",\"Twitter\",\"Instagram\",\"Instagram\",\"Instagram\",\"Twitter\",\"Twitter\",\"Instagram\",\"LinkedIn\",\"Instagram\",\"Instagram\",\"Instagram\",\"Instagram\",\"LinkedIn\",\"Twitter\",\"LinkedIn\",\"Instagram\",\"Whatsapp\",\"Snapchat\",\"Facebook\",\"Snapchat\",\"Instagram\",\"Instagram\",\"Twitter\",\"LinkedIn\",\"Twitter\",\"Instagram\",\"Instagram\",\"Instagram\",\"Twitter\",\"Twitter\",\"Instagram\",\"LinkedIn\",\"Instagram\",\"Instagram\",\"Instagram\",\"Instagram\",\"LinkedIn\",\"Twitter\",\"LinkedIn\",\"Twitter\",\"Instagram\",\"Whatsapp\",\"Twitter\",\"Instagram\",\"Snapchat\",\"Whatsapp\",\"Instagram\",\"Whatsapp\",\"Instagram\",\"Whatsapp\",\"Instagram\",\"Whatsapp\",\"Instagram\",\"Whatsapp\",\"Snapchat\",\"Facebook\",\"Snapchat\",\"Instagram\",\"Instagram\",\"Twitter\",\"LinkedIn\",\"Twitter\",\"Instagram\",\"Instagram\",\"Instagram\",\"Twitter\",\"Twitter\",\"Instagram\",\"LinkedIn\",\"Instagram\",\"Instagram\",\"Instagram\",\"Instagram\",\"LinkedIn\",\"Twitter\",\"LinkedIn\",\"Twitter\",\"Instagram\",\"Whatsapp\",\"Twitter\",\"Instagram\",\"Snapchat\",\"Whatsapp\",\"Instagram\",\"Whatsapp\",\"Instagram\",\"Whatsapp\",\"Instagram\",\"Whatsapp\",\"Instagram\",\"Whatsapp\",\"Snapchat\",\"Facebook\",\"Snapchat\",\"Instagram\",\"Instagram\",\"Twitter\",\"LinkedIn\",\"Twitter\",\"Instagram\",\"Instagram\",\"Instagram\",\"Twitter\",\"Twitter\",\"Instagram\",\"LinkedIn\",\"Instagram\",\"Instagram\",\"Instagram\",\"Instagram\",\"LinkedIn\",\"Twitter\",\"LinkedIn\",\"Twitter\",\"Instagram\",\"Whatsapp\",\"Twitter\",\"Instagram\",\"Snapchat\",\"Whatsapp\",\"Instagram\",\"Whatsapp\",\"Instagram\",\"Whatsapp\",\"Instagram\",\"Whatsapp\",\"Instagram\",\"Whatsapp\",\"Snapchat\",\"Facebook\",\"Snapchat\",\"Instagram\",\"Instagram\",\"Twitter\",\"LinkedIn\",\"Twitter\",\"Instagram\",\"Instagram\",\"Instagram\",\"Twitter\",\"Twitter\",\"Instagram\",\"LinkedIn\",\"Instagram\",\"Instagram\",\"Instagram\",\"Instagram\",\"LinkedIn\",\"Twitter\",\"LinkedIn\",\"Twitter\",\"Instagram\",\"Whatsapp\",\"Twitter\",\"Instagram\",\"Snapchat\",\"Whatsapp\",\"Instagram\",\"Whatsapp\",\"Instagram\",\"Whatsapp\",\"Instagram\",\"Whatsapp\",\"Instagram\",\"Whatsapp\",\"Snapchat\",\"Facebook\",\"Snapchat\",\"Instagram\",\"Instagram\",\"Twitter\",\"LinkedIn\",\"Twitter\",\"Instagram\",\"Instagram\",\"Instagram\",\"Twitter\",\"Twitter\",\"Instagram\",\"LinkedIn\",\"Instagram\",\"Instagram\",\"Instagram\",\"Instagram\",\"LinkedIn\",\"Twitter\",\"LinkedIn\",\"Instagram\",\"Whatsapp\",\"Snapchat\",\"Facebook\",\"Snapchat\",\"Instagram\",\"Instagram\",\"Twitter\",\"LinkedIn\",\"Twitter\",\"Instagram\",\"Instagram\",\"Instagram\",\"Twitter\",\"Twitter\",\"Instagram\",\"LinkedIn\",\"Instagram\",\"Instagram\",\"Instagram\",\"Instagram\",\"LinkedIn\",\"Twitter\",\"LinkedIn\",\"Twitter\",\"Instagram\",\"Whatsapp\",\"Twitter\",\"Instagram\",\"Snapchat\",\"Whatsapp\",\"Instagram\",\"Whatsapp\",\"Instagram\",\"Whatsapp\",\"Instagram\",\"Whatsapp\",\"Instagram\",\"Whatsapp\",\"Snapchat\",\"Facebook\",\"Snapchat\",\"Instagram\",\"Instagram\",\"Twitter\",\"LinkedIn\",\"Twitter\",\"Instagram\",\"Instagram\",\"Instagram\",\"Twitter\",\"Twitter\",\"Instagram\",\"LinkedIn\",\"Instagram\",\"Instagram\",\"Instagram\",\"Instagram\",\"LinkedIn\",\"Twitter\",\"LinkedIn\",\"Twitter\",\"Instagram\",\"Whatsapp\",\"Twitter\",\"Instagram\",\"Snapchat\",\"Whatsapp\",\"Instagram\",\"Whatsapp\",\"Instagram\",\"Whatsapp\",\"Instagram\",\"Whatsapp\",\"Instagram\",\"Whatsapp\",\"Snapchat\",\"Facebook\",\"Snapchat\"],\"yaxis\":\"y\",\"type\":\"histogram\"},{\"alignmentgroup\":\"True\",\"bingroup\":\"y\",\"histfunc\":\"sum\",\"hovertemplate\":\"Gender=Male\\u003cbr\\u003esum of Posts_Per_Day=%{x}\\u003cbr\\u003ePlatform=%{y}\\u003cextra\\u003e\\u003c\\u002fextra\\u003e\",\"legendgroup\":\"Male\",\"marker\":{\"color\":\"#EF553B\",\"pattern\":{\"shape\":\"\"}},\"name\":\"Male\",\"offsetgroup\":\"Male\",\"orientation\":\"h\",\"showlegend\":true,\"x\":[5.0,1.0,4.0,5.0,1.0,6.0,3.0,2.0,2.0,2.0,4.0,5.0,2.0,4.0,1.0,4.0,7.0,5.0,6.0,1.0,3.0,1.0,3.0,6.0,5.0,3.0,1.0,4.0,2.0,2.0,1.0,3.0,2.0,3.0,5.0,3.0,4.0,1.0,5.0,7.0,1.0,6.0,3.0,2.0,2.0,2.0,4.0,7.0,2.0,4.0,1.0,4.0,7.0,5.0,6.0,1.0,3.0,1.0,3.0,6.0,5.0,3.0,1.0,4.0,2.0,2.0,1.0,3.0,2.0,3.0,5.0,3.0,4.0,1.0,5.0,7.0,1.0,6.0,3.0,2.0,2.0,2.0,4.0,7.0,2.0,4.0,1.0,4.0,7.0,5.0,2.0,3.0,5.0,3.0,4.0,1.0,5.0,7.0,1.0,6.0,3.0,2.0,2.0,2.0,4.0,7.0,2.0,4.0,1.0,4.0,7.0,5.0,6.0,1.0,3.0,1.0,3.0,6.0,5.0,3.0,1.0,4.0,2.0,2.0,1.0,3.0,2.0,3.0,5.0,3.0,4.0,1.0,5.0,7.0,1.0,6.0,3.0,2.0,2.0,2.0,4.0,7.0,2.0,4.0,1.0,4.0,7.0,5.0,6.0,1.0,3.0,1.0,3.0,6.0,5.0,3.0,1.0,4.0,2.0,2.0,1.0,3.0,2.0,3.0,5.0,3.0,4.0,1.0,5.0,7.0,1.0,6.0,3.0,2.0,2.0,2.0,4.0,7.0,2.0,4.0,1.0,4.0,7.0,5.0,6.0,1.0,3.0,1.0,3.0,6.0,5.0,3.0,1.0,4.0,2.0,2.0,1.0,3.0,2.0,3.0,5.0,3.0,4.0,1.0,5.0,7.0,1.0,6.0,3.0,2.0,2.0,2.0,4.0,7.0,2.0,4.0,1.0,4.0,7.0,5.0,6.0,1.0,3.0,1.0,3.0,6.0,5.0,3.0,1.0,4.0,2.0,2.0,1.0,3.0,2.0,3.0,5.0,3.0,4.0,1.0,5.0,7.0,1.0,6.0,3.0,2.0,2.0,2.0,4.0,7.0,2.0,4.0,1.0,4.0,7.0,5.0,2.0,3.0,5.0,3.0,4.0,1.0,5.0,7.0,1.0,6.0,3.0,2.0,2.0,2.0,4.0,7.0,2.0,4.0,1.0,4.0,7.0,5.0,6.0,1.0,3.0,1.0,3.0,6.0,5.0,3.0,1.0,4.0,2.0,2.0,1.0,3.0,2.0,3.0,5.0,3.0,4.0,1.0,5.0,7.0,1.0,6.0,3.0,2.0,2.0,2.0,4.0,7.0,2.0,4.0,1.0,4.0,7.0,5.0,6.0,1.0,3.0,1.0,3.0,6.0,5.0,3.0,1.0,4.0,2.0,2.0,1.0,3.0,2.0,3.0,5.0,3.0],\"xaxis\":\"x\",\"y\":[\"Twitter\",\"LinkedIn\",\"Instagram\",\"Instagram\",\"LinkedIn\",\"Twitter\",\"Twitter\",\"Facebook\",\"LinkedIn\",\"Facebook\",\"Twitter\",\"Instagram\",\"Facebook\",\"Twitter\",\"LinkedIn\",\"Twitter\",\"Instagram\",\"Instagram\",\"Instagram\",\"LinkedIn\",\"Telegram\",\"Facebook\",\"Whatsapp\",\"Twitter\",\"Instagram\",\"Telegram\",\"Twitter\",\"Telegram\",\"Twitter\",\"Telegram\",\"Twitter\",\"Telegram\",\"Twitter\",\"Telegram\",\"Instagram\",\"Whatsapp\",\"Twitter\",\"LinkedIn\",\"Instagram\",\"Instagram\",\"LinkedIn\",\"Twitter\",\"Twitter\",\"Facebook\",\"LinkedIn\",\"Facebook\",\"Twitter\",\"Instagram\",\"Facebook\",\"Twitter\",\"LinkedIn\",\"Twitter\",\"Instagram\",\"Instagram\",\"Instagram\",\"LinkedIn\",\"Telegram\",\"Facebook\",\"Whatsapp\",\"Twitter\",\"Instagram\",\"Telegram\",\"Twitter\",\"Telegram\",\"Twitter\",\"Telegram\",\"Twitter\",\"Telegram\",\"Twitter\",\"Telegram\",\"Instagram\",\"Whatsapp\",\"Twitter\",\"LinkedIn\",\"Instagram\",\"Instagram\",\"LinkedIn\",\"Twitter\",\"Twitter\",\"Facebook\",\"LinkedIn\",\"Facebook\",\"Twitter\",\"Instagram\",\"Facebook\",\"Twitter\",\"LinkedIn\",\"Twitter\",\"Instagram\",\"Instagram\",\"Twitter\",\"Telegram\",\"Instagram\",\"Whatsapp\",\"Twitter\",\"LinkedIn\",\"Instagram\",\"Instagram\",\"LinkedIn\",\"Twitter\",\"Twitter\",\"Facebook\",\"LinkedIn\",\"Facebook\",\"Twitter\",\"Instagram\",\"Facebook\",\"Twitter\",\"LinkedIn\",\"Twitter\",\"Instagram\",\"Instagram\",\"Instagram\",\"LinkedIn\",\"Telegram\",\"Facebook\",\"Whatsapp\",\"Twitter\",\"Instagram\",\"Telegram\",\"Twitter\",\"Telegram\",\"Twitter\",\"Telegram\",\"Twitter\",\"Telegram\",\"Twitter\",\"Telegram\",\"Instagram\",\"Whatsapp\",\"Twitter\",\"LinkedIn\",\"Instagram\",\"Instagram\",\"LinkedIn\",\"Twitter\",\"Twitter\",\"Facebook\",\"LinkedIn\",\"Facebook\",\"Twitter\",\"Instagram\",\"Facebook\",\"Twitter\",\"LinkedIn\",\"Twitter\",\"Instagram\",\"Instagram\",\"Instagram\",\"LinkedIn\",\"Telegram\",\"Facebook\",\"Whatsapp\",\"Twitter\",\"Instagram\",\"Telegram\",\"Twitter\",\"Telegram\",\"Twitter\",\"Telegram\",\"Twitter\",\"Telegram\",\"Twitter\",\"Telegram\",\"Instagram\",\"Whatsapp\",\"Twitter\",\"LinkedIn\",\"Instagram\",\"Instagram\",\"LinkedIn\",\"Twitter\",\"Twitter\",\"Facebook\",\"LinkedIn\",\"Facebook\",\"Twitter\",\"Instagram\",\"Facebook\",\"Twitter\",\"LinkedIn\",\"Twitter\",\"Instagram\",\"Instagram\",\"Instagram\",\"LinkedIn\",\"Telegram\",\"Facebook\",\"Whatsapp\",\"Twitter\",\"Instagram\",\"Telegram\",\"Twitter\",\"Telegram\",\"Twitter\",\"Telegram\",\"Twitter\",\"Telegram\",\"Twitter\",\"Telegram\",\"Instagram\",\"Whatsapp\",\"Twitter\",\"LinkedIn\",\"Instagram\",\"Instagram\",\"LinkedIn\",\"Twitter\",\"Twitter\",\"Facebook\",\"LinkedIn\",\"Facebook\",\"Twitter\",\"Instagram\",\"Facebook\",\"Twitter\",\"LinkedIn\",\"Twitter\",\"Instagram\",\"Instagram\",\"Instagram\",\"LinkedIn\",\"Telegram\",\"Facebook\",\"Whatsapp\",\"Twitter\",\"Instagram\",\"Telegram\",\"Twitter\",\"Telegram\",\"Twitter\",\"Telegram\",\"Twitter\",\"Telegram\",\"Twitter\",\"Telegram\",\"Instagram\",\"Whatsapp\",\"Twitter\",\"LinkedIn\",\"Instagram\",\"Instagram\",\"LinkedIn\",\"Twitter\",\"Twitter\",\"Facebook\",\"LinkedIn\",\"Facebook\",\"Twitter\",\"Instagram\",\"Facebook\",\"Twitter\",\"LinkedIn\",\"Twitter\",\"Instagram\",\"Instagram\",\"Twitter\",\"Telegram\",\"Instagram\",\"Whatsapp\",\"Twitter\",\"LinkedIn\",\"Instagram\",\"Instagram\",\"LinkedIn\",\"Twitter\",\"Twitter\",\"Facebook\",\"LinkedIn\",\"Facebook\",\"Twitter\",\"Instagram\",\"Facebook\",\"Twitter\",\"LinkedIn\",\"Twitter\",\"Instagram\",\"Instagram\",\"Instagram\",\"LinkedIn\",\"Telegram\",\"Facebook\",\"Whatsapp\",\"Twitter\",\"Instagram\",\"Telegram\",\"Twitter\",\"Telegram\",\"Twitter\",\"Telegram\",\"Twitter\",\"Telegram\",\"Twitter\",\"Telegram\",\"Instagram\",\"Whatsapp\",\"Twitter\",\"LinkedIn\",\"Instagram\",\"Instagram\",\"LinkedIn\",\"Twitter\",\"Twitter\",\"Facebook\",\"LinkedIn\",\"Facebook\",\"Twitter\",\"Instagram\",\"Facebook\",\"Twitter\",\"LinkedIn\",\"Twitter\",\"Instagram\",\"Instagram\",\"Instagram\",\"LinkedIn\",\"Telegram\",\"Facebook\",\"Whatsapp\",\"Twitter\",\"Instagram\",\"Telegram\",\"Twitter\",\"Telegram\",\"Twitter\",\"Telegram\",\"Twitter\",\"Telegram\",\"Twitter\",\"Telegram\",\"Instagram\",\"Whatsapp\"],\"yaxis\":\"y\",\"type\":\"histogram\"},{\"alignmentgroup\":\"True\",\"bingroup\":\"y\",\"histfunc\":\"sum\",\"hovertemplate\":\"Gender=Non-binary\\u003cbr\\u003esum of Posts_Per_Day=%{x}\\u003cbr\\u003ePlatform=%{y}\\u003cextra\\u003e\\u003c\\u002fextra\\u003e\",\"legendgroup\":\"Non-binary\",\"marker\":{\"color\":\"#00cc96\",\"pattern\":{\"shape\":\"\"}},\"name\":\"Non-binary\",\"offsetgroup\":\"Non-binary\",\"orientation\":\"h\",\"showlegend\":true,\"x\":[2.0,6.0,3.0,1.0,1.0,8.0,1.0,1.0,3.0,1.0,2.0,2.0,2.0,2.0,2.0,2.0,1.0,2.0,3.0,3.0,1.0,3.0,2.0,1.0,1.0,4.0,2.0,2.0,6.0,3.0,1.0,1.0,8.0,1.0,1.0,3.0,1.0,2.0,2.0,2.0,2.0,2.0,2.0,1.0,2.0,3.0,3.0,1.0,3.0,2.0,1.0,1.0,4.0,2.0,2.0,6.0,3.0,1.0,1.0,8.0,1.0,1.0,3.0,1.0,2.0,2.0,2.0,1.0,4.0,2.0,2.0,6.0,3.0,1.0,1.0,8.0,1.0,1.0,3.0,1.0,2.0,2.0,2.0,2.0,2.0,2.0,1.0,2.0,3.0,3.0,1.0,3.0,2.0,1.0,1.0,4.0,2.0,2.0,6.0,3.0,1.0,1.0,8.0,1.0,1.0,3.0,1.0,2.0,2.0,2.0,2.0,2.0,2.0,1.0,2.0,3.0,3.0,1.0,3.0,2.0,1.0,1.0,4.0,2.0,2.0,6.0,3.0,1.0,1.0,8.0,1.0,1.0,3.0,1.0,2.0,2.0,2.0,2.0,2.0,2.0,1.0,2.0,3.0,3.0,1.0,3.0,2.0,1.0,1.0,4.0,2.0,2.0,6.0,3.0,1.0,1.0,8.0,1.0,1.0,3.0,1.0,2.0,2.0,2.0,2.0,2.0,2.0,1.0,2.0,3.0,3.0,1.0,3.0,2.0,1.0,1.0,4.0,2.0,2.0,6.0,3.0,1.0,1.0,8.0,1.0,1.0,3.0,1.0,2.0,2.0,2.0,1.0,4.0,2.0,2.0,6.0,3.0,1.0,1.0,8.0,1.0,1.0,3.0,1.0,2.0,2.0,2.0,2.0,2.0,2.0,1.0,2.0,3.0,3.0,1.0,3.0,2.0,1.0,1.0,4.0,2.0,2.0,6.0,3.0,1.0,1.0,8.0,1.0,1.0,3.0,1.0,2.0,2.0,2.0,2.0,2.0,2.0,1.0,2.0,3.0,3.0,1.0,3.0,2.0,1.0,1.0,4.0,2.0],\"xaxis\":\"x\",\"y\":[\"Facebook\",\"Facebook\",\"Facebook\",\"Facebook\",\"LinkedIn\",\"Instagram\",\"LinkedIn\",\"Facebook\",\"Twitter\",\"LinkedIn\",\"Facebook\",\"Facebook\",\"Facebook\",\"Facebook\",\"Snapchat\",\"Telegram\",\"Facebook\",\"Snapchat\",\"Facebook\",\"Snapchat\",\"Facebook\",\"Snapchat\",\"Facebook\",\"Snapchat\",\"Facebook\",\"Twitter\",\"Telegram\",\"Facebook\",\"Facebook\",\"Facebook\",\"Facebook\",\"LinkedIn\",\"Instagram\",\"LinkedIn\",\"Facebook\",\"Twitter\",\"LinkedIn\",\"Facebook\",\"Facebook\",\"Facebook\",\"Facebook\",\"Snapchat\",\"Telegram\",\"Facebook\",\"Snapchat\",\"Facebook\",\"Snapchat\",\"Facebook\",\"Snapchat\",\"Facebook\",\"Snapchat\",\"Facebook\",\"Twitter\",\"Telegram\",\"Facebook\",\"Facebook\",\"Facebook\",\"Facebook\",\"LinkedIn\",\"Instagram\",\"LinkedIn\",\"Facebook\",\"Twitter\",\"LinkedIn\",\"Facebook\",\"Facebook\",\"Facebook\",\"Facebook\",\"Twitter\",\"Telegram\",\"Facebook\",\"Facebook\",\"Facebook\",\"Facebook\",\"LinkedIn\",\"Instagram\",\"LinkedIn\",\"Facebook\",\"Twitter\",\"LinkedIn\",\"Facebook\",\"Facebook\",\"Facebook\",\"Facebook\",\"Snapchat\",\"Telegram\",\"Facebook\",\"Snapchat\",\"Facebook\",\"Snapchat\",\"Facebook\",\"Snapchat\",\"Facebook\",\"Snapchat\",\"Facebook\",\"Twitter\",\"Telegram\",\"Facebook\",\"Facebook\",\"Facebook\",\"Facebook\",\"LinkedIn\",\"Instagram\",\"LinkedIn\",\"Facebook\",\"Twitter\",\"LinkedIn\",\"Facebook\",\"Facebook\",\"Facebook\",\"Facebook\",\"Snapchat\",\"Telegram\",\"Facebook\",\"Snapchat\",\"Facebook\",\"Snapchat\",\"Facebook\",\"Snapchat\",\"Facebook\",\"Snapchat\",\"Facebook\",\"Twitter\",\"Telegram\",\"Facebook\",\"Facebook\",\"Facebook\",\"Facebook\",\"LinkedIn\",\"Instagram\",\"LinkedIn\",\"Facebook\",\"Twitter\",\"LinkedIn\",\"Facebook\",\"Facebook\",\"Facebook\",\"Facebook\",\"Snapchat\",\"Telegram\",\"Facebook\",\"Snapchat\",\"Facebook\",\"Snapchat\",\"Facebook\",\"Snapchat\",\"Facebook\",\"Snapchat\",\"Facebook\",\"Twitter\",\"Telegram\",\"Facebook\",\"Facebook\",\"Facebook\",\"Facebook\",\"LinkedIn\",\"Instagram\",\"LinkedIn\",\"Facebook\",\"Twitter\",\"LinkedIn\",\"Facebook\",\"Facebook\",\"Facebook\",\"Facebook\",\"Snapchat\",\"Telegram\",\"Facebook\",\"Snapchat\",\"Facebook\",\"Snapchat\",\"Facebook\",\"Snapchat\",\"Facebook\",\"Snapchat\",\"Facebook\",\"Twitter\",\"Telegram\",\"Facebook\",\"Facebook\",\"Facebook\",\"Facebook\",\"LinkedIn\",\"Instagram\",\"LinkedIn\",\"Facebook\",\"Twitter\",\"LinkedIn\",\"Facebook\",\"Facebook\",\"Facebook\",\"Facebook\",\"Twitter\",\"Telegram\",\"Facebook\",\"Facebook\",\"Facebook\",\"Facebook\",\"LinkedIn\",\"Instagram\",\"LinkedIn\",\"Facebook\",\"Twitter\",\"LinkedIn\",\"Facebook\",\"Facebook\",\"Facebook\",\"Facebook\",\"Snapchat\",\"Telegram\",\"Facebook\",\"Snapchat\",\"Facebook\",\"Snapchat\",\"Facebook\",\"Snapchat\",\"Facebook\",\"Snapchat\",\"Facebook\",\"Twitter\",\"Telegram\",\"Facebook\",\"Facebook\",\"Facebook\",\"Facebook\",\"LinkedIn\",\"Instagram\",\"LinkedIn\",\"Facebook\",\"Twitter\",\"LinkedIn\",\"Facebook\",\"Facebook\",\"Facebook\",\"Facebook\",\"Snapchat\",\"Telegram\",\"Facebook\",\"Snapchat\",\"Facebook\",\"Snapchat\",\"Facebook\",\"Snapchat\",\"Facebook\",\"Snapchat\",\"Facebook\",\"Twitter\",\"Telegram\"],\"yaxis\":\"y\",\"type\":\"histogram\"}],                        {\"template\":{\"data\":{\"histogram2dcontour\":[{\"type\":\"histogram2dcontour\",\"colorbar\":{\"outlinewidth\":0,\"ticks\":\"\"},\"colorscale\":[[0.0,\"#0d0887\"],[0.1111111111111111,\"#46039f\"],[0.2222222222222222,\"#7201a8\"],[0.3333333333333333,\"#9c179e\"],[0.4444444444444444,\"#bd3786\"],[0.5555555555555556,\"#d8576b\"],[0.6666666666666666,\"#ed7953\"],[0.7777777777777778,\"#fb9f3a\"],[0.8888888888888888,\"#fdca26\"],[1.0,\"#f0f921\"]]}],\"choropleth\":[{\"type\":\"choropleth\",\"colorbar\":{\"outlinewidth\":0,\"ticks\":\"\"}}],\"histogram2d\":[{\"type\":\"histogram2d\",\"colorbar\":{\"outlinewidth\":0,\"ticks\":\"\"},\"colorscale\":[[0.0,\"#0d0887\"],[0.1111111111111111,\"#46039f\"],[0.2222222222222222,\"#7201a8\"],[0.3333333333333333,\"#9c179e\"],[0.4444444444444444,\"#bd3786\"],[0.5555555555555556,\"#d8576b\"],[0.6666666666666666,\"#ed7953\"],[0.7777777777777778,\"#fb9f3a\"],[0.8888888888888888,\"#fdca26\"],[1.0,\"#f0f921\"]]}],\"heatmap\":[{\"type\":\"heatmap\",\"colorbar\":{\"outlinewidth\":0,\"ticks\":\"\"},\"colorscale\":[[0.0,\"#0d0887\"],[0.1111111111111111,\"#46039f\"],[0.2222222222222222,\"#7201a8\"],[0.3333333333333333,\"#9c179e\"],[0.4444444444444444,\"#bd3786\"],[0.5555555555555556,\"#d8576b\"],[0.6666666666666666,\"#ed7953\"],[0.7777777777777778,\"#fb9f3a\"],[0.8888888888888888,\"#fdca26\"],[1.0,\"#f0f921\"]]}],\"heatmapgl\":[{\"type\":\"heatmapgl\",\"colorbar\":{\"outlinewidth\":0,\"ticks\":\"\"},\"colorscale\":[[0.0,\"#0d0887\"],[0.1111111111111111,\"#46039f\"],[0.2222222222222222,\"#7201a8\"],[0.3333333333333333,\"#9c179e\"],[0.4444444444444444,\"#bd3786\"],[0.5555555555555556,\"#d8576b\"],[0.6666666666666666,\"#ed7953\"],[0.7777777777777778,\"#fb9f3a\"],[0.8888888888888888,\"#fdca26\"],[1.0,\"#f0f921\"]]}],\"contourcarpet\":[{\"type\":\"contourcarpet\",\"colorbar\":{\"outlinewidth\":0,\"ticks\":\"\"}}],\"contour\":[{\"type\":\"contour\",\"colorbar\":{\"outlinewidth\":0,\"ticks\":\"\"},\"colorscale\":[[0.0,\"#0d0887\"],[0.1111111111111111,\"#46039f\"],[0.2222222222222222,\"#7201a8\"],[0.3333333333333333,\"#9c179e\"],[0.4444444444444444,\"#bd3786\"],[0.5555555555555556,\"#d8576b\"],[0.6666666666666666,\"#ed7953\"],[0.7777777777777778,\"#fb9f3a\"],[0.8888888888888888,\"#fdca26\"],[1.0,\"#f0f921\"]]}],\"surface\":[{\"type\":\"surface\",\"colorbar\":{\"outlinewidth\":0,\"ticks\":\"\"},\"colorscale\":[[0.0,\"#0d0887\"],[0.1111111111111111,\"#46039f\"],[0.2222222222222222,\"#7201a8\"],[0.3333333333333333,\"#9c179e\"],[0.4444444444444444,\"#bd3786\"],[0.5555555555555556,\"#d8576b\"],[0.6666666666666666,\"#ed7953\"],[0.7777777777777778,\"#fb9f3a\"],[0.8888888888888888,\"#fdca26\"],[1.0,\"#f0f921\"]]}],\"mesh3d\":[{\"type\":\"mesh3d\",\"colorbar\":{\"outlinewidth\":0,\"ticks\":\"\"}}],\"scatter\":[{\"fillpattern\":{\"fillmode\":\"overlay\",\"size\":10,\"solidity\":0.2},\"type\":\"scatter\"}],\"parcoords\":[{\"type\":\"parcoords\",\"line\":{\"colorbar\":{\"outlinewidth\":0,\"ticks\":\"\"}}}],\"scatterpolargl\":[{\"type\":\"scatterpolargl\",\"marker\":{\"colorbar\":{\"outlinewidth\":0,\"ticks\":\"\"}}}],\"bar\":[{\"error_x\":{\"color\":\"#2a3f5f\"},\"error_y\":{\"color\":\"#2a3f5f\"},\"marker\":{\"line\":{\"color\":\"#E5ECF6\",\"width\":0.5},\"pattern\":{\"fillmode\":\"overlay\",\"size\":10,\"solidity\":0.2}},\"type\":\"bar\"}],\"scattergeo\":[{\"type\":\"scattergeo\",\"marker\":{\"colorbar\":{\"outlinewidth\":0,\"ticks\":\"\"}}}],\"scatterpolar\":[{\"type\":\"scatterpolar\",\"marker\":{\"colorbar\":{\"outlinewidth\":0,\"ticks\":\"\"}}}],\"histogram\":[{\"marker\":{\"pattern\":{\"fillmode\":\"overlay\",\"size\":10,\"solidity\":0.2}},\"type\":\"histogram\"}],\"scattergl\":[{\"type\":\"scattergl\",\"marker\":{\"colorbar\":{\"outlinewidth\":0,\"ticks\":\"\"}}}],\"scatter3d\":[{\"type\":\"scatter3d\",\"line\":{\"colorbar\":{\"outlinewidth\":0,\"ticks\":\"\"}},\"marker\":{\"colorbar\":{\"outlinewidth\":0,\"ticks\":\"\"}}}],\"scattermapbox\":[{\"type\":\"scattermapbox\",\"marker\":{\"colorbar\":{\"outlinewidth\":0,\"ticks\":\"\"}}}],\"scatterternary\":[{\"type\":\"scatterternary\",\"marker\":{\"colorbar\":{\"outlinewidth\":0,\"ticks\":\"\"}}}],\"scattercarpet\":[{\"type\":\"scattercarpet\",\"marker\":{\"colorbar\":{\"outlinewidth\":0,\"ticks\":\"\"}}}],\"carpet\":[{\"aaxis\":{\"endlinecolor\":\"#2a3f5f\",\"gridcolor\":\"white\",\"linecolor\":\"white\",\"minorgridcolor\":\"white\",\"startlinecolor\":\"#2a3f5f\"},\"baxis\":{\"endlinecolor\":\"#2a3f5f\",\"gridcolor\":\"white\",\"linecolor\":\"white\",\"minorgridcolor\":\"white\",\"startlinecolor\":\"#2a3f5f\"},\"type\":\"carpet\"}],\"table\":[{\"cells\":{\"fill\":{\"color\":\"#EBF0F8\"},\"line\":{\"color\":\"white\"}},\"header\":{\"fill\":{\"color\":\"#C8D4E3\"},\"line\":{\"color\":\"white\"}},\"type\":\"table\"}],\"barpolar\":[{\"marker\":{\"line\":{\"color\":\"#E5ECF6\",\"width\":0.5},\"pattern\":{\"fillmode\":\"overlay\",\"size\":10,\"solidity\":0.2}},\"type\":\"barpolar\"}],\"pie\":[{\"automargin\":true,\"type\":\"pie\"}]},\"layout\":{\"autotypenumbers\":\"strict\",\"colorway\":[\"#636efa\",\"#EF553B\",\"#00cc96\",\"#ab63fa\",\"#FFA15A\",\"#19d3f3\",\"#FF6692\",\"#B6E880\",\"#FF97FF\",\"#FECB52\"],\"font\":{\"color\":\"#2a3f5f\"},\"hovermode\":\"closest\",\"hoverlabel\":{\"align\":\"left\"},\"paper_bgcolor\":\"white\",\"plot_bgcolor\":\"#E5ECF6\",\"polar\":{\"bgcolor\":\"#E5ECF6\",\"angularaxis\":{\"gridcolor\":\"white\",\"linecolor\":\"white\",\"ticks\":\"\"},\"radialaxis\":{\"gridcolor\":\"white\",\"linecolor\":\"white\",\"ticks\":\"\"}},\"ternary\":{\"bgcolor\":\"#E5ECF6\",\"aaxis\":{\"gridcolor\":\"white\",\"linecolor\":\"white\",\"ticks\":\"\"},\"baxis\":{\"gridcolor\":\"white\",\"linecolor\":\"white\",\"ticks\":\"\"},\"caxis\":{\"gridcolor\":\"white\",\"linecolor\":\"white\",\"ticks\":\"\"}},\"coloraxis\":{\"colorbar\":{\"outlinewidth\":0,\"ticks\":\"\"}},\"colorscale\":{\"sequential\":[[0.0,\"#0d0887\"],[0.1111111111111111,\"#46039f\"],[0.2222222222222222,\"#7201a8\"],[0.3333333333333333,\"#9c179e\"],[0.4444444444444444,\"#bd3786\"],[0.5555555555555556,\"#d8576b\"],[0.6666666666666666,\"#ed7953\"],[0.7777777777777778,\"#fb9f3a\"],[0.8888888888888888,\"#fdca26\"],[1.0,\"#f0f921\"]],\"sequentialminus\":[[0.0,\"#0d0887\"],[0.1111111111111111,\"#46039f\"],[0.2222222222222222,\"#7201a8\"],[0.3333333333333333,\"#9c179e\"],[0.4444444444444444,\"#bd3786\"],[0.5555555555555556,\"#d8576b\"],[0.6666666666666666,\"#ed7953\"],[0.7777777777777778,\"#fb9f3a\"],[0.8888888888888888,\"#fdca26\"],[1.0,\"#f0f921\"]],\"diverging\":[[0,\"#8e0152\"],[0.1,\"#c51b7d\"],[0.2,\"#de77ae\"],[0.3,\"#f1b6da\"],[0.4,\"#fde0ef\"],[0.5,\"#f7f7f7\"],[0.6,\"#e6f5d0\"],[0.7,\"#b8e186\"],[0.8,\"#7fbc41\"],[0.9,\"#4d9221\"],[1,\"#276419\"]]},\"xaxis\":{\"gridcolor\":\"white\",\"linecolor\":\"white\",\"ticks\":\"\",\"title\":{\"standoff\":15},\"zerolinecolor\":\"white\",\"automargin\":true,\"zerolinewidth\":2},\"yaxis\":{\"gridcolor\":\"white\",\"linecolor\":\"white\",\"ticks\":\"\",\"title\":{\"standoff\":15},\"zerolinecolor\":\"white\",\"automargin\":true,\"zerolinewidth\":2},\"scene\":{\"xaxis\":{\"backgroundcolor\":\"#E5ECF6\",\"gridcolor\":\"white\",\"linecolor\":\"white\",\"showbackground\":true,\"ticks\":\"\",\"zerolinecolor\":\"white\",\"gridwidth\":2},\"yaxis\":{\"backgroundcolor\":\"#E5ECF6\",\"gridcolor\":\"white\",\"linecolor\":\"white\",\"showbackground\":true,\"ticks\":\"\",\"zerolinecolor\":\"white\",\"gridwidth\":2},\"zaxis\":{\"backgroundcolor\":\"#E5ECF6\",\"gridcolor\":\"white\",\"linecolor\":\"white\",\"showbackground\":true,\"ticks\":\"\",\"zerolinecolor\":\"white\",\"gridwidth\":2}},\"shapedefaults\":{\"line\":{\"color\":\"#2a3f5f\"}},\"annotationdefaults\":{\"arrowcolor\":\"#2a3f5f\",\"arrowhead\":0,\"arrowwidth\":1},\"geo\":{\"bgcolor\":\"white\",\"landcolor\":\"#E5ECF6\",\"subunitcolor\":\"white\",\"showland\":true,\"showlakes\":true,\"lakecolor\":\"white\"},\"title\":{\"x\":0.05},\"mapbox\":{\"style\":\"light\"}}},\"xaxis\":{\"anchor\":\"y\",\"domain\":[0.0,1.0],\"title\":{\"text\":\"sum of Posts_Per_Day\"}},\"yaxis\":{\"anchor\":\"x\",\"domain\":[0.0,1.0],\"title\":{\"text\":\"Platform\"}},\"legend\":{\"title\":{\"text\":\"Gender\"},\"tracegroupgap\":0},\"title\":{\"text\":\"Posts Per Day by Gender\"},\"barmode\":\"relative\"},                        {\"responsive\": true}                    ).then(function(){\n",
              "                            \n",
              "var gd = document.getElementById('1f457b60-4cf5-498c-b2ec-cae372c2a096');\n",
              "var x = new MutationObserver(function (mutations, observer) {{\n",
              "        var display = window.getComputedStyle(gd).display;\n",
              "        if (!display || display === 'none') {{\n",
              "            console.log([gd, 'removed!']);\n",
              "            Plotly.purge(gd);\n",
              "            observer.disconnect();\n",
              "        }}\n",
              "}});\n",
              "\n",
              "// Listen for the removal of the full notebook cells\n",
              "var notebookContainer = gd.closest('#notebook-container');\n",
              "if (notebookContainer) {{\n",
              "    x.observe(notebookContainer, {childList: true});\n",
              "}}\n",
              "\n",
              "// Listen for the clearing of the current output cell\n",
              "var outputEl = gd.closest('.output');\n",
              "if (outputEl) {{\n",
              "    x.observe(outputEl, {childList: true});\n",
              "}}\n",
              "\n",
              "                        })                };                            </script>        </div>\n",
              "</body>\n",
              "</html>"
            ]
          },
          "metadata": {}
        }
      ]
    },
    {
      "cell_type": "markdown",
      "source": [
        "Gender VS Emotions"
      ],
      "metadata": {
        "id": "hgBpLZfoQpr4"
      }
    },
    {
      "cell_type": "code",
      "source": [
        "# checking the Gender againest the Dominant_Emotion\n",
        "grouped = train_df.groupby(['Gender', 'Dominant_Emotion'])\n",
        "\n",
        "# count the number of rows in each group\n",
        "counts = grouped.size()\n",
        "\n",
        "# print the counts\n",
        "print(counts)"
      ],
      "metadata": {
        "colab": {
          "base_uri": "https://localhost:8080/"
        },
        "id": "Rvq3zDDeQgnS",
        "outputId": "3afacc6e-88a2-43ee-8609-018d41a69a02"
      },
      "execution_count": null,
      "outputs": [
        {
          "output_type": "stream",
          "name": "stdout",
          "text": [
            "Gender      Dominant_Emotion\n",
            "Female      Anger                54\n",
            "            Anxiety              54\n",
            "            Boredom              30\n",
            "            Happiness           102\n",
            "            Neutral              56\n",
            "            Sadness              48\n",
            "Male        Anger                58\n",
            "            Anxiety              56\n",
            "            Boredom              54\n",
            "            Happiness            66\n",
            "            Neutral              46\n",
            "            Sadness              52\n",
            "Non-binary  Anger                10\n",
            "            Anxiety              46\n",
            "            Boredom              46\n",
            "            Happiness            18\n",
            "            Neutral              82\n",
            "            Sadness              46\n",
            "dtype: int64\n"
          ]
        }
      ]
    },
    {
      "cell_type": "code",
      "source": [
        "# ploting\n",
        "plt = px.histogram(train_df, x='Gender', color='Dominant_Emotion', title='Dominant Emotion by Gender')\n",
        "plt.show()"
      ],
      "metadata": {
        "colab": {
          "base_uri": "https://localhost:8080/",
          "height": 542
        },
        "id": "PHgD5jL1Q4cI",
        "outputId": "e331b850-f2b2-448b-d35c-f752154733ec"
      },
      "execution_count": null,
      "outputs": [
        {
          "output_type": "display_data",
          "data": {
            "text/html": [
              "<html>\n",
              "<head><meta charset=\"utf-8\" /></head>\n",
              "<body>\n",
              "    <div>            <script src=\"https://cdnjs.cloudflare.com/ajax/libs/mathjax/2.7.5/MathJax.js?config=TeX-AMS-MML_SVG\"></script><script type=\"text/javascript\">if (window.MathJax && window.MathJax.Hub && window.MathJax.Hub.Config) {window.MathJax.Hub.Config({SVG: {font: \"STIX-Web\"}});}</script>                <script type=\"text/javascript\">window.PlotlyConfig = {MathJaxConfig: 'local'};</script>\n",
              "        <script charset=\"utf-8\" src=\"https://cdn.plot.ly/plotly-2.24.1.min.js\"></script>                <div id=\"394dcc92-9dde-4863-be27-7101f4a4547f\" class=\"plotly-graph-div\" style=\"height:525px; width:100%;\"></div>            <script type=\"text/javascript\">                                    window.PLOTLYENV=window.PLOTLYENV || {};                                    if (document.getElementById(\"394dcc92-9dde-4863-be27-7101f4a4547f\")) {                    Plotly.newPlot(                        \"394dcc92-9dde-4863-be27-7101f4a4547f\",                        [{\"alignmentgroup\":\"True\",\"bingroup\":\"x\",\"hovertemplate\":\"Dominant_Emotion=Happiness\\u003cbr\\u003eGender=%{x}\\u003cbr\\u003ecount=%{y}\\u003cextra\\u003e\\u003c\\u002fextra\\u003e\",\"legendgroup\":\"Happiness\",\"marker\":{\"color\":\"#636efa\",\"pattern\":{\"shape\":\"\"}},\"name\":\"Happiness\",\"offsetgroup\":\"Happiness\",\"orientation\":\"v\",\"showlegend\":true,\"x\":[\"Female\",\"Male\",\"Male\",\"Female\",\"Female\",\"Non-binary\",\"Female\",\"Male\",\"Female\",\"Female\",\"Male\",\"Male\",\"Female\",\"Female\",\"Male\",\"Female\",\"Female\",\"Non-binary\",\"Female\",\"Male\",\"Female\",\"Male\",\"Male\",\"Female\",\"Female\",\"Non-binary\",\"Female\",\"Male\",\"Female\",\"Female\",\"Male\",\"Male\",\"Female\",\"Female\",\"Male\",\"Female\",\"Female\",\"Non-binary\",\"Female\",\"Male\",\"Female\",\"Male\",\"Male\",\"Female\",\"Female\",\"Non-binary\",\"Female\",\"Male\",\"Female\",\"Female\",\"Male\",\"Female\",\"Male\",\"Female\",\"Male\",\"Male\",\"Female\",\"Female\",\"Non-binary\",\"Female\",\"Male\",\"Female\",\"Female\",\"Male\",\"Male\",\"Female\",\"Female\",\"Male\",\"Female\",\"Female\",\"Non-binary\",\"Female\",\"Male\",\"Female\",\"Male\",\"Male\",\"Female\",\"Female\",\"Non-binary\",\"Female\",\"Male\",\"Female\",\"Female\",\"Male\",\"Male\",\"Female\",\"Female\",\"Male\",\"Female\",\"Female\",\"Non-binary\",\"Female\",\"Male\",\"Female\",\"Male\",\"Male\",\"Female\",\"Female\",\"Non-binary\",\"Female\",\"Male\",\"Female\",\"Female\",\"Male\",\"Male\",\"Female\",\"Female\",\"Male\",\"Female\",\"Female\",\"Non-binary\",\"Female\",\"Male\",\"Female\",\"Male\",\"Male\",\"Female\",\"Female\",\"Non-binary\",\"Female\",\"Male\",\"Female\",\"Female\",\"Male\",\"Male\",\"Female\",\"Female\",\"Male\",\"Female\",\"Female\",\"Non-binary\",\"Female\",\"Male\",\"Female\",\"Male\",\"Male\",\"Female\",\"Female\",\"Non-binary\",\"Female\",\"Male\",\"Female\",\"Female\",\"Male\",\"Female\",\"Male\",\"Female\",\"Male\",\"Male\",\"Female\",\"Female\",\"Non-binary\",\"Female\",\"Male\",\"Female\",\"Female\",\"Male\",\"Male\",\"Female\",\"Female\",\"Male\",\"Female\",\"Female\",\"Non-binary\",\"Female\",\"Male\",\"Female\",\"Male\",\"Male\",\"Female\",\"Female\",\"Non-binary\",\"Female\",\"Male\",\"Female\",\"Female\",\"Male\",\"Male\",\"Female\",\"Female\",\"Male\",\"Female\",\"Female\",\"Non-binary\",\"Female\",\"Male\"],\"xaxis\":\"x\",\"yaxis\":\"y\",\"type\":\"histogram\"},{\"alignmentgroup\":\"True\",\"bingroup\":\"x\",\"hovertemplate\":\"Dominant_Emotion=Anger\\u003cbr\\u003eGender=%{x}\\u003cbr\\u003ecount=%{y}\\u003cextra\\u003e\\u003c\\u002fextra\\u003e\",\"legendgroup\":\"Anger\",\"marker\":{\"color\":\"#EF553B\",\"pattern\":{\"shape\":\"\"}},\"name\":\"Anger\",\"offsetgroup\":\"Anger\",\"orientation\":\"v\",\"showlegend\":true,\"x\":[\"Male\",\"Female\",\"Male\",\"Female\",\"Male\",\"Male\",\"Male\",\"Female\",\"Male\",\"Female\",\"Female\",\"Female\",\"Non-binary\",\"Male\",\"Female\",\"Male\",\"Female\",\"Male\",\"Male\",\"Male\",\"Female\",\"Male\",\"Female\",\"Female\",\"Female\",\"Non-binary\",\"Male\",\"Female\",\"Male\",\"Female\",\"Male\",\"Male\",\"Male\",\"Female\",\"Non-binary\",\"Male\",\"Female\",\"Male\",\"Female\",\"Male\",\"Male\",\"Male\",\"Female\",\"Male\",\"Female\",\"Female\",\"Female\",\"Non-binary\",\"Male\",\"Female\",\"Male\",\"Female\",\"Male\",\"Male\",\"Male\",\"Female\",\"Male\",\"Female\",\"Female\",\"Female\",\"Non-binary\",\"Male\",\"Female\",\"Male\",\"Female\",\"Male\",\"Male\",\"Male\",\"Female\",\"Male\",\"Female\",\"Female\",\"Female\",\"Non-binary\",\"Male\",\"Female\",\"Male\",\"Female\",\"Male\",\"Male\",\"Male\",\"Female\",\"Male\",\"Female\",\"Female\",\"Female\",\"Non-binary\",\"Male\",\"Female\",\"Male\",\"Female\",\"Male\",\"Male\",\"Male\",\"Female\",\"Non-binary\",\"Male\",\"Female\",\"Male\",\"Female\",\"Male\",\"Male\",\"Male\",\"Female\",\"Male\",\"Female\",\"Female\",\"Female\",\"Non-binary\",\"Male\",\"Female\",\"Male\",\"Female\",\"Male\",\"Male\",\"Male\",\"Female\",\"Male\",\"Female\",\"Female\",\"Female\",\"Non-binary\"],\"xaxis\":\"x\",\"yaxis\":\"y\",\"type\":\"histogram\"},{\"alignmentgroup\":\"True\",\"bingroup\":\"x\",\"hovertemplate\":\"Dominant_Emotion=Neutral\\u003cbr\\u003eGender=%{x}\\u003cbr\\u003ecount=%{y}\\u003cextra\\u003e\\u003c\\u002fextra\\u003e\",\"legendgroup\":\"Neutral\",\"marker\":{\"color\":\"#00cc96\",\"pattern\":{\"shape\":\"\"}},\"name\":\"Neutral\",\"offsetgroup\":\"Neutral\",\"orientation\":\"v\",\"showlegend\":true,\"x\":[\"Non-binary\",\"Female\",\"Non-binary\",\"Non-binary\",\"Male\",\"Non-binary\",\"Female\",\"Non-binary\",\"Male\",\"Non-binary\",\"Non-binary\",\"Female\",\"Non-binary\",\"Male\",\"Female\",\"Male\",\"Non-binary\",\"Male\",\"Female\",\"Female\",\"Non-binary\",\"Female\",\"Non-binary\",\"Non-binary\",\"Male\",\"Non-binary\",\"Female\",\"Non-binary\",\"Male\",\"Non-binary\",\"Non-binary\",\"Female\",\"Non-binary\",\"Male\",\"Female\",\"Male\",\"Non-binary\",\"Male\",\"Female\",\"Female\",\"Non-binary\",\"Female\",\"Non-binary\",\"Non-binary\",\"Male\",\"Non-binary\",\"Female\",\"Non-binary\",\"Male\",\"Male\",\"Female\",\"Female\",\"Non-binary\",\"Female\",\"Non-binary\",\"Non-binary\",\"Male\",\"Non-binary\",\"Female\",\"Non-binary\",\"Male\",\"Non-binary\",\"Non-binary\",\"Female\",\"Non-binary\",\"Male\",\"Female\",\"Male\",\"Non-binary\",\"Male\",\"Female\",\"Female\",\"Non-binary\",\"Female\",\"Non-binary\",\"Non-binary\",\"Male\",\"Non-binary\",\"Female\",\"Non-binary\",\"Male\",\"Non-binary\",\"Non-binary\",\"Female\",\"Non-binary\",\"Male\",\"Female\",\"Male\",\"Non-binary\",\"Male\",\"Female\",\"Female\",\"Non-binary\",\"Female\",\"Non-binary\",\"Non-binary\",\"Male\",\"Non-binary\",\"Female\",\"Non-binary\",\"Male\",\"Non-binary\",\"Non-binary\",\"Female\",\"Non-binary\",\"Male\",\"Female\",\"Male\",\"Non-binary\",\"Male\",\"Female\",\"Female\",\"Non-binary\",\"Female\",\"Non-binary\",\"Non-binary\",\"Male\",\"Non-binary\",\"Female\",\"Non-binary\",\"Male\",\"Non-binary\",\"Non-binary\",\"Female\",\"Non-binary\",\"Male\",\"Female\",\"Male\",\"Non-binary\",\"Male\",\"Female\",\"Female\",\"Non-binary\",\"Female\",\"Non-binary\",\"Non-binary\",\"Male\",\"Non-binary\",\"Female\",\"Non-binary\",\"Male\",\"Male\",\"Female\",\"Female\",\"Non-binary\",\"Female\",\"Non-binary\",\"Non-binary\",\"Male\",\"Non-binary\",\"Female\",\"Non-binary\",\"Male\",\"Non-binary\",\"Non-binary\",\"Female\",\"Non-binary\",\"Male\",\"Female\",\"Male\",\"Non-binary\",\"Male\",\"Female\",\"Female\",\"Non-binary\",\"Female\",\"Non-binary\",\"Non-binary\",\"Male\",\"Non-binary\",\"Female\",\"Non-binary\",\"Male\",\"Non-binary\",\"Non-binary\",\"Female\",\"Non-binary\",\"Male\",\"Female\",\"Male\",\"Non-binary\",\"Male\",\"Female\",\"Female\"],\"xaxis\":\"x\",\"yaxis\":\"y\",\"type\":\"histogram\"},{\"alignmentgroup\":\"True\",\"bingroup\":\"x\",\"hovertemplate\":\"Dominant_Emotion=Anxiety\\u003cbr\\u003eGender=%{x}\\u003cbr\\u003ecount=%{y}\\u003cextra\\u003e\\u003c\\u002fextra\\u003e\",\"legendgroup\":\"Anxiety\",\"marker\":{\"color\":\"#ab63fa\",\"pattern\":{\"shape\":\"\"}},\"name\":\"Anxiety\",\"offsetgroup\":\"Anxiety\",\"orientation\":\"v\",\"showlegend\":true,\"x\":[\"Female\",\"Female\",\"Female\",\"Male\",\"Non-binary\",\"Male\",\"Non-binary\",\"Non-binary\",\"Male\",\"Female\",\"Female\",\"Male\",\"Non-binary\",\"Non-binary\",\"Female\",\"Male\",\"Male\",\"Female\",\"Female\",\"Female\",\"Male\",\"Non-binary\",\"Male\",\"Non-binary\",\"Non-binary\",\"Male\",\"Female\",\"Female\",\"Male\",\"Non-binary\",\"Non-binary\",\"Female\",\"Male\",\"Male\",\"Female\",\"Female\",\"Female\",\"Male\",\"Non-binary\",\"Male\",\"Non-binary\",\"Non-binary\",\"Male\",\"Male\",\"Female\",\"Female\",\"Female\",\"Male\",\"Non-binary\",\"Male\",\"Non-binary\",\"Non-binary\",\"Male\",\"Female\",\"Female\",\"Male\",\"Non-binary\",\"Non-binary\",\"Female\",\"Male\",\"Male\",\"Female\",\"Female\",\"Female\",\"Male\",\"Non-binary\",\"Male\",\"Non-binary\",\"Non-binary\",\"Male\",\"Female\",\"Female\",\"Male\",\"Non-binary\",\"Non-binary\",\"Female\",\"Male\",\"Male\",\"Female\",\"Female\",\"Female\",\"Male\",\"Non-binary\",\"Male\",\"Non-binary\",\"Non-binary\",\"Male\",\"Female\",\"Female\",\"Male\",\"Non-binary\",\"Non-binary\",\"Female\",\"Male\",\"Male\",\"Female\",\"Female\",\"Female\",\"Male\",\"Non-binary\",\"Male\",\"Non-binary\",\"Non-binary\",\"Male\",\"Female\",\"Female\",\"Male\",\"Non-binary\",\"Non-binary\",\"Female\",\"Male\",\"Male\",\"Female\",\"Female\",\"Female\",\"Male\",\"Non-binary\",\"Male\",\"Non-binary\",\"Non-binary\",\"Male\",\"Male\",\"Female\",\"Female\",\"Female\",\"Male\",\"Non-binary\",\"Male\",\"Non-binary\",\"Non-binary\",\"Male\",\"Female\",\"Female\",\"Male\",\"Non-binary\",\"Non-binary\",\"Female\",\"Male\",\"Male\",\"Female\",\"Female\",\"Female\",\"Male\",\"Non-binary\",\"Male\",\"Non-binary\",\"Non-binary\",\"Male\",\"Female\",\"Female\",\"Male\",\"Non-binary\",\"Non-binary\",\"Female\",\"Male\",\"Male\"],\"xaxis\":\"x\",\"yaxis\":\"y\",\"type\":\"histogram\"},{\"alignmentgroup\":\"True\",\"bingroup\":\"x\",\"hovertemplate\":\"Dominant_Emotion=Boredom\\u003cbr\\u003eGender=%{x}\\u003cbr\\u003ecount=%{y}\\u003cextra\\u003e\\u003c\\u002fextra\\u003e\",\"legendgroup\":\"Boredom\",\"marker\":{\"color\":\"#FFA15A\",\"pattern\":{\"shape\":\"\"}},\"name\":\"Boredom\",\"offsetgroup\":\"Boredom\",\"orientation\":\"v\",\"showlegend\":true,\"x\":[\"Male\",\"Male\",\"Male\",\"Female\",\"Non-binary\",\"Female\",\"Female\",\"Male\",\"Male\",\"Non-binary\",\"Male\",\"Non-binary\",\"Non-binary\",\"Non-binary\",\"Male\",\"Male\",\"Male\",\"Female\",\"Non-binary\",\"Female\",\"Female\",\"Male\",\"Male\",\"Non-binary\",\"Male\",\"Non-binary\",\"Non-binary\",\"Non-binary\",\"Male\",\"Male\",\"Male\",\"Female\",\"Non-binary\",\"Female\",\"Female\",\"Non-binary\",\"Non-binary\",\"Male\",\"Male\",\"Male\",\"Female\",\"Non-binary\",\"Female\",\"Female\",\"Male\",\"Male\",\"Non-binary\",\"Male\",\"Non-binary\",\"Non-binary\",\"Non-binary\",\"Male\",\"Male\",\"Male\",\"Female\",\"Non-binary\",\"Female\",\"Female\",\"Male\",\"Male\",\"Non-binary\",\"Male\",\"Non-binary\",\"Non-binary\",\"Non-binary\",\"Male\",\"Male\",\"Male\",\"Female\",\"Non-binary\",\"Female\",\"Female\",\"Male\",\"Male\",\"Non-binary\",\"Male\",\"Non-binary\",\"Non-binary\",\"Non-binary\",\"Male\",\"Male\",\"Male\",\"Female\",\"Non-binary\",\"Female\",\"Female\",\"Male\",\"Male\",\"Non-binary\",\"Male\",\"Non-binary\",\"Non-binary\",\"Non-binary\",\"Male\",\"Male\",\"Male\",\"Female\",\"Non-binary\",\"Female\",\"Female\",\"Non-binary\",\"Non-binary\",\"Male\",\"Male\",\"Male\",\"Female\",\"Non-binary\",\"Female\",\"Female\",\"Male\",\"Male\",\"Non-binary\",\"Male\",\"Non-binary\",\"Non-binary\",\"Non-binary\",\"Male\",\"Male\",\"Male\",\"Female\",\"Non-binary\",\"Female\",\"Female\",\"Male\",\"Male\",\"Non-binary\",\"Male\",\"Non-binary\",\"Non-binary\",\"Non-binary\"],\"xaxis\":\"x\",\"yaxis\":\"y\",\"type\":\"histogram\"},{\"alignmentgroup\":\"True\",\"bingroup\":\"x\",\"hovertemplate\":\"Dominant_Emotion=Sadness\\u003cbr\\u003eGender=%{x}\\u003cbr\\u003ecount=%{y}\\u003cextra\\u003e\\u003c\\u002fextra\\u003e\",\"legendgroup\":\"Sadness\",\"marker\":{\"color\":\"#19d3f3\",\"pattern\":{\"shape\":\"\"}},\"name\":\"Sadness\",\"offsetgroup\":\"Sadness\",\"orientation\":\"v\",\"showlegend\":true,\"x\":[\"Non-binary\",\"Non-binary\",\"Male\",\"Female\",\"Non-binary\",\"Female\",\"Male\",\"Female\",\"Female\",\"Non-binary\",\"Male\",\"Non-binary\",\"Male\",\"Male\",\"Male\",\"Female\",\"Non-binary\",\"Non-binary\",\"Male\",\"Female\",\"Non-binary\",\"Female\",\"Male\",\"Female\",\"Female\",\"Non-binary\",\"Male\",\"Non-binary\",\"Male\",\"Male\",\"Male\",\"Female\",\"Non-binary\",\"Non-binary\",\"Male\",\"Female\",\"Non-binary\",\"Female\",\"Male\",\"Female\",\"Female\",\"Non-binary\",\"Non-binary\",\"Male\",\"Female\",\"Non-binary\",\"Female\",\"Male\",\"Female\",\"Female\",\"Non-binary\",\"Male\",\"Non-binary\",\"Male\",\"Male\",\"Male\",\"Female\",\"Non-binary\",\"Non-binary\",\"Male\",\"Female\",\"Non-binary\",\"Female\",\"Male\",\"Female\",\"Female\",\"Non-binary\",\"Male\",\"Non-binary\",\"Male\",\"Male\",\"Male\",\"Female\",\"Non-binary\",\"Non-binary\",\"Male\",\"Female\",\"Non-binary\",\"Female\",\"Male\",\"Female\",\"Female\",\"Non-binary\",\"Male\",\"Non-binary\",\"Male\",\"Male\",\"Male\",\"Female\",\"Non-binary\",\"Non-binary\",\"Male\",\"Female\",\"Non-binary\",\"Female\",\"Male\",\"Female\",\"Female\",\"Non-binary\",\"Male\",\"Non-binary\",\"Male\",\"Male\",\"Male\",\"Female\",\"Non-binary\",\"Non-binary\",\"Male\",\"Female\",\"Non-binary\",\"Female\",\"Male\",\"Female\",\"Female\",\"Non-binary\",\"Non-binary\",\"Male\",\"Female\",\"Non-binary\",\"Female\",\"Male\",\"Female\",\"Female\",\"Non-binary\",\"Male\",\"Non-binary\",\"Male\",\"Male\",\"Male\",\"Female\",\"Non-binary\",\"Non-binary\",\"Male\",\"Female\",\"Non-binary\",\"Female\",\"Male\",\"Female\",\"Female\",\"Non-binary\",\"Male\",\"Non-binary\",\"Male\",\"Male\",\"Male\",\"Female\"],\"xaxis\":\"x\",\"yaxis\":\"y\",\"type\":\"histogram\"}],                        {\"template\":{\"data\":{\"histogram2dcontour\":[{\"type\":\"histogram2dcontour\",\"colorbar\":{\"outlinewidth\":0,\"ticks\":\"\"},\"colorscale\":[[0.0,\"#0d0887\"],[0.1111111111111111,\"#46039f\"],[0.2222222222222222,\"#7201a8\"],[0.3333333333333333,\"#9c179e\"],[0.4444444444444444,\"#bd3786\"],[0.5555555555555556,\"#d8576b\"],[0.6666666666666666,\"#ed7953\"],[0.7777777777777778,\"#fb9f3a\"],[0.8888888888888888,\"#fdca26\"],[1.0,\"#f0f921\"]]}],\"choropleth\":[{\"type\":\"choropleth\",\"colorbar\":{\"outlinewidth\":0,\"ticks\":\"\"}}],\"histogram2d\":[{\"type\":\"histogram2d\",\"colorbar\":{\"outlinewidth\":0,\"ticks\":\"\"},\"colorscale\":[[0.0,\"#0d0887\"],[0.1111111111111111,\"#46039f\"],[0.2222222222222222,\"#7201a8\"],[0.3333333333333333,\"#9c179e\"],[0.4444444444444444,\"#bd3786\"],[0.5555555555555556,\"#d8576b\"],[0.6666666666666666,\"#ed7953\"],[0.7777777777777778,\"#fb9f3a\"],[0.8888888888888888,\"#fdca26\"],[1.0,\"#f0f921\"]]}],\"heatmap\":[{\"type\":\"heatmap\",\"colorbar\":{\"outlinewidth\":0,\"ticks\":\"\"},\"colorscale\":[[0.0,\"#0d0887\"],[0.1111111111111111,\"#46039f\"],[0.2222222222222222,\"#7201a8\"],[0.3333333333333333,\"#9c179e\"],[0.4444444444444444,\"#bd3786\"],[0.5555555555555556,\"#d8576b\"],[0.6666666666666666,\"#ed7953\"],[0.7777777777777778,\"#fb9f3a\"],[0.8888888888888888,\"#fdca26\"],[1.0,\"#f0f921\"]]}],\"heatmapgl\":[{\"type\":\"heatmapgl\",\"colorbar\":{\"outlinewidth\":0,\"ticks\":\"\"},\"colorscale\":[[0.0,\"#0d0887\"],[0.1111111111111111,\"#46039f\"],[0.2222222222222222,\"#7201a8\"],[0.3333333333333333,\"#9c179e\"],[0.4444444444444444,\"#bd3786\"],[0.5555555555555556,\"#d8576b\"],[0.6666666666666666,\"#ed7953\"],[0.7777777777777778,\"#fb9f3a\"],[0.8888888888888888,\"#fdca26\"],[1.0,\"#f0f921\"]]}],\"contourcarpet\":[{\"type\":\"contourcarpet\",\"colorbar\":{\"outlinewidth\":0,\"ticks\":\"\"}}],\"contour\":[{\"type\":\"contour\",\"colorbar\":{\"outlinewidth\":0,\"ticks\":\"\"},\"colorscale\":[[0.0,\"#0d0887\"],[0.1111111111111111,\"#46039f\"],[0.2222222222222222,\"#7201a8\"],[0.3333333333333333,\"#9c179e\"],[0.4444444444444444,\"#bd3786\"],[0.5555555555555556,\"#d8576b\"],[0.6666666666666666,\"#ed7953\"],[0.7777777777777778,\"#fb9f3a\"],[0.8888888888888888,\"#fdca26\"],[1.0,\"#f0f921\"]]}],\"surface\":[{\"type\":\"surface\",\"colorbar\":{\"outlinewidth\":0,\"ticks\":\"\"},\"colorscale\":[[0.0,\"#0d0887\"],[0.1111111111111111,\"#46039f\"],[0.2222222222222222,\"#7201a8\"],[0.3333333333333333,\"#9c179e\"],[0.4444444444444444,\"#bd3786\"],[0.5555555555555556,\"#d8576b\"],[0.6666666666666666,\"#ed7953\"],[0.7777777777777778,\"#fb9f3a\"],[0.8888888888888888,\"#fdca26\"],[1.0,\"#f0f921\"]]}],\"mesh3d\":[{\"type\":\"mesh3d\",\"colorbar\":{\"outlinewidth\":0,\"ticks\":\"\"}}],\"scatter\":[{\"fillpattern\":{\"fillmode\":\"overlay\",\"size\":10,\"solidity\":0.2},\"type\":\"scatter\"}],\"parcoords\":[{\"type\":\"parcoords\",\"line\":{\"colorbar\":{\"outlinewidth\":0,\"ticks\":\"\"}}}],\"scatterpolargl\":[{\"type\":\"scatterpolargl\",\"marker\":{\"colorbar\":{\"outlinewidth\":0,\"ticks\":\"\"}}}],\"bar\":[{\"error_x\":{\"color\":\"#2a3f5f\"},\"error_y\":{\"color\":\"#2a3f5f\"},\"marker\":{\"line\":{\"color\":\"#E5ECF6\",\"width\":0.5},\"pattern\":{\"fillmode\":\"overlay\",\"size\":10,\"solidity\":0.2}},\"type\":\"bar\"}],\"scattergeo\":[{\"type\":\"scattergeo\",\"marker\":{\"colorbar\":{\"outlinewidth\":0,\"ticks\":\"\"}}}],\"scatterpolar\":[{\"type\":\"scatterpolar\",\"marker\":{\"colorbar\":{\"outlinewidth\":0,\"ticks\":\"\"}}}],\"histogram\":[{\"marker\":{\"pattern\":{\"fillmode\":\"overlay\",\"size\":10,\"solidity\":0.2}},\"type\":\"histogram\"}],\"scattergl\":[{\"type\":\"scattergl\",\"marker\":{\"colorbar\":{\"outlinewidth\":0,\"ticks\":\"\"}}}],\"scatter3d\":[{\"type\":\"scatter3d\",\"line\":{\"colorbar\":{\"outlinewidth\":0,\"ticks\":\"\"}},\"marker\":{\"colorbar\":{\"outlinewidth\":0,\"ticks\":\"\"}}}],\"scattermapbox\":[{\"type\":\"scattermapbox\",\"marker\":{\"colorbar\":{\"outlinewidth\":0,\"ticks\":\"\"}}}],\"scatterternary\":[{\"type\":\"scatterternary\",\"marker\":{\"colorbar\":{\"outlinewidth\":0,\"ticks\":\"\"}}}],\"scattercarpet\":[{\"type\":\"scattercarpet\",\"marker\":{\"colorbar\":{\"outlinewidth\":0,\"ticks\":\"\"}}}],\"carpet\":[{\"aaxis\":{\"endlinecolor\":\"#2a3f5f\",\"gridcolor\":\"white\",\"linecolor\":\"white\",\"minorgridcolor\":\"white\",\"startlinecolor\":\"#2a3f5f\"},\"baxis\":{\"endlinecolor\":\"#2a3f5f\",\"gridcolor\":\"white\",\"linecolor\":\"white\",\"minorgridcolor\":\"white\",\"startlinecolor\":\"#2a3f5f\"},\"type\":\"carpet\"}],\"table\":[{\"cells\":{\"fill\":{\"color\":\"#EBF0F8\"},\"line\":{\"color\":\"white\"}},\"header\":{\"fill\":{\"color\":\"#C8D4E3\"},\"line\":{\"color\":\"white\"}},\"type\":\"table\"}],\"barpolar\":[{\"marker\":{\"line\":{\"color\":\"#E5ECF6\",\"width\":0.5},\"pattern\":{\"fillmode\":\"overlay\",\"size\":10,\"solidity\":0.2}},\"type\":\"barpolar\"}],\"pie\":[{\"automargin\":true,\"type\":\"pie\"}]},\"layout\":{\"autotypenumbers\":\"strict\",\"colorway\":[\"#636efa\",\"#EF553B\",\"#00cc96\",\"#ab63fa\",\"#FFA15A\",\"#19d3f3\",\"#FF6692\",\"#B6E880\",\"#FF97FF\",\"#FECB52\"],\"font\":{\"color\":\"#2a3f5f\"},\"hovermode\":\"closest\",\"hoverlabel\":{\"align\":\"left\"},\"paper_bgcolor\":\"white\",\"plot_bgcolor\":\"#E5ECF6\",\"polar\":{\"bgcolor\":\"#E5ECF6\",\"angularaxis\":{\"gridcolor\":\"white\",\"linecolor\":\"white\",\"ticks\":\"\"},\"radialaxis\":{\"gridcolor\":\"white\",\"linecolor\":\"white\",\"ticks\":\"\"}},\"ternary\":{\"bgcolor\":\"#E5ECF6\",\"aaxis\":{\"gridcolor\":\"white\",\"linecolor\":\"white\",\"ticks\":\"\"},\"baxis\":{\"gridcolor\":\"white\",\"linecolor\":\"white\",\"ticks\":\"\"},\"caxis\":{\"gridcolor\":\"white\",\"linecolor\":\"white\",\"ticks\":\"\"}},\"coloraxis\":{\"colorbar\":{\"outlinewidth\":0,\"ticks\":\"\"}},\"colorscale\":{\"sequential\":[[0.0,\"#0d0887\"],[0.1111111111111111,\"#46039f\"],[0.2222222222222222,\"#7201a8\"],[0.3333333333333333,\"#9c179e\"],[0.4444444444444444,\"#bd3786\"],[0.5555555555555556,\"#d8576b\"],[0.6666666666666666,\"#ed7953\"],[0.7777777777777778,\"#fb9f3a\"],[0.8888888888888888,\"#fdca26\"],[1.0,\"#f0f921\"]],\"sequentialminus\":[[0.0,\"#0d0887\"],[0.1111111111111111,\"#46039f\"],[0.2222222222222222,\"#7201a8\"],[0.3333333333333333,\"#9c179e\"],[0.4444444444444444,\"#bd3786\"],[0.5555555555555556,\"#d8576b\"],[0.6666666666666666,\"#ed7953\"],[0.7777777777777778,\"#fb9f3a\"],[0.8888888888888888,\"#fdca26\"],[1.0,\"#f0f921\"]],\"diverging\":[[0,\"#8e0152\"],[0.1,\"#c51b7d\"],[0.2,\"#de77ae\"],[0.3,\"#f1b6da\"],[0.4,\"#fde0ef\"],[0.5,\"#f7f7f7\"],[0.6,\"#e6f5d0\"],[0.7,\"#b8e186\"],[0.8,\"#7fbc41\"],[0.9,\"#4d9221\"],[1,\"#276419\"]]},\"xaxis\":{\"gridcolor\":\"white\",\"linecolor\":\"white\",\"ticks\":\"\",\"title\":{\"standoff\":15},\"zerolinecolor\":\"white\",\"automargin\":true,\"zerolinewidth\":2},\"yaxis\":{\"gridcolor\":\"white\",\"linecolor\":\"white\",\"ticks\":\"\",\"title\":{\"standoff\":15},\"zerolinecolor\":\"white\",\"automargin\":true,\"zerolinewidth\":2},\"scene\":{\"xaxis\":{\"backgroundcolor\":\"#E5ECF6\",\"gridcolor\":\"white\",\"linecolor\":\"white\",\"showbackground\":true,\"ticks\":\"\",\"zerolinecolor\":\"white\",\"gridwidth\":2},\"yaxis\":{\"backgroundcolor\":\"#E5ECF6\",\"gridcolor\":\"white\",\"linecolor\":\"white\",\"showbackground\":true,\"ticks\":\"\",\"zerolinecolor\":\"white\",\"gridwidth\":2},\"zaxis\":{\"backgroundcolor\":\"#E5ECF6\",\"gridcolor\":\"white\",\"linecolor\":\"white\",\"showbackground\":true,\"ticks\":\"\",\"zerolinecolor\":\"white\",\"gridwidth\":2}},\"shapedefaults\":{\"line\":{\"color\":\"#2a3f5f\"}},\"annotationdefaults\":{\"arrowcolor\":\"#2a3f5f\",\"arrowhead\":0,\"arrowwidth\":1},\"geo\":{\"bgcolor\":\"white\",\"landcolor\":\"#E5ECF6\",\"subunitcolor\":\"white\",\"showland\":true,\"showlakes\":true,\"lakecolor\":\"white\"},\"title\":{\"x\":0.05},\"mapbox\":{\"style\":\"light\"}}},\"xaxis\":{\"anchor\":\"y\",\"domain\":[0.0,1.0],\"title\":{\"text\":\"Gender\"}},\"yaxis\":{\"anchor\":\"x\",\"domain\":[0.0,1.0],\"title\":{\"text\":\"count\"}},\"legend\":{\"title\":{\"text\":\"Dominant_Emotion\"},\"tracegroupgap\":0},\"title\":{\"text\":\"Dominant Emotion by Gender\"},\"barmode\":\"relative\"},                        {\"responsive\": true}                    ).then(function(){\n",
              "                            \n",
              "var gd = document.getElementById('394dcc92-9dde-4863-be27-7101f4a4547f');\n",
              "var x = new MutationObserver(function (mutations, observer) {{\n",
              "        var display = window.getComputedStyle(gd).display;\n",
              "        if (!display || display === 'none') {{\n",
              "            console.log([gd, 'removed!']);\n",
              "            Plotly.purge(gd);\n",
              "            observer.disconnect();\n",
              "        }}\n",
              "}});\n",
              "\n",
              "// Listen for the removal of the full notebook cells\n",
              "var notebookContainer = gd.closest('#notebook-container');\n",
              "if (notebookContainer) {{\n",
              "    x.observe(notebookContainer, {childList: true});\n",
              "}}\n",
              "\n",
              "// Listen for the clearing of the current output cell\n",
              "var outputEl = gd.closest('.output');\n",
              "if (outputEl) {{\n",
              "    x.observe(outputEl, {childList: true});\n",
              "}}\n",
              "\n",
              "                        })                };                            </script>        </div>\n",
              "</body>\n",
              "</html>"
            ]
          },
          "metadata": {}
        }
      ]
    },
    {
      "cell_type": "markdown",
      "source": [
        "Platform VS Emotions"
      ],
      "metadata": {
        "id": "0OyI5tEmQ-82"
      }
    },
    {
      "cell_type": "code",
      "source": [
        "# checking the Platformagainest the Dominant_Emotion\n",
        "grouped = train_df.groupby(['Platform', 'Dominant_Emotion'])\n",
        "\n",
        "# count the number of rows in each group\n",
        "counts = grouped.size()\n",
        "\n",
        "# print the counts\n",
        "print(counts)"
      ],
      "metadata": {
        "colab": {
          "base_uri": "https://localhost:8080/"
        },
        "id": "MGzFcD0tQ5pZ",
        "outputId": "853d07ae-5b09-4aa7-fbe8-d6c1f79e0ad4"
      },
      "execution_count": null,
      "outputs": [
        {
          "output_type": "stream",
          "name": "stdout",
          "text": [
            "Platform   Dominant_Emotion\n",
            "Facebook   Anxiety              48\n",
            "           Boredom              34\n",
            "           Neutral              66\n",
            "           Sadness              30\n",
            "Instagram  Anger                 8\n",
            "           Anxiety              30\n",
            "           Happiness           160\n",
            "           Neutral              20\n",
            "           Sadness              18\n",
            "LinkedIn   Anxiety              18\n",
            "           Boredom              70\n",
            "           Neutral              20\n",
            "           Sadness              10\n",
            "Snapchat   Anxiety              16\n",
            "           Happiness             8\n",
            "           Neutral              18\n",
            "           Sadness              26\n",
            "Telegram   Anger                10\n",
            "           Anxiety               8\n",
            "           Boredom               8\n",
            "           Neutral              26\n",
            "           Sadness              16\n",
            "Twitter    Anger                78\n",
            "           Anxiety              20\n",
            "           Boredom              18\n",
            "           Happiness             8\n",
            "           Neutral              18\n",
            "           Sadness              46\n",
            "Whatsapp   Anger                26\n",
            "           Anxiety              16\n",
            "           Happiness            10\n",
            "           Neutral              16\n",
            "dtype: int64\n"
          ]
        }
      ]
    },
    {
      "cell_type": "code",
      "source": [
        "Plt = px.histogram(train_df, x='Platform', color='Dominant_Emotion', title='Dominant Emotion by Platform')\n",
        "Plt.show()"
      ],
      "metadata": {
        "colab": {
          "base_uri": "https://localhost:8080/",
          "height": 542
        },
        "id": "-UK5BvONRDNv",
        "outputId": "e310e68d-8ac3-4d58-e034-40f73b8e95ca"
      },
      "execution_count": null,
      "outputs": [
        {
          "output_type": "display_data",
          "data": {
            "text/html": [
              "<html>\n",
              "<head><meta charset=\"utf-8\" /></head>\n",
              "<body>\n",
              "    <div>            <script src=\"https://cdnjs.cloudflare.com/ajax/libs/mathjax/2.7.5/MathJax.js?config=TeX-AMS-MML_SVG\"></script><script type=\"text/javascript\">if (window.MathJax && window.MathJax.Hub && window.MathJax.Hub.Config) {window.MathJax.Hub.Config({SVG: {font: \"STIX-Web\"}});}</script>                <script type=\"text/javascript\">window.PlotlyConfig = {MathJaxConfig: 'local'};</script>\n",
              "        <script charset=\"utf-8\" src=\"https://cdn.plot.ly/plotly-2.24.1.min.js\"></script>                <div id=\"b61a0279-c0d6-4204-869b-586e56b0d19e\" class=\"plotly-graph-div\" style=\"height:525px; width:100%;\"></div>            <script type=\"text/javascript\">                                    window.PLOTLYENV=window.PLOTLYENV || {};                                    if (document.getElementById(\"b61a0279-c0d6-4204-869b-586e56b0d19e\")) {                    Plotly.newPlot(                        \"b61a0279-c0d6-4204-869b-586e56b0d19e\",                        [{\"alignmentgroup\":\"True\",\"bingroup\":\"x\",\"hovertemplate\":\"Dominant_Emotion=Happiness\\u003cbr\\u003ePlatform=%{x}\\u003cbr\\u003ecount=%{y}\\u003cextra\\u003e\\u003c\\u002fextra\\u003e\",\"legendgroup\":\"Happiness\",\"marker\":{\"color\":\"#636efa\",\"pattern\":{\"shape\":\"\"}},\"name\":\"Happiness\",\"offsetgroup\":\"Happiness\",\"orientation\":\"v\",\"showlegend\":true,\"x\":[\"Instagram\",\"Instagram\",\"Instagram\",\"Instagram\",\"Instagram\",\"Instagram\",\"Instagram\",\"Instagram\",\"Instagram\",\"Instagram\",\"Instagram\",\"Instagram\",\"Twitter\",\"Instagram\",\"Instagram\",\"Instagram\",\"Instagram\",\"Snapchat\",\"Instagram\",\"Whatsapp\",\"Instagram\",\"Instagram\",\"Instagram\",\"Instagram\",\"Instagram\",\"Instagram\",\"Instagram\",\"Instagram\",\"Instagram\",\"Instagram\",\"Instagram\",\"Instagram\",\"Twitter\",\"Instagram\",\"Instagram\",\"Instagram\",\"Instagram\",\"Snapchat\",\"Instagram\",\"Whatsapp\",\"Instagram\",\"Instagram\",\"Instagram\",\"Instagram\",\"Instagram\",\"Instagram\",\"Instagram\",\"Instagram\",\"Instagram\",\"Instagram\",\"Instagram\",\"Instagram\",\"Whatsapp\",\"Instagram\",\"Instagram\",\"Instagram\",\"Instagram\",\"Instagram\",\"Instagram\",\"Instagram\",\"Instagram\",\"Instagram\",\"Instagram\",\"Instagram\",\"Instagram\",\"Twitter\",\"Instagram\",\"Instagram\",\"Instagram\",\"Instagram\",\"Snapchat\",\"Instagram\",\"Whatsapp\",\"Instagram\",\"Instagram\",\"Instagram\",\"Instagram\",\"Instagram\",\"Instagram\",\"Instagram\",\"Instagram\",\"Instagram\",\"Instagram\",\"Instagram\",\"Instagram\",\"Twitter\",\"Instagram\",\"Instagram\",\"Instagram\",\"Instagram\",\"Snapchat\",\"Instagram\",\"Whatsapp\",\"Instagram\",\"Instagram\",\"Instagram\",\"Instagram\",\"Instagram\",\"Instagram\",\"Instagram\",\"Instagram\",\"Instagram\",\"Instagram\",\"Instagram\",\"Instagram\",\"Twitter\",\"Instagram\",\"Instagram\",\"Instagram\",\"Instagram\",\"Snapchat\",\"Instagram\",\"Whatsapp\",\"Instagram\",\"Instagram\",\"Instagram\",\"Instagram\",\"Instagram\",\"Instagram\",\"Instagram\",\"Instagram\",\"Instagram\",\"Instagram\",\"Instagram\",\"Instagram\",\"Twitter\",\"Instagram\",\"Instagram\",\"Instagram\",\"Instagram\",\"Snapchat\",\"Instagram\",\"Whatsapp\",\"Instagram\",\"Instagram\",\"Instagram\",\"Instagram\",\"Instagram\",\"Instagram\",\"Instagram\",\"Instagram\",\"Instagram\",\"Instagram\",\"Instagram\",\"Instagram\",\"Whatsapp\",\"Instagram\",\"Instagram\",\"Instagram\",\"Instagram\",\"Instagram\",\"Instagram\",\"Instagram\",\"Instagram\",\"Instagram\",\"Instagram\",\"Instagram\",\"Instagram\",\"Twitter\",\"Instagram\",\"Instagram\",\"Instagram\",\"Instagram\",\"Snapchat\",\"Instagram\",\"Whatsapp\",\"Instagram\",\"Instagram\",\"Instagram\",\"Instagram\",\"Instagram\",\"Instagram\",\"Instagram\",\"Instagram\",\"Instagram\",\"Instagram\",\"Instagram\",\"Instagram\",\"Twitter\",\"Instagram\",\"Instagram\",\"Instagram\",\"Instagram\",\"Snapchat\",\"Instagram\",\"Whatsapp\"],\"xaxis\":\"x\",\"yaxis\":\"y\",\"type\":\"histogram\"},{\"alignmentgroup\":\"True\",\"bingroup\":\"x\",\"hovertemplate\":\"Dominant_Emotion=Anger\\u003cbr\\u003ePlatform=%{x}\\u003cbr\\u003ecount=%{y}\\u003cextra\\u003e\\u003c\\u002fextra\\u003e\",\"legendgroup\":\"Anger\",\"marker\":{\"color\":\"#EF553B\",\"pattern\":{\"shape\":\"\"}},\"name\":\"Anger\",\"offsetgroup\":\"Anger\",\"orientation\":\"v\",\"showlegend\":true,\"x\":[\"Twitter\",\"Twitter\",\"Twitter\",\"Twitter\",\"Twitter\",\"Twitter\",\"Twitter\",\"Twitter\",\"Whatsapp\",\"Whatsapp\",\"Instagram\",\"Whatsapp\",\"Telegram\",\"Twitter\",\"Twitter\",\"Twitter\",\"Twitter\",\"Twitter\",\"Twitter\",\"Twitter\",\"Twitter\",\"Whatsapp\",\"Whatsapp\",\"Instagram\",\"Whatsapp\",\"Telegram\",\"Twitter\",\"Twitter\",\"Twitter\",\"Twitter\",\"Twitter\",\"Twitter\",\"Twitter\",\"Whatsapp\",\"Telegram\",\"Twitter\",\"Twitter\",\"Twitter\",\"Twitter\",\"Twitter\",\"Twitter\",\"Twitter\",\"Twitter\",\"Whatsapp\",\"Whatsapp\",\"Instagram\",\"Whatsapp\",\"Telegram\",\"Twitter\",\"Twitter\",\"Twitter\",\"Twitter\",\"Twitter\",\"Twitter\",\"Twitter\",\"Twitter\",\"Whatsapp\",\"Whatsapp\",\"Instagram\",\"Whatsapp\",\"Telegram\",\"Twitter\",\"Twitter\",\"Twitter\",\"Twitter\",\"Twitter\",\"Twitter\",\"Twitter\",\"Twitter\",\"Whatsapp\",\"Whatsapp\",\"Instagram\",\"Whatsapp\",\"Telegram\",\"Twitter\",\"Twitter\",\"Twitter\",\"Twitter\",\"Twitter\",\"Twitter\",\"Twitter\",\"Twitter\",\"Whatsapp\",\"Whatsapp\",\"Instagram\",\"Whatsapp\",\"Telegram\",\"Twitter\",\"Twitter\",\"Twitter\",\"Twitter\",\"Twitter\",\"Twitter\",\"Twitter\",\"Whatsapp\",\"Telegram\",\"Twitter\",\"Twitter\",\"Twitter\",\"Twitter\",\"Twitter\",\"Twitter\",\"Twitter\",\"Twitter\",\"Whatsapp\",\"Whatsapp\",\"Instagram\",\"Whatsapp\",\"Telegram\",\"Twitter\",\"Twitter\",\"Twitter\",\"Twitter\",\"Twitter\",\"Twitter\",\"Twitter\",\"Twitter\",\"Whatsapp\",\"Whatsapp\",\"Instagram\",\"Whatsapp\",\"Telegram\"],\"xaxis\":\"x\",\"yaxis\":\"y\",\"type\":\"histogram\"},{\"alignmentgroup\":\"True\",\"bingroup\":\"x\",\"hovertemplate\":\"Dominant_Emotion=Neutral\\u003cbr\\u003ePlatform=%{x}\\u003cbr\\u003ecount=%{y}\\u003cextra\\u003e\\u003c\\u002fextra\\u003e\",\"legendgroup\":\"Neutral\",\"marker\":{\"color\":\"#00cc96\",\"pattern\":{\"shape\":\"\"}},\"name\":\"Neutral\",\"offsetgroup\":\"Neutral\",\"orientation\":\"v\",\"showlegend\":true,\"x\":[\"Facebook\",\"LinkedIn\",\"Facebook\",\"LinkedIn\",\"Facebook\",\"Twitter\",\"Instagram\",\"Facebook\",\"Instagram\",\"Facebook\",\"Telegram\",\"Whatsapp\",\"Facebook\",\"Telegram\",\"Whatsapp\",\"Twitter\",\"Snapchat\",\"Telegram\",\"Facebook\",\"Snapchat\",\"Facebook\",\"LinkedIn\",\"Facebook\",\"LinkedIn\",\"Facebook\",\"Twitter\",\"Instagram\",\"Facebook\",\"Instagram\",\"Facebook\",\"Telegram\",\"Whatsapp\",\"Facebook\",\"Telegram\",\"Whatsapp\",\"Twitter\",\"Snapchat\",\"Telegram\",\"Facebook\",\"Snapchat\",\"Facebook\",\"LinkedIn\",\"Facebook\",\"LinkedIn\",\"Facebook\",\"Twitter\",\"Instagram\",\"Facebook\",\"Instagram\",\"Telegram\",\"Facebook\",\"Snapchat\",\"Facebook\",\"LinkedIn\",\"Facebook\",\"LinkedIn\",\"Facebook\",\"Twitter\",\"Instagram\",\"Facebook\",\"Instagram\",\"Facebook\",\"Telegram\",\"Whatsapp\",\"Facebook\",\"Telegram\",\"Whatsapp\",\"Twitter\",\"Snapchat\",\"Telegram\",\"Facebook\",\"Snapchat\",\"Facebook\",\"LinkedIn\",\"Facebook\",\"LinkedIn\",\"Facebook\",\"Twitter\",\"Instagram\",\"Facebook\",\"Instagram\",\"Facebook\",\"Telegram\",\"Whatsapp\",\"Facebook\",\"Telegram\",\"Whatsapp\",\"Twitter\",\"Snapchat\",\"Telegram\",\"Facebook\",\"Snapchat\",\"Facebook\",\"LinkedIn\",\"Facebook\",\"LinkedIn\",\"Facebook\",\"Twitter\",\"Instagram\",\"Facebook\",\"Instagram\",\"Facebook\",\"Telegram\",\"Whatsapp\",\"Facebook\",\"Telegram\",\"Whatsapp\",\"Twitter\",\"Snapchat\",\"Telegram\",\"Facebook\",\"Snapchat\",\"Facebook\",\"LinkedIn\",\"Facebook\",\"LinkedIn\",\"Facebook\",\"Twitter\",\"Instagram\",\"Facebook\",\"Instagram\",\"Facebook\",\"Telegram\",\"Whatsapp\",\"Facebook\",\"Telegram\",\"Whatsapp\",\"Twitter\",\"Snapchat\",\"Telegram\",\"Facebook\",\"Snapchat\",\"Facebook\",\"LinkedIn\",\"Facebook\",\"LinkedIn\",\"Facebook\",\"Twitter\",\"Instagram\",\"Facebook\",\"Instagram\",\"Telegram\",\"Facebook\",\"Snapchat\",\"Facebook\",\"LinkedIn\",\"Facebook\",\"LinkedIn\",\"Facebook\",\"Twitter\",\"Instagram\",\"Facebook\",\"Instagram\",\"Facebook\",\"Telegram\",\"Whatsapp\",\"Facebook\",\"Telegram\",\"Whatsapp\",\"Twitter\",\"Snapchat\",\"Telegram\",\"Facebook\",\"Snapchat\",\"Facebook\",\"LinkedIn\",\"Facebook\",\"LinkedIn\",\"Facebook\",\"Twitter\",\"Instagram\",\"Facebook\",\"Instagram\",\"Facebook\",\"Telegram\",\"Whatsapp\",\"Facebook\",\"Telegram\",\"Whatsapp\",\"Twitter\",\"Snapchat\",\"Telegram\",\"Facebook\",\"Snapchat\"],\"xaxis\":\"x\",\"yaxis\":\"y\",\"type\":\"histogram\"},{\"alignmentgroup\":\"True\",\"bingroup\":\"x\",\"hovertemplate\":\"Dominant_Emotion=Anxiety\\u003cbr\\u003ePlatform=%{x}\\u003cbr\\u003ecount=%{y}\\u003cextra\\u003e\\u003c\\u002fextra\\u003e\",\"legendgroup\":\"Anxiety\",\"marker\":{\"color\":\"#ab63fa\",\"pattern\":{\"shape\":\"\"}},\"name\":\"Anxiety\",\"offsetgroup\":\"Anxiety\",\"orientation\":\"v\",\"showlegend\":true,\"x\":[\"Instagram\",\"Twitter\",\"Instagram\",\"Facebook\",\"LinkedIn\",\"Facebook\",\"Facebook\",\"Facebook\",\"LinkedIn\",\"Whatsapp\",\"Snapchat\",\"Telegram\",\"Snapchat\",\"Facebook\",\"Whatsapp\",\"Twitter\",\"Instagram\",\"Instagram\",\"Twitter\",\"Instagram\",\"Facebook\",\"LinkedIn\",\"Facebook\",\"Facebook\",\"Facebook\",\"LinkedIn\",\"Whatsapp\",\"Snapchat\",\"Telegram\",\"Snapchat\",\"Facebook\",\"Whatsapp\",\"Twitter\",\"Instagram\",\"Instagram\",\"Twitter\",\"Instagram\",\"Facebook\",\"LinkedIn\",\"Facebook\",\"Facebook\",\"Facebook\",\"Twitter\",\"Instagram\",\"Instagram\",\"Twitter\",\"Instagram\",\"Facebook\",\"LinkedIn\",\"Facebook\",\"Facebook\",\"Facebook\",\"LinkedIn\",\"Whatsapp\",\"Snapchat\",\"Telegram\",\"Snapchat\",\"Facebook\",\"Whatsapp\",\"Twitter\",\"Instagram\",\"Instagram\",\"Twitter\",\"Instagram\",\"Facebook\",\"LinkedIn\",\"Facebook\",\"Facebook\",\"Facebook\",\"LinkedIn\",\"Whatsapp\",\"Snapchat\",\"Telegram\",\"Snapchat\",\"Facebook\",\"Whatsapp\",\"Twitter\",\"Instagram\",\"Instagram\",\"Twitter\",\"Instagram\",\"Facebook\",\"LinkedIn\",\"Facebook\",\"Facebook\",\"Facebook\",\"LinkedIn\",\"Whatsapp\",\"Snapchat\",\"Telegram\",\"Snapchat\",\"Facebook\",\"Whatsapp\",\"Twitter\",\"Instagram\",\"Instagram\",\"Twitter\",\"Instagram\",\"Facebook\",\"LinkedIn\",\"Facebook\",\"Facebook\",\"Facebook\",\"LinkedIn\",\"Whatsapp\",\"Snapchat\",\"Telegram\",\"Snapchat\",\"Facebook\",\"Whatsapp\",\"Twitter\",\"Instagram\",\"Instagram\",\"Twitter\",\"Instagram\",\"Facebook\",\"LinkedIn\",\"Facebook\",\"Facebook\",\"Facebook\",\"Twitter\",\"Instagram\",\"Instagram\",\"Twitter\",\"Instagram\",\"Facebook\",\"LinkedIn\",\"Facebook\",\"Facebook\",\"Facebook\",\"LinkedIn\",\"Whatsapp\",\"Snapchat\",\"Telegram\",\"Snapchat\",\"Facebook\",\"Whatsapp\",\"Twitter\",\"Instagram\",\"Instagram\",\"Twitter\",\"Instagram\",\"Facebook\",\"LinkedIn\",\"Facebook\",\"Facebook\",\"Facebook\",\"LinkedIn\",\"Whatsapp\",\"Snapchat\",\"Telegram\",\"Snapchat\",\"Facebook\",\"Whatsapp\",\"Twitter\",\"Instagram\"],\"xaxis\":\"x\",\"yaxis\":\"y\",\"type\":\"histogram\"},{\"alignmentgroup\":\"True\",\"bingroup\":\"x\",\"hovertemplate\":\"Dominant_Emotion=Boredom\\u003cbr\\u003ePlatform=%{x}\\u003cbr\\u003ecount=%{y}\\u003cextra\\u003e\\u003c\\u002fextra\\u003e\",\"legendgroup\":\"Boredom\",\"marker\":{\"color\":\"#FFA15A\",\"pattern\":{\"shape\":\"\"}},\"name\":\"Boredom\",\"offsetgroup\":\"Boredom\",\"orientation\":\"v\",\"showlegend\":true,\"x\":[\"LinkedIn\",\"LinkedIn\",\"LinkedIn\",\"LinkedIn\",\"LinkedIn\",\"LinkedIn\",\"LinkedIn\",\"Telegram\",\"Facebook\",\"Facebook\",\"Twitter\",\"Facebook\",\"Facebook\",\"Twitter\",\"LinkedIn\",\"LinkedIn\",\"LinkedIn\",\"LinkedIn\",\"LinkedIn\",\"LinkedIn\",\"LinkedIn\",\"Telegram\",\"Facebook\",\"Facebook\",\"Twitter\",\"Facebook\",\"Facebook\",\"Twitter\",\"LinkedIn\",\"LinkedIn\",\"LinkedIn\",\"LinkedIn\",\"LinkedIn\",\"LinkedIn\",\"LinkedIn\",\"Facebook\",\"Twitter\",\"LinkedIn\",\"LinkedIn\",\"LinkedIn\",\"LinkedIn\",\"LinkedIn\",\"LinkedIn\",\"LinkedIn\",\"Telegram\",\"Facebook\",\"Facebook\",\"Twitter\",\"Facebook\",\"Facebook\",\"Twitter\",\"LinkedIn\",\"LinkedIn\",\"LinkedIn\",\"LinkedIn\",\"LinkedIn\",\"LinkedIn\",\"LinkedIn\",\"Telegram\",\"Facebook\",\"Facebook\",\"Twitter\",\"Facebook\",\"Facebook\",\"Twitter\",\"LinkedIn\",\"LinkedIn\",\"LinkedIn\",\"LinkedIn\",\"LinkedIn\",\"LinkedIn\",\"LinkedIn\",\"Telegram\",\"Facebook\",\"Facebook\",\"Twitter\",\"Facebook\",\"Facebook\",\"Twitter\",\"LinkedIn\",\"LinkedIn\",\"LinkedIn\",\"LinkedIn\",\"LinkedIn\",\"LinkedIn\",\"LinkedIn\",\"Telegram\",\"Facebook\",\"Facebook\",\"Twitter\",\"Facebook\",\"Facebook\",\"Twitter\",\"LinkedIn\",\"LinkedIn\",\"LinkedIn\",\"LinkedIn\",\"LinkedIn\",\"LinkedIn\",\"LinkedIn\",\"Facebook\",\"Twitter\",\"LinkedIn\",\"LinkedIn\",\"LinkedIn\",\"LinkedIn\",\"LinkedIn\",\"LinkedIn\",\"LinkedIn\",\"Telegram\",\"Facebook\",\"Facebook\",\"Twitter\",\"Facebook\",\"Facebook\",\"Twitter\",\"LinkedIn\",\"LinkedIn\",\"LinkedIn\",\"LinkedIn\",\"LinkedIn\",\"LinkedIn\",\"LinkedIn\",\"Telegram\",\"Facebook\",\"Facebook\",\"Twitter\",\"Facebook\",\"Facebook\",\"Twitter\"],\"xaxis\":\"x\",\"yaxis\":\"y\",\"type\":\"histogram\"},{\"alignmentgroup\":\"True\",\"bingroup\":\"x\",\"hovertemplate\":\"Dominant_Emotion=Sadness\\u003cbr\\u003ePlatform=%{x}\\u003cbr\\u003ecount=%{y}\\u003cextra\\u003e\\u003c\\u002fextra\\u003e\",\"legendgroup\":\"Sadness\",\"marker\":{\"color\":\"#19d3f3\",\"pattern\":{\"shape\":\"\"}},\"name\":\"Sadness\",\"offsetgroup\":\"Sadness\",\"orientation\":\"v\",\"showlegend\":true,\"x\":[\"Facebook\",\"Facebook\",\"Twitter\",\"Twitter\",\"Facebook\",\"Instagram\",\"LinkedIn\",\"Twitter\",\"Instagram\",\"Snapchat\",\"Twitter\",\"Snapchat\",\"Twitter\",\"Telegram\",\"Telegram\",\"Snapchat\",\"Facebook\",\"Facebook\",\"Twitter\",\"Twitter\",\"Facebook\",\"Instagram\",\"LinkedIn\",\"Twitter\",\"Instagram\",\"Snapchat\",\"Twitter\",\"Snapchat\",\"Twitter\",\"Telegram\",\"Telegram\",\"Snapchat\",\"Facebook\",\"Facebook\",\"Twitter\",\"Twitter\",\"Facebook\",\"Instagram\",\"LinkedIn\",\"Twitter\",\"Snapchat\",\"Facebook\",\"Facebook\",\"Twitter\",\"Twitter\",\"Facebook\",\"Instagram\",\"LinkedIn\",\"Twitter\",\"Instagram\",\"Snapchat\",\"Twitter\",\"Snapchat\",\"Twitter\",\"Telegram\",\"Telegram\",\"Snapchat\",\"Facebook\",\"Facebook\",\"Twitter\",\"Twitter\",\"Facebook\",\"Instagram\",\"LinkedIn\",\"Twitter\",\"Instagram\",\"Snapchat\",\"Twitter\",\"Snapchat\",\"Twitter\",\"Telegram\",\"Telegram\",\"Snapchat\",\"Facebook\",\"Facebook\",\"Twitter\",\"Twitter\",\"Facebook\",\"Instagram\",\"LinkedIn\",\"Twitter\",\"Instagram\",\"Snapchat\",\"Twitter\",\"Snapchat\",\"Twitter\",\"Telegram\",\"Telegram\",\"Snapchat\",\"Facebook\",\"Facebook\",\"Twitter\",\"Twitter\",\"Facebook\",\"Instagram\",\"LinkedIn\",\"Twitter\",\"Instagram\",\"Snapchat\",\"Twitter\",\"Snapchat\",\"Twitter\",\"Telegram\",\"Telegram\",\"Snapchat\",\"Facebook\",\"Facebook\",\"Twitter\",\"Twitter\",\"Facebook\",\"Instagram\",\"LinkedIn\",\"Twitter\",\"Snapchat\",\"Facebook\",\"Facebook\",\"Twitter\",\"Twitter\",\"Facebook\",\"Instagram\",\"LinkedIn\",\"Twitter\",\"Instagram\",\"Snapchat\",\"Twitter\",\"Snapchat\",\"Twitter\",\"Telegram\",\"Telegram\",\"Snapchat\",\"Facebook\",\"Facebook\",\"Twitter\",\"Twitter\",\"Facebook\",\"Instagram\",\"LinkedIn\",\"Twitter\",\"Instagram\",\"Snapchat\",\"Twitter\",\"Snapchat\",\"Twitter\",\"Telegram\",\"Telegram\",\"Snapchat\"],\"xaxis\":\"x\",\"yaxis\":\"y\",\"type\":\"histogram\"}],                        {\"template\":{\"data\":{\"histogram2dcontour\":[{\"type\":\"histogram2dcontour\",\"colorbar\":{\"outlinewidth\":0,\"ticks\":\"\"},\"colorscale\":[[0.0,\"#0d0887\"],[0.1111111111111111,\"#46039f\"],[0.2222222222222222,\"#7201a8\"],[0.3333333333333333,\"#9c179e\"],[0.4444444444444444,\"#bd3786\"],[0.5555555555555556,\"#d8576b\"],[0.6666666666666666,\"#ed7953\"],[0.7777777777777778,\"#fb9f3a\"],[0.8888888888888888,\"#fdca26\"],[1.0,\"#f0f921\"]]}],\"choropleth\":[{\"type\":\"choropleth\",\"colorbar\":{\"outlinewidth\":0,\"ticks\":\"\"}}],\"histogram2d\":[{\"type\":\"histogram2d\",\"colorbar\":{\"outlinewidth\":0,\"ticks\":\"\"},\"colorscale\":[[0.0,\"#0d0887\"],[0.1111111111111111,\"#46039f\"],[0.2222222222222222,\"#7201a8\"],[0.3333333333333333,\"#9c179e\"],[0.4444444444444444,\"#bd3786\"],[0.5555555555555556,\"#d8576b\"],[0.6666666666666666,\"#ed7953\"],[0.7777777777777778,\"#fb9f3a\"],[0.8888888888888888,\"#fdca26\"],[1.0,\"#f0f921\"]]}],\"heatmap\":[{\"type\":\"heatmap\",\"colorbar\":{\"outlinewidth\":0,\"ticks\":\"\"},\"colorscale\":[[0.0,\"#0d0887\"],[0.1111111111111111,\"#46039f\"],[0.2222222222222222,\"#7201a8\"],[0.3333333333333333,\"#9c179e\"],[0.4444444444444444,\"#bd3786\"],[0.5555555555555556,\"#d8576b\"],[0.6666666666666666,\"#ed7953\"],[0.7777777777777778,\"#fb9f3a\"],[0.8888888888888888,\"#fdca26\"],[1.0,\"#f0f921\"]]}],\"heatmapgl\":[{\"type\":\"heatmapgl\",\"colorbar\":{\"outlinewidth\":0,\"ticks\":\"\"},\"colorscale\":[[0.0,\"#0d0887\"],[0.1111111111111111,\"#46039f\"],[0.2222222222222222,\"#7201a8\"],[0.3333333333333333,\"#9c179e\"],[0.4444444444444444,\"#bd3786\"],[0.5555555555555556,\"#d8576b\"],[0.6666666666666666,\"#ed7953\"],[0.7777777777777778,\"#fb9f3a\"],[0.8888888888888888,\"#fdca26\"],[1.0,\"#f0f921\"]]}],\"contourcarpet\":[{\"type\":\"contourcarpet\",\"colorbar\":{\"outlinewidth\":0,\"ticks\":\"\"}}],\"contour\":[{\"type\":\"contour\",\"colorbar\":{\"outlinewidth\":0,\"ticks\":\"\"},\"colorscale\":[[0.0,\"#0d0887\"],[0.1111111111111111,\"#46039f\"],[0.2222222222222222,\"#7201a8\"],[0.3333333333333333,\"#9c179e\"],[0.4444444444444444,\"#bd3786\"],[0.5555555555555556,\"#d8576b\"],[0.6666666666666666,\"#ed7953\"],[0.7777777777777778,\"#fb9f3a\"],[0.8888888888888888,\"#fdca26\"],[1.0,\"#f0f921\"]]}],\"surface\":[{\"type\":\"surface\",\"colorbar\":{\"outlinewidth\":0,\"ticks\":\"\"},\"colorscale\":[[0.0,\"#0d0887\"],[0.1111111111111111,\"#46039f\"],[0.2222222222222222,\"#7201a8\"],[0.3333333333333333,\"#9c179e\"],[0.4444444444444444,\"#bd3786\"],[0.5555555555555556,\"#d8576b\"],[0.6666666666666666,\"#ed7953\"],[0.7777777777777778,\"#fb9f3a\"],[0.8888888888888888,\"#fdca26\"],[1.0,\"#f0f921\"]]}],\"mesh3d\":[{\"type\":\"mesh3d\",\"colorbar\":{\"outlinewidth\":0,\"ticks\":\"\"}}],\"scatter\":[{\"fillpattern\":{\"fillmode\":\"overlay\",\"size\":10,\"solidity\":0.2},\"type\":\"scatter\"}],\"parcoords\":[{\"type\":\"parcoords\",\"line\":{\"colorbar\":{\"outlinewidth\":0,\"ticks\":\"\"}}}],\"scatterpolargl\":[{\"type\":\"scatterpolargl\",\"marker\":{\"colorbar\":{\"outlinewidth\":0,\"ticks\":\"\"}}}],\"bar\":[{\"error_x\":{\"color\":\"#2a3f5f\"},\"error_y\":{\"color\":\"#2a3f5f\"},\"marker\":{\"line\":{\"color\":\"#E5ECF6\",\"width\":0.5},\"pattern\":{\"fillmode\":\"overlay\",\"size\":10,\"solidity\":0.2}},\"type\":\"bar\"}],\"scattergeo\":[{\"type\":\"scattergeo\",\"marker\":{\"colorbar\":{\"outlinewidth\":0,\"ticks\":\"\"}}}],\"scatterpolar\":[{\"type\":\"scatterpolar\",\"marker\":{\"colorbar\":{\"outlinewidth\":0,\"ticks\":\"\"}}}],\"histogram\":[{\"marker\":{\"pattern\":{\"fillmode\":\"overlay\",\"size\":10,\"solidity\":0.2}},\"type\":\"histogram\"}],\"scattergl\":[{\"type\":\"scattergl\",\"marker\":{\"colorbar\":{\"outlinewidth\":0,\"ticks\":\"\"}}}],\"scatter3d\":[{\"type\":\"scatter3d\",\"line\":{\"colorbar\":{\"outlinewidth\":0,\"ticks\":\"\"}},\"marker\":{\"colorbar\":{\"outlinewidth\":0,\"ticks\":\"\"}}}],\"scattermapbox\":[{\"type\":\"scattermapbox\",\"marker\":{\"colorbar\":{\"outlinewidth\":0,\"ticks\":\"\"}}}],\"scatterternary\":[{\"type\":\"scatterternary\",\"marker\":{\"colorbar\":{\"outlinewidth\":0,\"ticks\":\"\"}}}],\"scattercarpet\":[{\"type\":\"scattercarpet\",\"marker\":{\"colorbar\":{\"outlinewidth\":0,\"ticks\":\"\"}}}],\"carpet\":[{\"aaxis\":{\"endlinecolor\":\"#2a3f5f\",\"gridcolor\":\"white\",\"linecolor\":\"white\",\"minorgridcolor\":\"white\",\"startlinecolor\":\"#2a3f5f\"},\"baxis\":{\"endlinecolor\":\"#2a3f5f\",\"gridcolor\":\"white\",\"linecolor\":\"white\",\"minorgridcolor\":\"white\",\"startlinecolor\":\"#2a3f5f\"},\"type\":\"carpet\"}],\"table\":[{\"cells\":{\"fill\":{\"color\":\"#EBF0F8\"},\"line\":{\"color\":\"white\"}},\"header\":{\"fill\":{\"color\":\"#C8D4E3\"},\"line\":{\"color\":\"white\"}},\"type\":\"table\"}],\"barpolar\":[{\"marker\":{\"line\":{\"color\":\"#E5ECF6\",\"width\":0.5},\"pattern\":{\"fillmode\":\"overlay\",\"size\":10,\"solidity\":0.2}},\"type\":\"barpolar\"}],\"pie\":[{\"automargin\":true,\"type\":\"pie\"}]},\"layout\":{\"autotypenumbers\":\"strict\",\"colorway\":[\"#636efa\",\"#EF553B\",\"#00cc96\",\"#ab63fa\",\"#FFA15A\",\"#19d3f3\",\"#FF6692\",\"#B6E880\",\"#FF97FF\",\"#FECB52\"],\"font\":{\"color\":\"#2a3f5f\"},\"hovermode\":\"closest\",\"hoverlabel\":{\"align\":\"left\"},\"paper_bgcolor\":\"white\",\"plot_bgcolor\":\"#E5ECF6\",\"polar\":{\"bgcolor\":\"#E5ECF6\",\"angularaxis\":{\"gridcolor\":\"white\",\"linecolor\":\"white\",\"ticks\":\"\"},\"radialaxis\":{\"gridcolor\":\"white\",\"linecolor\":\"white\",\"ticks\":\"\"}},\"ternary\":{\"bgcolor\":\"#E5ECF6\",\"aaxis\":{\"gridcolor\":\"white\",\"linecolor\":\"white\",\"ticks\":\"\"},\"baxis\":{\"gridcolor\":\"white\",\"linecolor\":\"white\",\"ticks\":\"\"},\"caxis\":{\"gridcolor\":\"white\",\"linecolor\":\"white\",\"ticks\":\"\"}},\"coloraxis\":{\"colorbar\":{\"outlinewidth\":0,\"ticks\":\"\"}},\"colorscale\":{\"sequential\":[[0.0,\"#0d0887\"],[0.1111111111111111,\"#46039f\"],[0.2222222222222222,\"#7201a8\"],[0.3333333333333333,\"#9c179e\"],[0.4444444444444444,\"#bd3786\"],[0.5555555555555556,\"#d8576b\"],[0.6666666666666666,\"#ed7953\"],[0.7777777777777778,\"#fb9f3a\"],[0.8888888888888888,\"#fdca26\"],[1.0,\"#f0f921\"]],\"sequentialminus\":[[0.0,\"#0d0887\"],[0.1111111111111111,\"#46039f\"],[0.2222222222222222,\"#7201a8\"],[0.3333333333333333,\"#9c179e\"],[0.4444444444444444,\"#bd3786\"],[0.5555555555555556,\"#d8576b\"],[0.6666666666666666,\"#ed7953\"],[0.7777777777777778,\"#fb9f3a\"],[0.8888888888888888,\"#fdca26\"],[1.0,\"#f0f921\"]],\"diverging\":[[0,\"#8e0152\"],[0.1,\"#c51b7d\"],[0.2,\"#de77ae\"],[0.3,\"#f1b6da\"],[0.4,\"#fde0ef\"],[0.5,\"#f7f7f7\"],[0.6,\"#e6f5d0\"],[0.7,\"#b8e186\"],[0.8,\"#7fbc41\"],[0.9,\"#4d9221\"],[1,\"#276419\"]]},\"xaxis\":{\"gridcolor\":\"white\",\"linecolor\":\"white\",\"ticks\":\"\",\"title\":{\"standoff\":15},\"zerolinecolor\":\"white\",\"automargin\":true,\"zerolinewidth\":2},\"yaxis\":{\"gridcolor\":\"white\",\"linecolor\":\"white\",\"ticks\":\"\",\"title\":{\"standoff\":15},\"zerolinecolor\":\"white\",\"automargin\":true,\"zerolinewidth\":2},\"scene\":{\"xaxis\":{\"backgroundcolor\":\"#E5ECF6\",\"gridcolor\":\"white\",\"linecolor\":\"white\",\"showbackground\":true,\"ticks\":\"\",\"zerolinecolor\":\"white\",\"gridwidth\":2},\"yaxis\":{\"backgroundcolor\":\"#E5ECF6\",\"gridcolor\":\"white\",\"linecolor\":\"white\",\"showbackground\":true,\"ticks\":\"\",\"zerolinecolor\":\"white\",\"gridwidth\":2},\"zaxis\":{\"backgroundcolor\":\"#E5ECF6\",\"gridcolor\":\"white\",\"linecolor\":\"white\",\"showbackground\":true,\"ticks\":\"\",\"zerolinecolor\":\"white\",\"gridwidth\":2}},\"shapedefaults\":{\"line\":{\"color\":\"#2a3f5f\"}},\"annotationdefaults\":{\"arrowcolor\":\"#2a3f5f\",\"arrowhead\":0,\"arrowwidth\":1},\"geo\":{\"bgcolor\":\"white\",\"landcolor\":\"#E5ECF6\",\"subunitcolor\":\"white\",\"showland\":true,\"showlakes\":true,\"lakecolor\":\"white\"},\"title\":{\"x\":0.05},\"mapbox\":{\"style\":\"light\"}}},\"xaxis\":{\"anchor\":\"y\",\"domain\":[0.0,1.0],\"title\":{\"text\":\"Platform\"}},\"yaxis\":{\"anchor\":\"x\",\"domain\":[0.0,1.0],\"title\":{\"text\":\"count\"}},\"legend\":{\"title\":{\"text\":\"Dominant_Emotion\"},\"tracegroupgap\":0},\"title\":{\"text\":\"Dominant Emotion by Platform\"},\"barmode\":\"relative\"},                        {\"responsive\": true}                    ).then(function(){\n",
              "                            \n",
              "var gd = document.getElementById('b61a0279-c0d6-4204-869b-586e56b0d19e');\n",
              "var x = new MutationObserver(function (mutations, observer) {{\n",
              "        var display = window.getComputedStyle(gd).display;\n",
              "        if (!display || display === 'none') {{\n",
              "            console.log([gd, 'removed!']);\n",
              "            Plotly.purge(gd);\n",
              "            observer.disconnect();\n",
              "        }}\n",
              "}});\n",
              "\n",
              "// Listen for the removal of the full notebook cells\n",
              "var notebookContainer = gd.closest('#notebook-container');\n",
              "if (notebookContainer) {{\n",
              "    x.observe(notebookContainer, {childList: true});\n",
              "}}\n",
              "\n",
              "// Listen for the clearing of the current output cell\n",
              "var outputEl = gd.closest('.output');\n",
              "if (outputEl) {{\n",
              "    x.observe(outputEl, {childList: true});\n",
              "}}\n",
              "\n",
              "                        })                };                            </script>        </div>\n",
              "</body>\n",
              "</html>"
            ]
          },
          "metadata": {}
        }
      ]
    },
    {
      "cell_type": "markdown",
      "source": [
        "Time Spent VS Emotions"
      ],
      "metadata": {
        "id": "pxIywA-WRMxE"
      }
    },
    {
      "cell_type": "code",
      "source": [
        "# Daily Usage time by Dominant_Emotion\n",
        "plt = px.histogram(train_df, x='Daily_Usage_Time (minutes)', color='Dominant_Emotion', title='Time Usage by Dominant Emotion')\n",
        "plt.show()"
      ],
      "metadata": {
        "id": "V-lwC91QRJxd",
        "colab": {
          "base_uri": "https://localhost:8080/",
          "height": 542
        },
        "outputId": "3adcd711-1ed2-4534-f093-d90973fabc65"
      },
      "execution_count": null,
      "outputs": [
        {
          "output_type": "display_data",
          "data": {
            "text/html": [
              "<html>\n",
              "<head><meta charset=\"utf-8\" /></head>\n",
              "<body>\n",
              "    <div>            <script src=\"https://cdnjs.cloudflare.com/ajax/libs/mathjax/2.7.5/MathJax.js?config=TeX-AMS-MML_SVG\"></script><script type=\"text/javascript\">if (window.MathJax && window.MathJax.Hub && window.MathJax.Hub.Config) {window.MathJax.Hub.Config({SVG: {font: \"STIX-Web\"}});}</script>                <script type=\"text/javascript\">window.PlotlyConfig = {MathJaxConfig: 'local'};</script>\n",
              "        <script charset=\"utf-8\" src=\"https://cdn.plot.ly/plotly-2.24.1.min.js\"></script>                <div id=\"363e18c2-5002-4e40-bc1d-00f11d3d7258\" class=\"plotly-graph-div\" style=\"height:525px; width:100%;\"></div>            <script type=\"text/javascript\">                                    window.PLOTLYENV=window.PLOTLYENV || {};                                    if (document.getElementById(\"363e18c2-5002-4e40-bc1d-00f11d3d7258\")) {                    Plotly.newPlot(                        \"363e18c2-5002-4e40-bc1d-00f11d3d7258\",                        [{\"alignmentgroup\":\"True\",\"bingroup\":\"x\",\"hovertemplate\":\"Dominant_Emotion=Happiness\\u003cbr\\u003eDaily_Usage_Time (minutes)=%{x}\\u003cbr\\u003ecount=%{y}\\u003cextra\\u003e\\u003c\\u002fextra\\u003e\",\"legendgroup\":\"Happiness\",\"marker\":{\"color\":\"#636efa\",\"pattern\":{\"shape\":\"\"}},\"name\":\"Happiness\",\"offsetgroup\":\"Happiness\",\"orientation\":\"v\",\"showlegend\":true,\"x\":[120.0,150.0,170.0,180.0,140.0,190.0,160.0,145.0,170.0,150.0,175.0,165.0,95.0,175.0,165.0,140.0,155.0,85.0,170.0,110.0,120.0,150.0,170.0,180.0,140.0,190.0,160.0,145.0,170.0,150.0,175.0,165.0,95.0,175.0,165.0,140.0,155.0,85.0,170.0,110.0,120.0,150.0,170.0,180.0,140.0,190.0,160.0,145.0,170.0,150.0,175.0,170.0,110.0,120.0,150.0,170.0,180.0,140.0,190.0,160.0,145.0,170.0,150.0,175.0,165.0,95.0,175.0,165.0,140.0,155.0,85.0,170.0,110.0,120.0,150.0,170.0,180.0,140.0,190.0,160.0,145.0,170.0,150.0,175.0,165.0,95.0,175.0,165.0,140.0,155.0,85.0,170.0,110.0,120.0,150.0,170.0,180.0,140.0,190.0,160.0,145.0,170.0,150.0,175.0,165.0,95.0,175.0,165.0,140.0,155.0,85.0,170.0,110.0,120.0,150.0,170.0,180.0,140.0,190.0,160.0,145.0,170.0,150.0,175.0,165.0,95.0,175.0,165.0,140.0,155.0,85.0,170.0,110.0,120.0,150.0,170.0,180.0,140.0,190.0,160.0,145.0,170.0,150.0,175.0,170.0,110.0,120.0,150.0,170.0,180.0,140.0,190.0,160.0,145.0,170.0,150.0,175.0,165.0,95.0,175.0,165.0,140.0,155.0,85.0,170.0,110.0,120.0,150.0,170.0,180.0,140.0,190.0,160.0,145.0,170.0,150.0,175.0,165.0,95.0,175.0,165.0,140.0,155.0,85.0,170.0,110.0],\"xaxis\":\"x\",\"yaxis\":\"y\",\"type\":\"histogram\"},{\"alignmentgroup\":\"True\",\"bingroup\":\"x\",\"hovertemplate\":\"Dominant_Emotion=Anger\\u003cbr\\u003eDaily_Usage_Time (minutes)=%{x}\\u003cbr\\u003ecount=%{y}\\u003cextra\\u003e\\u003c\\u002fextra\\u003e\",\"legendgroup\":\"Anger\",\"marker\":{\"color\":\"#EF553B\",\"pattern\":{\"shape\":\"\"}},\"name\":\"Anger\",\"offsetgroup\":\"Anger\",\"orientation\":\"v\",\"showlegend\":true,\"x\":[90.0,85.0,100.0,105.0,90.0,85.0,95.0,75.0,70.0,90.0,120.0,105.0,60.0,90.0,85.0,100.0,105.0,90.0,85.0,95.0,75.0,70.0,90.0,120.0,105.0,60.0,90.0,85.0,100.0,105.0,90.0,85.0,95.0,105.0,60.0,90.0,85.0,100.0,105.0,90.0,85.0,95.0,75.0,70.0,90.0,120.0,105.0,60.0,90.0,85.0,100.0,105.0,90.0,85.0,95.0,75.0,70.0,90.0,120.0,105.0,60.0,90.0,85.0,100.0,105.0,90.0,85.0,95.0,75.0,70.0,90.0,120.0,105.0,60.0,90.0,85.0,100.0,105.0,90.0,85.0,95.0,75.0,70.0,90.0,120.0,105.0,60.0,90.0,85.0,100.0,105.0,90.0,85.0,95.0,105.0,60.0,90.0,85.0,100.0,105.0,90.0,85.0,95.0,75.0,70.0,90.0,120.0,105.0,60.0,90.0,85.0,100.0,105.0,90.0,85.0,95.0,75.0,70.0,90.0,120.0,105.0,60.0],\"xaxis\":\"x\",\"yaxis\":\"y\",\"type\":\"histogram\"},{\"alignmentgroup\":\"True\",\"bingroup\":\"x\",\"hovertemplate\":\"Dominant_Emotion=Neutral\\u003cbr\\u003eDaily_Usage_Time (minutes)=%{x}\\u003cbr\\u003ecount=%{y}\\u003cextra\\u003e\\u003c\\u002fextra\\u003e\",\"legendgroup\":\"Neutral\",\"marker\":{\"color\":\"#00cc96\",\"pattern\":{\"shape\":\"\"}},\"name\":\"Neutral\",\"offsetgroup\":\"Neutral\",\"orientation\":\"v\",\"showlegend\":true,\"x\":[60.0,55.0,40.0,50.0,80.0,70.0,115.0,105.0,130.0,85.0,80.0,65.0,55.0,80.0,90.0,70.0,60.0,75.0,70.0,120.0,60.0,55.0,40.0,50.0,80.0,70.0,115.0,105.0,130.0,85.0,80.0,65.0,55.0,80.0,90.0,70.0,60.0,75.0,70.0,120.0,60.0,55.0,40.0,50.0,80.0,70.0,115.0,105.0,130.0,75.0,70.0,120.0,60.0,55.0,40.0,50.0,80.0,70.0,115.0,105.0,130.0,85.0,80.0,65.0,55.0,80.0,90.0,70.0,60.0,75.0,70.0,120.0,60.0,55.0,40.0,50.0,80.0,70.0,115.0,105.0,130.0,85.0,80.0,65.0,55.0,80.0,90.0,70.0,60.0,75.0,70.0,120.0,60.0,55.0,40.0,50.0,80.0,70.0,115.0,105.0,130.0,85.0,80.0,65.0,55.0,80.0,90.0,70.0,60.0,75.0,70.0,120.0,60.0,55.0,40.0,50.0,80.0,70.0,115.0,105.0,130.0,85.0,80.0,65.0,55.0,80.0,90.0,70.0,60.0,75.0,70.0,120.0,60.0,55.0,40.0,50.0,80.0,70.0,115.0,105.0,130.0,75.0,70.0,120.0,60.0,55.0,40.0,50.0,80.0,70.0,115.0,105.0,130.0,85.0,80.0,65.0,55.0,80.0,90.0,70.0,60.0,75.0,70.0,120.0,60.0,55.0,40.0,50.0,80.0,70.0,115.0,105.0,130.0,85.0,80.0,65.0,55.0,80.0,90.0,70.0,60.0,75.0,70.0,120.0],\"xaxis\":\"x\",\"yaxis\":\"y\",\"type\":\"histogram\"},{\"alignmentgroup\":\"True\",\"bingroup\":\"x\",\"hovertemplate\":\"Dominant_Emotion=Anxiety\\u003cbr\\u003eDaily_Usage_Time (minutes)=%{x}\\u003cbr\\u003ecount=%{y}\\u003cextra\\u003e\\u003c\\u002fextra\\u003e\",\"legendgroup\":\"Anxiety\",\"marker\":{\"color\":\"#ab63fa\",\"pattern\":{\"shape\":\"\"}},\"name\":\"Anxiety\",\"offsetgroup\":\"Anxiety\",\"orientation\":\"v\",\"showlegend\":true,\"x\":[200.0,75.0,125.0,75.0,55.0,65.0,100.0,75.0,60.0,70.0,120.0,105.0,115.0,65.0,100.0,70.0,150.0,200.0,75.0,125.0,75.0,55.0,65.0,100.0,75.0,60.0,70.0,120.0,105.0,115.0,65.0,100.0,70.0,150.0,200.0,75.0,125.0,75.0,55.0,65.0,100.0,75.0,70.0,150.0,200.0,75.0,125.0,75.0,55.0,65.0,100.0,75.0,60.0,70.0,120.0,105.0,115.0,65.0,100.0,70.0,150.0,200.0,75.0,125.0,75.0,55.0,65.0,100.0,75.0,60.0,70.0,120.0,105.0,115.0,65.0,100.0,70.0,150.0,200.0,75.0,125.0,75.0,55.0,65.0,100.0,75.0,60.0,70.0,120.0,105.0,115.0,65.0,100.0,70.0,150.0,200.0,75.0,125.0,75.0,55.0,65.0,100.0,75.0,60.0,70.0,120.0,105.0,115.0,65.0,100.0,70.0,150.0,200.0,75.0,125.0,75.0,55.0,65.0,100.0,75.0,70.0,150.0,200.0,75.0,125.0,75.0,55.0,65.0,100.0,75.0,60.0,70.0,120.0,105.0,115.0,65.0,100.0,70.0,150.0,200.0,75.0,125.0,75.0,55.0,65.0,100.0,75.0,60.0,70.0,120.0,105.0,115.0,65.0,100.0,70.0,150.0],\"xaxis\":\"x\",\"yaxis\":\"y\",\"type\":\"histogram\"},{\"alignmentgroup\":\"True\",\"bingroup\":\"x\",\"hovertemplate\":\"Dominant_Emotion=Boredom\\u003cbr\\u003eDaily_Usage_Time (minutes)=%{x}\\u003cbr\\u003ecount=%{y}\\u003cextra\\u003e\\u003c\\u002fextra\\u003e\",\"legendgroup\":\"Boredom\",\"marker\":{\"color\":\"#FFA15A\",\"pattern\":{\"shape\":\"\"}},\"name\":\"Boredom\",\"offsetgroup\":\"Boredom\",\"orientation\":\"v\",\"showlegend\":true,\"x\":[45.0,65.0,60.0,65.0,55.0,60.0,55.0,90.0,60.0,60.0,70.0,75.0,50.0,85.0,45.0,65.0,60.0,65.0,55.0,60.0,55.0,90.0,60.0,60.0,70.0,75.0,50.0,85.0,45.0,65.0,60.0,65.0,55.0,60.0,55.0,50.0,85.0,45.0,65.0,60.0,65.0,55.0,60.0,55.0,90.0,60.0,60.0,70.0,75.0,50.0,85.0,45.0,65.0,60.0,65.0,55.0,60.0,55.0,90.0,60.0,60.0,70.0,75.0,50.0,85.0,45.0,65.0,60.0,65.0,55.0,60.0,55.0,90.0,60.0,60.0,70.0,75.0,50.0,85.0,45.0,65.0,60.0,65.0,55.0,60.0,55.0,90.0,60.0,60.0,70.0,75.0,50.0,85.0,45.0,65.0,60.0,65.0,55.0,60.0,55.0,50.0,85.0,45.0,65.0,60.0,65.0,55.0,60.0,55.0,90.0,60.0,60.0,70.0,75.0,50.0,85.0,45.0,65.0,60.0,65.0,55.0,60.0,55.0,90.0,60.0,60.0,70.0,75.0,50.0,85.0],\"xaxis\":\"x\",\"yaxis\":\"y\",\"type\":\"histogram\"},{\"alignmentgroup\":\"True\",\"bingroup\":\"x\",\"hovertemplate\":\"Dominant_Emotion=Sadness\\u003cbr\\u003eDaily_Usage_Time (minutes)=%{x}\\u003cbr\\u003ecount=%{y}\\u003cextra\\u003e\\u003c\\u002fextra\\u003e\",\"legendgroup\":\"Sadness\",\"marker\":{\"color\":\"#19d3f3\",\"pattern\":{\"shape\":\"\"}},\"name\":\"Sadness\",\"offsetgroup\":\"Sadness\",\"orientation\":\"v\",\"showlegend\":true,\"x\":[110.0,95.0,90.0,70.0,45.0,130.0,45.0,90.0,145.0,50.0,90.0,75.0,75.0,50.0,85.0,95.0,110.0,95.0,90.0,70.0,45.0,130.0,45.0,90.0,145.0,50.0,90.0,75.0,75.0,50.0,85.0,95.0,110.0,95.0,90.0,70.0,45.0,130.0,45.0,90.0,95.0,110.0,95.0,90.0,70.0,45.0,130.0,45.0,90.0,145.0,50.0,90.0,75.0,75.0,50.0,85.0,95.0,110.0,95.0,90.0,70.0,45.0,130.0,45.0,90.0,145.0,50.0,90.0,75.0,75.0,50.0,85.0,95.0,110.0,95.0,90.0,70.0,45.0,130.0,45.0,90.0,145.0,50.0,90.0,75.0,75.0,50.0,85.0,95.0,110.0,95.0,90.0,70.0,45.0,130.0,45.0,90.0,145.0,50.0,90.0,75.0,75.0,50.0,85.0,95.0,110.0,95.0,90.0,70.0,45.0,130.0,45.0,90.0,95.0,110.0,95.0,90.0,70.0,45.0,130.0,45.0,90.0,145.0,50.0,90.0,75.0,75.0,50.0,85.0,95.0,110.0,95.0,90.0,70.0,45.0,130.0,45.0,90.0,145.0,50.0,90.0,75.0,75.0,50.0,85.0,95.0],\"xaxis\":\"x\",\"yaxis\":\"y\",\"type\":\"histogram\"}],                        {\"template\":{\"data\":{\"histogram2dcontour\":[{\"type\":\"histogram2dcontour\",\"colorbar\":{\"outlinewidth\":0,\"ticks\":\"\"},\"colorscale\":[[0.0,\"#0d0887\"],[0.1111111111111111,\"#46039f\"],[0.2222222222222222,\"#7201a8\"],[0.3333333333333333,\"#9c179e\"],[0.4444444444444444,\"#bd3786\"],[0.5555555555555556,\"#d8576b\"],[0.6666666666666666,\"#ed7953\"],[0.7777777777777778,\"#fb9f3a\"],[0.8888888888888888,\"#fdca26\"],[1.0,\"#f0f921\"]]}],\"choropleth\":[{\"type\":\"choropleth\",\"colorbar\":{\"outlinewidth\":0,\"ticks\":\"\"}}],\"histogram2d\":[{\"type\":\"histogram2d\",\"colorbar\":{\"outlinewidth\":0,\"ticks\":\"\"},\"colorscale\":[[0.0,\"#0d0887\"],[0.1111111111111111,\"#46039f\"],[0.2222222222222222,\"#7201a8\"],[0.3333333333333333,\"#9c179e\"],[0.4444444444444444,\"#bd3786\"],[0.5555555555555556,\"#d8576b\"],[0.6666666666666666,\"#ed7953\"],[0.7777777777777778,\"#fb9f3a\"],[0.8888888888888888,\"#fdca26\"],[1.0,\"#f0f921\"]]}],\"heatmap\":[{\"type\":\"heatmap\",\"colorbar\":{\"outlinewidth\":0,\"ticks\":\"\"},\"colorscale\":[[0.0,\"#0d0887\"],[0.1111111111111111,\"#46039f\"],[0.2222222222222222,\"#7201a8\"],[0.3333333333333333,\"#9c179e\"],[0.4444444444444444,\"#bd3786\"],[0.5555555555555556,\"#d8576b\"],[0.6666666666666666,\"#ed7953\"],[0.7777777777777778,\"#fb9f3a\"],[0.8888888888888888,\"#fdca26\"],[1.0,\"#f0f921\"]]}],\"heatmapgl\":[{\"type\":\"heatmapgl\",\"colorbar\":{\"outlinewidth\":0,\"ticks\":\"\"},\"colorscale\":[[0.0,\"#0d0887\"],[0.1111111111111111,\"#46039f\"],[0.2222222222222222,\"#7201a8\"],[0.3333333333333333,\"#9c179e\"],[0.4444444444444444,\"#bd3786\"],[0.5555555555555556,\"#d8576b\"],[0.6666666666666666,\"#ed7953\"],[0.7777777777777778,\"#fb9f3a\"],[0.8888888888888888,\"#fdca26\"],[1.0,\"#f0f921\"]]}],\"contourcarpet\":[{\"type\":\"contourcarpet\",\"colorbar\":{\"outlinewidth\":0,\"ticks\":\"\"}}],\"contour\":[{\"type\":\"contour\",\"colorbar\":{\"outlinewidth\":0,\"ticks\":\"\"},\"colorscale\":[[0.0,\"#0d0887\"],[0.1111111111111111,\"#46039f\"],[0.2222222222222222,\"#7201a8\"],[0.3333333333333333,\"#9c179e\"],[0.4444444444444444,\"#bd3786\"],[0.5555555555555556,\"#d8576b\"],[0.6666666666666666,\"#ed7953\"],[0.7777777777777778,\"#fb9f3a\"],[0.8888888888888888,\"#fdca26\"],[1.0,\"#f0f921\"]]}],\"surface\":[{\"type\":\"surface\",\"colorbar\":{\"outlinewidth\":0,\"ticks\":\"\"},\"colorscale\":[[0.0,\"#0d0887\"],[0.1111111111111111,\"#46039f\"],[0.2222222222222222,\"#7201a8\"],[0.3333333333333333,\"#9c179e\"],[0.4444444444444444,\"#bd3786\"],[0.5555555555555556,\"#d8576b\"],[0.6666666666666666,\"#ed7953\"],[0.7777777777777778,\"#fb9f3a\"],[0.8888888888888888,\"#fdca26\"],[1.0,\"#f0f921\"]]}],\"mesh3d\":[{\"type\":\"mesh3d\",\"colorbar\":{\"outlinewidth\":0,\"ticks\":\"\"}}],\"scatter\":[{\"fillpattern\":{\"fillmode\":\"overlay\",\"size\":10,\"solidity\":0.2},\"type\":\"scatter\"}],\"parcoords\":[{\"type\":\"parcoords\",\"line\":{\"colorbar\":{\"outlinewidth\":0,\"ticks\":\"\"}}}],\"scatterpolargl\":[{\"type\":\"scatterpolargl\",\"marker\":{\"colorbar\":{\"outlinewidth\":0,\"ticks\":\"\"}}}],\"bar\":[{\"error_x\":{\"color\":\"#2a3f5f\"},\"error_y\":{\"color\":\"#2a3f5f\"},\"marker\":{\"line\":{\"color\":\"#E5ECF6\",\"width\":0.5},\"pattern\":{\"fillmode\":\"overlay\",\"size\":10,\"solidity\":0.2}},\"type\":\"bar\"}],\"scattergeo\":[{\"type\":\"scattergeo\",\"marker\":{\"colorbar\":{\"outlinewidth\":0,\"ticks\":\"\"}}}],\"scatterpolar\":[{\"type\":\"scatterpolar\",\"marker\":{\"colorbar\":{\"outlinewidth\":0,\"ticks\":\"\"}}}],\"histogram\":[{\"marker\":{\"pattern\":{\"fillmode\":\"overlay\",\"size\":10,\"solidity\":0.2}},\"type\":\"histogram\"}],\"scattergl\":[{\"type\":\"scattergl\",\"marker\":{\"colorbar\":{\"outlinewidth\":0,\"ticks\":\"\"}}}],\"scatter3d\":[{\"type\":\"scatter3d\",\"line\":{\"colorbar\":{\"outlinewidth\":0,\"ticks\":\"\"}},\"marker\":{\"colorbar\":{\"outlinewidth\":0,\"ticks\":\"\"}}}],\"scattermapbox\":[{\"type\":\"scattermapbox\",\"marker\":{\"colorbar\":{\"outlinewidth\":0,\"ticks\":\"\"}}}],\"scatterternary\":[{\"type\":\"scatterternary\",\"marker\":{\"colorbar\":{\"outlinewidth\":0,\"ticks\":\"\"}}}],\"scattercarpet\":[{\"type\":\"scattercarpet\",\"marker\":{\"colorbar\":{\"outlinewidth\":0,\"ticks\":\"\"}}}],\"carpet\":[{\"aaxis\":{\"endlinecolor\":\"#2a3f5f\",\"gridcolor\":\"white\",\"linecolor\":\"white\",\"minorgridcolor\":\"white\",\"startlinecolor\":\"#2a3f5f\"},\"baxis\":{\"endlinecolor\":\"#2a3f5f\",\"gridcolor\":\"white\",\"linecolor\":\"white\",\"minorgridcolor\":\"white\",\"startlinecolor\":\"#2a3f5f\"},\"type\":\"carpet\"}],\"table\":[{\"cells\":{\"fill\":{\"color\":\"#EBF0F8\"},\"line\":{\"color\":\"white\"}},\"header\":{\"fill\":{\"color\":\"#C8D4E3\"},\"line\":{\"color\":\"white\"}},\"type\":\"table\"}],\"barpolar\":[{\"marker\":{\"line\":{\"color\":\"#E5ECF6\",\"width\":0.5},\"pattern\":{\"fillmode\":\"overlay\",\"size\":10,\"solidity\":0.2}},\"type\":\"barpolar\"}],\"pie\":[{\"automargin\":true,\"type\":\"pie\"}]},\"layout\":{\"autotypenumbers\":\"strict\",\"colorway\":[\"#636efa\",\"#EF553B\",\"#00cc96\",\"#ab63fa\",\"#FFA15A\",\"#19d3f3\",\"#FF6692\",\"#B6E880\",\"#FF97FF\",\"#FECB52\"],\"font\":{\"color\":\"#2a3f5f\"},\"hovermode\":\"closest\",\"hoverlabel\":{\"align\":\"left\"},\"paper_bgcolor\":\"white\",\"plot_bgcolor\":\"#E5ECF6\",\"polar\":{\"bgcolor\":\"#E5ECF6\",\"angularaxis\":{\"gridcolor\":\"white\",\"linecolor\":\"white\",\"ticks\":\"\"},\"radialaxis\":{\"gridcolor\":\"white\",\"linecolor\":\"white\",\"ticks\":\"\"}},\"ternary\":{\"bgcolor\":\"#E5ECF6\",\"aaxis\":{\"gridcolor\":\"white\",\"linecolor\":\"white\",\"ticks\":\"\"},\"baxis\":{\"gridcolor\":\"white\",\"linecolor\":\"white\",\"ticks\":\"\"},\"caxis\":{\"gridcolor\":\"white\",\"linecolor\":\"white\",\"ticks\":\"\"}},\"coloraxis\":{\"colorbar\":{\"outlinewidth\":0,\"ticks\":\"\"}},\"colorscale\":{\"sequential\":[[0.0,\"#0d0887\"],[0.1111111111111111,\"#46039f\"],[0.2222222222222222,\"#7201a8\"],[0.3333333333333333,\"#9c179e\"],[0.4444444444444444,\"#bd3786\"],[0.5555555555555556,\"#d8576b\"],[0.6666666666666666,\"#ed7953\"],[0.7777777777777778,\"#fb9f3a\"],[0.8888888888888888,\"#fdca26\"],[1.0,\"#f0f921\"]],\"sequentialminus\":[[0.0,\"#0d0887\"],[0.1111111111111111,\"#46039f\"],[0.2222222222222222,\"#7201a8\"],[0.3333333333333333,\"#9c179e\"],[0.4444444444444444,\"#bd3786\"],[0.5555555555555556,\"#d8576b\"],[0.6666666666666666,\"#ed7953\"],[0.7777777777777778,\"#fb9f3a\"],[0.8888888888888888,\"#fdca26\"],[1.0,\"#f0f921\"]],\"diverging\":[[0,\"#8e0152\"],[0.1,\"#c51b7d\"],[0.2,\"#de77ae\"],[0.3,\"#f1b6da\"],[0.4,\"#fde0ef\"],[0.5,\"#f7f7f7\"],[0.6,\"#e6f5d0\"],[0.7,\"#b8e186\"],[0.8,\"#7fbc41\"],[0.9,\"#4d9221\"],[1,\"#276419\"]]},\"xaxis\":{\"gridcolor\":\"white\",\"linecolor\":\"white\",\"ticks\":\"\",\"title\":{\"standoff\":15},\"zerolinecolor\":\"white\",\"automargin\":true,\"zerolinewidth\":2},\"yaxis\":{\"gridcolor\":\"white\",\"linecolor\":\"white\",\"ticks\":\"\",\"title\":{\"standoff\":15},\"zerolinecolor\":\"white\",\"automargin\":true,\"zerolinewidth\":2},\"scene\":{\"xaxis\":{\"backgroundcolor\":\"#E5ECF6\",\"gridcolor\":\"white\",\"linecolor\":\"white\",\"showbackground\":true,\"ticks\":\"\",\"zerolinecolor\":\"white\",\"gridwidth\":2},\"yaxis\":{\"backgroundcolor\":\"#E5ECF6\",\"gridcolor\":\"white\",\"linecolor\":\"white\",\"showbackground\":true,\"ticks\":\"\",\"zerolinecolor\":\"white\",\"gridwidth\":2},\"zaxis\":{\"backgroundcolor\":\"#E5ECF6\",\"gridcolor\":\"white\",\"linecolor\":\"white\",\"showbackground\":true,\"ticks\":\"\",\"zerolinecolor\":\"white\",\"gridwidth\":2}},\"shapedefaults\":{\"line\":{\"color\":\"#2a3f5f\"}},\"annotationdefaults\":{\"arrowcolor\":\"#2a3f5f\",\"arrowhead\":0,\"arrowwidth\":1},\"geo\":{\"bgcolor\":\"white\",\"landcolor\":\"#E5ECF6\",\"subunitcolor\":\"white\",\"showland\":true,\"showlakes\":true,\"lakecolor\":\"white\"},\"title\":{\"x\":0.05},\"mapbox\":{\"style\":\"light\"}}},\"xaxis\":{\"anchor\":\"y\",\"domain\":[0.0,1.0],\"title\":{\"text\":\"Daily_Usage_Time (minutes)\"}},\"yaxis\":{\"anchor\":\"x\",\"domain\":[0.0,1.0],\"title\":{\"text\":\"count\"}},\"legend\":{\"title\":{\"text\":\"Dominant_Emotion\"},\"tracegroupgap\":0},\"title\":{\"text\":\"Time Usage by Dominant Emotion\"},\"barmode\":\"relative\"},                        {\"responsive\": true}                    ).then(function(){\n",
              "                            \n",
              "var gd = document.getElementById('363e18c2-5002-4e40-bc1d-00f11d3d7258');\n",
              "var x = new MutationObserver(function (mutations, observer) {{\n",
              "        var display = window.getComputedStyle(gd).display;\n",
              "        if (!display || display === 'none') {{\n",
              "            console.log([gd, 'removed!']);\n",
              "            Plotly.purge(gd);\n",
              "            observer.disconnect();\n",
              "        }}\n",
              "}});\n",
              "\n",
              "// Listen for the removal of the full notebook cells\n",
              "var notebookContainer = gd.closest('#notebook-container');\n",
              "if (notebookContainer) {{\n",
              "    x.observe(notebookContainer, {childList: true});\n",
              "}}\n",
              "\n",
              "// Listen for the clearing of the current output cell\n",
              "var outputEl = gd.closest('.output');\n",
              "if (outputEl) {{\n",
              "    x.observe(outputEl, {childList: true});\n",
              "}}\n",
              "\n",
              "                        })                };                            </script>        </div>\n",
              "</body>\n",
              "</html>"
            ]
          },
          "metadata": {}
        }
      ]
    },
    {
      "cell_type": "markdown",
      "source": [
        "# **Model Training**"
      ],
      "metadata": {
        "id": "fb2G5P2lRTEo"
      }
    },
    {
      "cell_type": "code",
      "source": [
        "# Import libraries\n",
        "from sklearn.model_selection import train_test_split\n",
        "from sklearn.preprocessing import OneHotEncoder, StandardScaler\n",
        "from sklearn.compose import ColumnTransformer\n",
        "from sklearn.pipeline import Pipeline\n",
        "from sklearn.ensemble import RandomForestClassifier\n",
        "from xgboost import XGBClassifier\n",
        "from sklearn.metrics import classification_report"
      ],
      "metadata": {
        "id": "31nJdY4KRYjY"
      },
      "execution_count": null,
      "outputs": []
    },
    {
      "cell_type": "code",
      "source": [
        "# Checking for missing values\n",
        "train_df.isnull().sum()"
      ],
      "metadata": {
        "id": "Ht2WqlOORboJ",
        "colab": {
          "base_uri": "https://localhost:8080/",
          "height": 398
        },
        "outputId": "65d88dc2-6da3-4d17-b474-438e0c21ea96"
      },
      "execution_count": null,
      "outputs": [
        {
          "output_type": "execute_result",
          "data": {
            "text/plain": [
              "User_ID                       0\n",
              "Age                           0\n",
              "Gender                        0\n",
              "Platform                      0\n",
              "Daily_Usage_Time (minutes)    0\n",
              "Posts_Per_Day                 0\n",
              "Likes_Received_Per_Day        0\n",
              "Comments_Received_Per_Day     0\n",
              "Messages_Sent_Per_Day         0\n",
              "Dominant_Emotion              0\n",
              "dtype: int64"
            ],
            "text/html": [
              "<div>\n",
              "<style scoped>\n",
              "    .dataframe tbody tr th:only-of-type {\n",
              "        vertical-align: middle;\n",
              "    }\n",
              "\n",
              "    .dataframe tbody tr th {\n",
              "        vertical-align: top;\n",
              "    }\n",
              "\n",
              "    .dataframe thead th {\n",
              "        text-align: right;\n",
              "    }\n",
              "</style>\n",
              "<table border=\"1\" class=\"dataframe\">\n",
              "  <thead>\n",
              "    <tr style=\"text-align: right;\">\n",
              "      <th></th>\n",
              "      <th>0</th>\n",
              "    </tr>\n",
              "  </thead>\n",
              "  <tbody>\n",
              "    <tr>\n",
              "      <th>User_ID</th>\n",
              "      <td>0</td>\n",
              "    </tr>\n",
              "    <tr>\n",
              "      <th>Age</th>\n",
              "      <td>0</td>\n",
              "    </tr>\n",
              "    <tr>\n",
              "      <th>Gender</th>\n",
              "      <td>0</td>\n",
              "    </tr>\n",
              "    <tr>\n",
              "      <th>Platform</th>\n",
              "      <td>0</td>\n",
              "    </tr>\n",
              "    <tr>\n",
              "      <th>Daily_Usage_Time (minutes)</th>\n",
              "      <td>0</td>\n",
              "    </tr>\n",
              "    <tr>\n",
              "      <th>Posts_Per_Day</th>\n",
              "      <td>0</td>\n",
              "    </tr>\n",
              "    <tr>\n",
              "      <th>Likes_Received_Per_Day</th>\n",
              "      <td>0</td>\n",
              "    </tr>\n",
              "    <tr>\n",
              "      <th>Comments_Received_Per_Day</th>\n",
              "      <td>0</td>\n",
              "    </tr>\n",
              "    <tr>\n",
              "      <th>Messages_Sent_Per_Day</th>\n",
              "      <td>0</td>\n",
              "    </tr>\n",
              "    <tr>\n",
              "      <th>Dominant_Emotion</th>\n",
              "      <td>0</td>\n",
              "    </tr>\n",
              "  </tbody>\n",
              "</table>\n",
              "</div><br><label><b>dtype:</b> int64</label>"
            ]
          },
          "metadata": {},
          "execution_count": 61
        }
      ]
    },
    {
      "cell_type": "code",
      "source": [
        "# drop the missing values\n",
        "train_df.dropna(inplace=True)"
      ],
      "metadata": {
        "id": "WHEuMsGlRfUl"
      },
      "execution_count": null,
      "outputs": []
    },
    {
      "cell_type": "markdown",
      "source": [
        "# **Modeling**"
      ],
      "metadata": {
        "id": "ER1Q5Zq5EfoQ"
      }
    },
    {
      "cell_type": "markdown",
      "source": [
        "**Transformer**"
      ],
      "metadata": {
        "id": "r_MxiQXhEjPT"
      }
    },
    {
      "cell_type": "code",
      "source": [
        "import numpy as np\n",
        "from sklearn.preprocessing import LabelEncoder, StandardScaler, OneHotEncoder\n",
        "from sklearn.compose import ColumnTransformer\n",
        "from sklearn.model_selection import train_test_split\n",
        "from tensorflow.keras.utils import to_categorical\n",
        "from tensorflow.keras.layers import Input, Dense, Dropout, LayerNormalization, MultiHeadAttention, Add, Flatten\n",
        "from tensorflow.keras.models import Model\n",
        "\n",
        "# Define features and target\n",
        "X = train_df.drop(columns=['Dominant_Emotion', 'User_ID'])\n",
        "y = train_df['Dominant_Emotion']\n",
        "\n",
        "# Encode target labels as integers\n",
        "label_encoder = LabelEncoder()\n",
        "y_encoded = label_encoder.fit_transform(y)\n",
        "\n",
        "# One-hot encode the target labels for neural network\n",
        "y_onehot = to_categorical(y_encoded)\n",
        "\n",
        "# Split into training and test sets\n",
        "X_train, X_test, y_train, y_test = train_test_split(X, y_onehot, test_size=0.2, random_state=42)\n",
        "\n",
        "# Define preprocessing steps for features\n",
        "numeric_features = ['Daily_Usage_Time (minutes)', 'Posts_Per_Day', 'Likes_Received_Per_Day', 'Comments_Received_Per_Day', 'Messages_Sent_Per_Day']\n",
        "categorical_features = ['Age', 'Gender', 'Platform']\n",
        "\n",
        "preprocessor = ColumnTransformer(\n",
        "    transformers=[\n",
        "        ('num', StandardScaler(), numeric_features),\n",
        "        ('cat', OneHotEncoder(), categorical_features)])\n",
        "\n",
        "# Preprocess the features\n",
        "X_train = preprocessor.fit_transform(X_train)\n",
        "X_test = preprocessor.transform(X_test)\n",
        "\n",
        "# Convert sparse matrix to dense if necessary\n",
        "if not isinstance(X_train, np.ndarray):\n",
        "    X_train = X_train.toarray()\n",
        "if not isinstance(X_test, np.ndarray):\n",
        "    X_test = X_test.toarray()\n",
        "\n",
        "# Reshape input to 3D for Transformer\n",
        "X_train = np.expand_dims(X_train, axis=1)\n",
        "X_test = np.expand_dims(X_test, axis=1)\n",
        "\n",
        "# Transformer model\n",
        "def transformer_encoder(inputs, num_heads, key_dim, ff_dim, dropout_rate):\n",
        "    # Multi-head self-attention\n",
        "    attention_output = MultiHeadAttention(num_heads=num_heads, key_dim=key_dim)(inputs, inputs)\n",
        "    attention_output = Dropout(dropout_rate)(attention_output)\n",
        "    attention_output = Add()([attention_output, inputs])\n",
        "    attention_output = LayerNormalization(epsilon=1e-6)(attention_output)\n",
        "\n",
        "    # Feedforward network\n",
        "    ff_output = Dense(ff_dim, activation='relu')(attention_output)\n",
        "    ff_output = Dropout(dropout_rate)(ff_output)\n",
        "    ff_output = Dense(inputs.shape[-1])(ff_output)\n",
        "    ff_output = Add()([ff_output, attention_output])\n",
        "    ff_output = LayerNormalization(epsilon=1e-6)(ff_output)\n",
        "\n",
        "    return ff_output\n",
        "\n",
        "# Define input shape\n",
        "input_shape = X_train.shape[1:]\n",
        "inputs = Input(shape=input_shape)\n",
        "\n",
        "# Add Transformer Encoder layers\n",
        "transformer_output = transformer_encoder(inputs, num_heads=4, key_dim=64, ff_dim=128, dropout_rate=0.1)\n",
        "\n",
        "# Flatten the output and add final dense layers for classification\n",
        "flatten_output = Flatten()(transformer_output)\n",
        "dense_output = Dense(128, activation='relu')(flatten_output)\n",
        "dense_output = Dropout(0.5)(dense_output)\n",
        "dense_output = Dense(64, activation='relu')(dense_output)\n",
        "dense_output = Dropout(0.5)(dense_output)\n",
        "final_output = Dense(y_onehot.shape[1], activation='softmax')(dense_output)\n",
        "\n",
        "# Define and compile the model\n",
        "model = Model(inputs=inputs, outputs=final_output)\n",
        "model.compile(optimizer='adam', loss='categorical_crossentropy', metrics=['accuracy'])\n",
        "\n",
        "# Summary of the model\n",
        "model.summary()\n",
        "\n",
        "# Train the model\n",
        "model.fit(X_train, y_train, epochs=50, batch_size=32, validation_split=0.1)\n"
      ],
      "metadata": {
        "colab": {
          "base_uri": "https://localhost:8080/",
          "height": 1000
        },
        "id": "Upq1aj-aEBYT",
        "outputId": "b6ea52ba-e851-400e-9e64-7f7cf9e6becc"
      },
      "execution_count": null,
      "outputs": [
        {
          "output_type": "display_data",
          "data": {
            "text/plain": [
              "\u001b[1mModel: \"functional_2\"\u001b[0m\n"
            ],
            "text/html": [
              "<pre style=\"white-space:pre;overflow-x:auto;line-height:normal;font-family:Menlo,'DejaVu Sans Mono',consolas,'Courier New',monospace\"><span style=\"font-weight: bold\">Model: \"functional_2\"</span>\n",
              "</pre>\n"
            ]
          },
          "metadata": {}
        },
        {
          "output_type": "display_data",
          "data": {
            "text/plain": [
              "┏━━━━━━━━━━━━━━━━━━━━━━━━━━━┳━━━━━━━━━━━━━━━━━━━━━━━━┳━━━━━━━━━━━━━━━━┳━━━━━━━━━━━━━━━━━━━━━━━━┓\n",
              "┃\u001b[1m \u001b[0m\u001b[1mLayer (type)             \u001b[0m\u001b[1m \u001b[0m┃\u001b[1m \u001b[0m\u001b[1mOutput Shape          \u001b[0m\u001b[1m \u001b[0m┃\u001b[1m \u001b[0m\u001b[1m       Param #\u001b[0m\u001b[1m \u001b[0m┃\u001b[1m \u001b[0m\u001b[1mConnected to          \u001b[0m\u001b[1m \u001b[0m┃\n",
              "┡━━━━━━━━━━━━━━━━━━━━━━━━━━━╇━━━━━━━━━━━━━━━━━━━━━━━━╇━━━━━━━━━━━━━━━━╇━━━━━━━━━━━━━━━━━━━━━━━━┩\n",
              "│ input_layer_2             │ (\u001b[38;5;45mNone\u001b[0m, \u001b[38;5;34m1\u001b[0m, \u001b[38;5;34m30\u001b[0m)          │              \u001b[38;5;34m0\u001b[0m │ -                      │\n",
              "│ (\u001b[38;5;33mInputLayer\u001b[0m)              │                        │                │                        │\n",
              "├───────────────────────────┼────────────────────────┼────────────────┼────────────────────────┤\n",
              "│ multi_head_attention_2    │ (\u001b[38;5;45mNone\u001b[0m, \u001b[38;5;34m1\u001b[0m, \u001b[38;5;34m30\u001b[0m)          │         \u001b[38;5;34m31,518\u001b[0m │ input_layer_2[\u001b[38;5;34m0\u001b[0m][\u001b[38;5;34m0\u001b[0m],   │\n",
              "│ (\u001b[38;5;33mMultiHeadAttention\u001b[0m)      │                        │                │ input_layer_2[\u001b[38;5;34m0\u001b[0m][\u001b[38;5;34m0\u001b[0m]    │\n",
              "├───────────────────────────┼────────────────────────┼────────────────┼────────────────────────┤\n",
              "│ dropout_11 (\u001b[38;5;33mDropout\u001b[0m)      │ (\u001b[38;5;45mNone\u001b[0m, \u001b[38;5;34m1\u001b[0m, \u001b[38;5;34m30\u001b[0m)          │              \u001b[38;5;34m0\u001b[0m │ multi_head_attention_… │\n",
              "├───────────────────────────┼────────────────────────┼────────────────┼────────────────────────┤\n",
              "│ add_4 (\u001b[38;5;33mAdd\u001b[0m)               │ (\u001b[38;5;45mNone\u001b[0m, \u001b[38;5;34m1\u001b[0m, \u001b[38;5;34m30\u001b[0m)          │              \u001b[38;5;34m0\u001b[0m │ dropout_11[\u001b[38;5;34m0\u001b[0m][\u001b[38;5;34m0\u001b[0m],      │\n",
              "│                           │                        │                │ input_layer_2[\u001b[38;5;34m0\u001b[0m][\u001b[38;5;34m0\u001b[0m]    │\n",
              "├───────────────────────────┼────────────────────────┼────────────────┼────────────────────────┤\n",
              "│ layer_normalization_7     │ (\u001b[38;5;45mNone\u001b[0m, \u001b[38;5;34m1\u001b[0m, \u001b[38;5;34m30\u001b[0m)          │             \u001b[38;5;34m60\u001b[0m │ add_4[\u001b[38;5;34m0\u001b[0m][\u001b[38;5;34m0\u001b[0m]            │\n",
              "│ (\u001b[38;5;33mLayerNormalization\u001b[0m)      │                        │                │                        │\n",
              "├───────────────────────────┼────────────────────────┼────────────────┼────────────────────────┤\n",
              "│ dense_13 (\u001b[38;5;33mDense\u001b[0m)          │ (\u001b[38;5;45mNone\u001b[0m, \u001b[38;5;34m1\u001b[0m, \u001b[38;5;34m128\u001b[0m)         │          \u001b[38;5;34m3,968\u001b[0m │ layer_normalization_7… │\n",
              "├───────────────────────────┼────────────────────────┼────────────────┼────────────────────────┤\n",
              "│ dropout_12 (\u001b[38;5;33mDropout\u001b[0m)      │ (\u001b[38;5;45mNone\u001b[0m, \u001b[38;5;34m1\u001b[0m, \u001b[38;5;34m128\u001b[0m)         │              \u001b[38;5;34m0\u001b[0m │ dense_13[\u001b[38;5;34m0\u001b[0m][\u001b[38;5;34m0\u001b[0m]         │\n",
              "├───────────────────────────┼────────────────────────┼────────────────┼────────────────────────┤\n",
              "│ dense_14 (\u001b[38;5;33mDense\u001b[0m)          │ (\u001b[38;5;45mNone\u001b[0m, \u001b[38;5;34m1\u001b[0m, \u001b[38;5;34m30\u001b[0m)          │          \u001b[38;5;34m3,870\u001b[0m │ dropout_12[\u001b[38;5;34m0\u001b[0m][\u001b[38;5;34m0\u001b[0m]       │\n",
              "├───────────────────────────┼────────────────────────┼────────────────┼────────────────────────┤\n",
              "│ add_5 (\u001b[38;5;33mAdd\u001b[0m)               │ (\u001b[38;5;45mNone\u001b[0m, \u001b[38;5;34m1\u001b[0m, \u001b[38;5;34m30\u001b[0m)          │              \u001b[38;5;34m0\u001b[0m │ dense_14[\u001b[38;5;34m0\u001b[0m][\u001b[38;5;34m0\u001b[0m],        │\n",
              "│                           │                        │                │ layer_normalization_7… │\n",
              "├───────────────────────────┼────────────────────────┼────────────────┼────────────────────────┤\n",
              "│ layer_normalization_8     │ (\u001b[38;5;45mNone\u001b[0m, \u001b[38;5;34m1\u001b[0m, \u001b[38;5;34m30\u001b[0m)          │             \u001b[38;5;34m60\u001b[0m │ add_5[\u001b[38;5;34m0\u001b[0m][\u001b[38;5;34m0\u001b[0m]            │\n",
              "│ (\u001b[38;5;33mLayerNormalization\u001b[0m)      │                        │                │                        │\n",
              "├───────────────────────────┼────────────────────────┼────────────────┼────────────────────────┤\n",
              "│ flatten_2 (\u001b[38;5;33mFlatten\u001b[0m)       │ (\u001b[38;5;45mNone\u001b[0m, \u001b[38;5;34m30\u001b[0m)             │              \u001b[38;5;34m0\u001b[0m │ layer_normalization_8… │\n",
              "├───────────────────────────┼────────────────────────┼────────────────┼────────────────────────┤\n",
              "│ dense_15 (\u001b[38;5;33mDense\u001b[0m)          │ (\u001b[38;5;45mNone\u001b[0m, \u001b[38;5;34m128\u001b[0m)            │          \u001b[38;5;34m3,968\u001b[0m │ flatten_2[\u001b[38;5;34m0\u001b[0m][\u001b[38;5;34m0\u001b[0m]        │\n",
              "├───────────────────────────┼────────────────────────┼────────────────┼────────────────────────┤\n",
              "│ dropout_13 (\u001b[38;5;33mDropout\u001b[0m)      │ (\u001b[38;5;45mNone\u001b[0m, \u001b[38;5;34m128\u001b[0m)            │              \u001b[38;5;34m0\u001b[0m │ dense_15[\u001b[38;5;34m0\u001b[0m][\u001b[38;5;34m0\u001b[0m]         │\n",
              "├───────────────────────────┼────────────────────────┼────────────────┼────────────────────────┤\n",
              "│ dense_16 (\u001b[38;5;33mDense\u001b[0m)          │ (\u001b[38;5;45mNone\u001b[0m, \u001b[38;5;34m64\u001b[0m)             │          \u001b[38;5;34m8,256\u001b[0m │ dropout_13[\u001b[38;5;34m0\u001b[0m][\u001b[38;5;34m0\u001b[0m]       │\n",
              "├───────────────────────────┼────────────────────────┼────────────────┼────────────────────────┤\n",
              "│ dropout_14 (\u001b[38;5;33mDropout\u001b[0m)      │ (\u001b[38;5;45mNone\u001b[0m, \u001b[38;5;34m64\u001b[0m)             │              \u001b[38;5;34m0\u001b[0m │ dense_16[\u001b[38;5;34m0\u001b[0m][\u001b[38;5;34m0\u001b[0m]         │\n",
              "├───────────────────────────┼────────────────────────┼────────────────┼────────────────────────┤\n",
              "│ dense_17 (\u001b[38;5;33mDense\u001b[0m)          │ (\u001b[38;5;45mNone\u001b[0m, \u001b[38;5;34m6\u001b[0m)              │            \u001b[38;5;34m390\u001b[0m │ dropout_14[\u001b[38;5;34m0\u001b[0m][\u001b[38;5;34m0\u001b[0m]       │\n",
              "└───────────────────────────┴────────────────────────┴────────────────┴────────────────────────┘\n"
            ],
            "text/html": [
              "<pre style=\"white-space:pre;overflow-x:auto;line-height:normal;font-family:Menlo,'DejaVu Sans Mono',consolas,'Courier New',monospace\">┏━━━━━━━━━━━━━━━━━━━━━━━━━━━┳━━━━━━━━━━━━━━━━━━━━━━━━┳━━━━━━━━━━━━━━━━┳━━━━━━━━━━━━━━━━━━━━━━━━┓\n",
              "┃<span style=\"font-weight: bold\"> Layer (type)              </span>┃<span style=\"font-weight: bold\"> Output Shape           </span>┃<span style=\"font-weight: bold\">        Param # </span>┃<span style=\"font-weight: bold\"> Connected to           </span>┃\n",
              "┡━━━━━━━━━━━━━━━━━━━━━━━━━━━╇━━━━━━━━━━━━━━━━━━━━━━━━╇━━━━━━━━━━━━━━━━╇━━━━━━━━━━━━━━━━━━━━━━━━┩\n",
              "│ input_layer_2             │ (<span style=\"color: #00d7ff; text-decoration-color: #00d7ff\">None</span>, <span style=\"color: #00af00; text-decoration-color: #00af00\">1</span>, <span style=\"color: #00af00; text-decoration-color: #00af00\">30</span>)          │              <span style=\"color: #00af00; text-decoration-color: #00af00\">0</span> │ -                      │\n",
              "│ (<span style=\"color: #0087ff; text-decoration-color: #0087ff\">InputLayer</span>)              │                        │                │                        │\n",
              "├───────────────────────────┼────────────────────────┼────────────────┼────────────────────────┤\n",
              "│ multi_head_attention_2    │ (<span style=\"color: #00d7ff; text-decoration-color: #00d7ff\">None</span>, <span style=\"color: #00af00; text-decoration-color: #00af00\">1</span>, <span style=\"color: #00af00; text-decoration-color: #00af00\">30</span>)          │         <span style=\"color: #00af00; text-decoration-color: #00af00\">31,518</span> │ input_layer_2[<span style=\"color: #00af00; text-decoration-color: #00af00\">0</span>][<span style=\"color: #00af00; text-decoration-color: #00af00\">0</span>],   │\n",
              "│ (<span style=\"color: #0087ff; text-decoration-color: #0087ff\">MultiHeadAttention</span>)      │                        │                │ input_layer_2[<span style=\"color: #00af00; text-decoration-color: #00af00\">0</span>][<span style=\"color: #00af00; text-decoration-color: #00af00\">0</span>]    │\n",
              "├───────────────────────────┼────────────────────────┼────────────────┼────────────────────────┤\n",
              "│ dropout_11 (<span style=\"color: #0087ff; text-decoration-color: #0087ff\">Dropout</span>)      │ (<span style=\"color: #00d7ff; text-decoration-color: #00d7ff\">None</span>, <span style=\"color: #00af00; text-decoration-color: #00af00\">1</span>, <span style=\"color: #00af00; text-decoration-color: #00af00\">30</span>)          │              <span style=\"color: #00af00; text-decoration-color: #00af00\">0</span> │ multi_head_attention_… │\n",
              "├───────────────────────────┼────────────────────────┼────────────────┼────────────────────────┤\n",
              "│ add_4 (<span style=\"color: #0087ff; text-decoration-color: #0087ff\">Add</span>)               │ (<span style=\"color: #00d7ff; text-decoration-color: #00d7ff\">None</span>, <span style=\"color: #00af00; text-decoration-color: #00af00\">1</span>, <span style=\"color: #00af00; text-decoration-color: #00af00\">30</span>)          │              <span style=\"color: #00af00; text-decoration-color: #00af00\">0</span> │ dropout_11[<span style=\"color: #00af00; text-decoration-color: #00af00\">0</span>][<span style=\"color: #00af00; text-decoration-color: #00af00\">0</span>],      │\n",
              "│                           │                        │                │ input_layer_2[<span style=\"color: #00af00; text-decoration-color: #00af00\">0</span>][<span style=\"color: #00af00; text-decoration-color: #00af00\">0</span>]    │\n",
              "├───────────────────────────┼────────────────────────┼────────────────┼────────────────────────┤\n",
              "│ layer_normalization_7     │ (<span style=\"color: #00d7ff; text-decoration-color: #00d7ff\">None</span>, <span style=\"color: #00af00; text-decoration-color: #00af00\">1</span>, <span style=\"color: #00af00; text-decoration-color: #00af00\">30</span>)          │             <span style=\"color: #00af00; text-decoration-color: #00af00\">60</span> │ add_4[<span style=\"color: #00af00; text-decoration-color: #00af00\">0</span>][<span style=\"color: #00af00; text-decoration-color: #00af00\">0</span>]            │\n",
              "│ (<span style=\"color: #0087ff; text-decoration-color: #0087ff\">LayerNormalization</span>)      │                        │                │                        │\n",
              "├───────────────────────────┼────────────────────────┼────────────────┼────────────────────────┤\n",
              "│ dense_13 (<span style=\"color: #0087ff; text-decoration-color: #0087ff\">Dense</span>)          │ (<span style=\"color: #00d7ff; text-decoration-color: #00d7ff\">None</span>, <span style=\"color: #00af00; text-decoration-color: #00af00\">1</span>, <span style=\"color: #00af00; text-decoration-color: #00af00\">128</span>)         │          <span style=\"color: #00af00; text-decoration-color: #00af00\">3,968</span> │ layer_normalization_7… │\n",
              "├───────────────────────────┼────────────────────────┼────────────────┼────────────────────────┤\n",
              "│ dropout_12 (<span style=\"color: #0087ff; text-decoration-color: #0087ff\">Dropout</span>)      │ (<span style=\"color: #00d7ff; text-decoration-color: #00d7ff\">None</span>, <span style=\"color: #00af00; text-decoration-color: #00af00\">1</span>, <span style=\"color: #00af00; text-decoration-color: #00af00\">128</span>)         │              <span style=\"color: #00af00; text-decoration-color: #00af00\">0</span> │ dense_13[<span style=\"color: #00af00; text-decoration-color: #00af00\">0</span>][<span style=\"color: #00af00; text-decoration-color: #00af00\">0</span>]         │\n",
              "├───────────────────────────┼────────────────────────┼────────────────┼────────────────────────┤\n",
              "│ dense_14 (<span style=\"color: #0087ff; text-decoration-color: #0087ff\">Dense</span>)          │ (<span style=\"color: #00d7ff; text-decoration-color: #00d7ff\">None</span>, <span style=\"color: #00af00; text-decoration-color: #00af00\">1</span>, <span style=\"color: #00af00; text-decoration-color: #00af00\">30</span>)          │          <span style=\"color: #00af00; text-decoration-color: #00af00\">3,870</span> │ dropout_12[<span style=\"color: #00af00; text-decoration-color: #00af00\">0</span>][<span style=\"color: #00af00; text-decoration-color: #00af00\">0</span>]       │\n",
              "├───────────────────────────┼────────────────────────┼────────────────┼────────────────────────┤\n",
              "│ add_5 (<span style=\"color: #0087ff; text-decoration-color: #0087ff\">Add</span>)               │ (<span style=\"color: #00d7ff; text-decoration-color: #00d7ff\">None</span>, <span style=\"color: #00af00; text-decoration-color: #00af00\">1</span>, <span style=\"color: #00af00; text-decoration-color: #00af00\">30</span>)          │              <span style=\"color: #00af00; text-decoration-color: #00af00\">0</span> │ dense_14[<span style=\"color: #00af00; text-decoration-color: #00af00\">0</span>][<span style=\"color: #00af00; text-decoration-color: #00af00\">0</span>],        │\n",
              "│                           │                        │                │ layer_normalization_7… │\n",
              "├───────────────────────────┼────────────────────────┼────────────────┼────────────────────────┤\n",
              "│ layer_normalization_8     │ (<span style=\"color: #00d7ff; text-decoration-color: #00d7ff\">None</span>, <span style=\"color: #00af00; text-decoration-color: #00af00\">1</span>, <span style=\"color: #00af00; text-decoration-color: #00af00\">30</span>)          │             <span style=\"color: #00af00; text-decoration-color: #00af00\">60</span> │ add_5[<span style=\"color: #00af00; text-decoration-color: #00af00\">0</span>][<span style=\"color: #00af00; text-decoration-color: #00af00\">0</span>]            │\n",
              "│ (<span style=\"color: #0087ff; text-decoration-color: #0087ff\">LayerNormalization</span>)      │                        │                │                        │\n",
              "├───────────────────────────┼────────────────────────┼────────────────┼────────────────────────┤\n",
              "│ flatten_2 (<span style=\"color: #0087ff; text-decoration-color: #0087ff\">Flatten</span>)       │ (<span style=\"color: #00d7ff; text-decoration-color: #00d7ff\">None</span>, <span style=\"color: #00af00; text-decoration-color: #00af00\">30</span>)             │              <span style=\"color: #00af00; text-decoration-color: #00af00\">0</span> │ layer_normalization_8… │\n",
              "├───────────────────────────┼────────────────────────┼────────────────┼────────────────────────┤\n",
              "│ dense_15 (<span style=\"color: #0087ff; text-decoration-color: #0087ff\">Dense</span>)          │ (<span style=\"color: #00d7ff; text-decoration-color: #00d7ff\">None</span>, <span style=\"color: #00af00; text-decoration-color: #00af00\">128</span>)            │          <span style=\"color: #00af00; text-decoration-color: #00af00\">3,968</span> │ flatten_2[<span style=\"color: #00af00; text-decoration-color: #00af00\">0</span>][<span style=\"color: #00af00; text-decoration-color: #00af00\">0</span>]        │\n",
              "├───────────────────────────┼────────────────────────┼────────────────┼────────────────────────┤\n",
              "│ dropout_13 (<span style=\"color: #0087ff; text-decoration-color: #0087ff\">Dropout</span>)      │ (<span style=\"color: #00d7ff; text-decoration-color: #00d7ff\">None</span>, <span style=\"color: #00af00; text-decoration-color: #00af00\">128</span>)            │              <span style=\"color: #00af00; text-decoration-color: #00af00\">0</span> │ dense_15[<span style=\"color: #00af00; text-decoration-color: #00af00\">0</span>][<span style=\"color: #00af00; text-decoration-color: #00af00\">0</span>]         │\n",
              "├───────────────────────────┼────────────────────────┼────────────────┼────────────────────────┤\n",
              "│ dense_16 (<span style=\"color: #0087ff; text-decoration-color: #0087ff\">Dense</span>)          │ (<span style=\"color: #00d7ff; text-decoration-color: #00d7ff\">None</span>, <span style=\"color: #00af00; text-decoration-color: #00af00\">64</span>)             │          <span style=\"color: #00af00; text-decoration-color: #00af00\">8,256</span> │ dropout_13[<span style=\"color: #00af00; text-decoration-color: #00af00\">0</span>][<span style=\"color: #00af00; text-decoration-color: #00af00\">0</span>]       │\n",
              "├───────────────────────────┼────────────────────────┼────────────────┼────────────────────────┤\n",
              "│ dropout_14 (<span style=\"color: #0087ff; text-decoration-color: #0087ff\">Dropout</span>)      │ (<span style=\"color: #00d7ff; text-decoration-color: #00d7ff\">None</span>, <span style=\"color: #00af00; text-decoration-color: #00af00\">64</span>)             │              <span style=\"color: #00af00; text-decoration-color: #00af00\">0</span> │ dense_16[<span style=\"color: #00af00; text-decoration-color: #00af00\">0</span>][<span style=\"color: #00af00; text-decoration-color: #00af00\">0</span>]         │\n",
              "├───────────────────────────┼────────────────────────┼────────────────┼────────────────────────┤\n",
              "│ dense_17 (<span style=\"color: #0087ff; text-decoration-color: #0087ff\">Dense</span>)          │ (<span style=\"color: #00d7ff; text-decoration-color: #00d7ff\">None</span>, <span style=\"color: #00af00; text-decoration-color: #00af00\">6</span>)              │            <span style=\"color: #00af00; text-decoration-color: #00af00\">390</span> │ dropout_14[<span style=\"color: #00af00; text-decoration-color: #00af00\">0</span>][<span style=\"color: #00af00; text-decoration-color: #00af00\">0</span>]       │\n",
              "└───────────────────────────┴────────────────────────┴────────────────┴────────────────────────┘\n",
              "</pre>\n"
            ]
          },
          "metadata": {}
        },
        {
          "output_type": "display_data",
          "data": {
            "text/plain": [
              "\u001b[1m Total params: \u001b[0m\u001b[38;5;34m52,090\u001b[0m (203.48 KB)\n"
            ],
            "text/html": [
              "<pre style=\"white-space:pre;overflow-x:auto;line-height:normal;font-family:Menlo,'DejaVu Sans Mono',consolas,'Courier New',monospace\"><span style=\"font-weight: bold\"> Total params: </span><span style=\"color: #00af00; text-decoration-color: #00af00\">52,090</span> (203.48 KB)\n",
              "</pre>\n"
            ]
          },
          "metadata": {}
        },
        {
          "output_type": "display_data",
          "data": {
            "text/plain": [
              "\u001b[1m Trainable params: \u001b[0m\u001b[38;5;34m52,090\u001b[0m (203.48 KB)\n"
            ],
            "text/html": [
              "<pre style=\"white-space:pre;overflow-x:auto;line-height:normal;font-family:Menlo,'DejaVu Sans Mono',consolas,'Courier New',monospace\"><span style=\"font-weight: bold\"> Trainable params: </span><span style=\"color: #00af00; text-decoration-color: #00af00\">52,090</span> (203.48 KB)\n",
              "</pre>\n"
            ]
          },
          "metadata": {}
        },
        {
          "output_type": "display_data",
          "data": {
            "text/plain": [
              "\u001b[1m Non-trainable params: \u001b[0m\u001b[38;5;34m0\u001b[0m (0.00 B)\n"
            ],
            "text/html": [
              "<pre style=\"white-space:pre;overflow-x:auto;line-height:normal;font-family:Menlo,'DejaVu Sans Mono',consolas,'Courier New',monospace\"><span style=\"font-weight: bold\"> Non-trainable params: </span><span style=\"color: #00af00; text-decoration-color: #00af00\">0</span> (0.00 B)\n",
              "</pre>\n"
            ]
          },
          "metadata": {}
        },
        {
          "output_type": "stream",
          "name": "stdout",
          "text": [
            "Epoch 1/50\n",
            "\u001b[1m21/21\u001b[0m \u001b[32m━━━━━━━━━━━━━━━━━━━━\u001b[0m\u001b[37m\u001b[0m \u001b[1m9s\u001b[0m 25ms/step - accuracy: 0.2251 - loss: 1.9716 - val_accuracy: 0.4730 - val_loss: 1.4118\n",
            "Epoch 2/50\n",
            "\u001b[1m21/21\u001b[0m \u001b[32m━━━━━━━━━━━━━━━━━━━━\u001b[0m\u001b[37m\u001b[0m \u001b[1m1s\u001b[0m 9ms/step - accuracy: 0.3770 - loss: 1.5310 - val_accuracy: 0.6216 - val_loss: 1.2668\n",
            "Epoch 3/50\n",
            "\u001b[1m21/21\u001b[0m \u001b[32m━━━━━━━━━━━━━━━━━━━━\u001b[0m\u001b[37m\u001b[0m \u001b[1m0s\u001b[0m 9ms/step - accuracy: 0.4145 - loss: 1.4127 - val_accuracy: 0.6622 - val_loss: 1.0880\n",
            "Epoch 4/50\n",
            "\u001b[1m21/21\u001b[0m \u001b[32m━━━━━━━━━━━━━━━━━━━━\u001b[0m\u001b[37m\u001b[0m \u001b[1m0s\u001b[0m 9ms/step - accuracy: 0.4870 - loss: 1.2847 - val_accuracy: 0.7568 - val_loss: 0.9566\n",
            "Epoch 5/50\n",
            "\u001b[1m21/21\u001b[0m \u001b[32m━━━━━━━━━━━━━━━━━━━━\u001b[0m\u001b[37m\u001b[0m \u001b[1m0s\u001b[0m 9ms/step - accuracy: 0.5709 - loss: 1.1696 - val_accuracy: 0.7973 - val_loss: 0.7750\n",
            "Epoch 6/50\n",
            "\u001b[1m21/21\u001b[0m \u001b[32m━━━━━━━━━━━━━━━━━━━━\u001b[0m\u001b[37m\u001b[0m \u001b[1m0s\u001b[0m 9ms/step - accuracy: 0.5964 - loss: 1.0115 - val_accuracy: 0.8514 - val_loss: 0.6641\n",
            "Epoch 7/50\n",
            "\u001b[1m21/21\u001b[0m \u001b[32m━━━━━━━━━━━━━━━━━━━━\u001b[0m\u001b[37m\u001b[0m \u001b[1m0s\u001b[0m 8ms/step - accuracy: 0.7024 - loss: 0.8316 - val_accuracy: 0.8649 - val_loss: 0.5552\n",
            "Epoch 8/50\n",
            "\u001b[1m21/21\u001b[0m \u001b[32m━━━━━━━━━━━━━━━━━━━━\u001b[0m\u001b[37m\u001b[0m \u001b[1m0s\u001b[0m 11ms/step - accuracy: 0.6857 - loss: 0.8589 - val_accuracy: 0.8919 - val_loss: 0.4618\n",
            "Epoch 9/50\n",
            "\u001b[1m21/21\u001b[0m \u001b[32m━━━━━━━━━━━━━━━━━━━━\u001b[0m\u001b[37m\u001b[0m \u001b[1m0s\u001b[0m 10ms/step - accuracy: 0.6948 - loss: 0.7888 - val_accuracy: 0.9324 - val_loss: 0.3813\n",
            "Epoch 10/50\n",
            "\u001b[1m21/21\u001b[0m \u001b[32m━━━━━━━━━━━━━━━━━━━━\u001b[0m\u001b[37m\u001b[0m \u001b[1m0s\u001b[0m 9ms/step - accuracy: 0.7902 - loss: 0.6455 - val_accuracy: 0.9324 - val_loss: 0.3293\n",
            "Epoch 11/50\n",
            "\u001b[1m21/21\u001b[0m \u001b[32m━━━━━━━━━━━━━━━━━━━━\u001b[0m\u001b[37m\u001b[0m \u001b[1m0s\u001b[0m 8ms/step - accuracy: 0.7651 - loss: 0.6297 - val_accuracy: 0.9324 - val_loss: 0.2346\n",
            "Epoch 12/50\n",
            "\u001b[1m21/21\u001b[0m \u001b[32m━━━━━━━━━━━━━━━━━━━━\u001b[0m\u001b[37m\u001b[0m \u001b[1m0s\u001b[0m 10ms/step - accuracy: 0.8204 - loss: 0.5380 - val_accuracy: 0.9459 - val_loss: 0.2128\n",
            "Epoch 13/50\n",
            "\u001b[1m21/21\u001b[0m \u001b[32m━━━━━━━━━━━━━━━━━━━━\u001b[0m\u001b[37m\u001b[0m \u001b[1m0s\u001b[0m 9ms/step - accuracy: 0.8508 - loss: 0.4759 - val_accuracy: 0.9459 - val_loss: 0.1901\n",
            "Epoch 14/50\n",
            "\u001b[1m21/21\u001b[0m \u001b[32m━━━━━━━━━━━━━━━━━━━━\u001b[0m\u001b[37m\u001b[0m \u001b[1m0s\u001b[0m 8ms/step - accuracy: 0.8298 - loss: 0.5066 - val_accuracy: 0.9189 - val_loss: 0.1667\n",
            "Epoch 15/50\n",
            "\u001b[1m21/21\u001b[0m \u001b[32m━━━━━━━━━━━━━━━━━━━━\u001b[0m\u001b[37m\u001b[0m \u001b[1m0s\u001b[0m 9ms/step - accuracy: 0.9018 - loss: 0.3325 - val_accuracy: 0.9459 - val_loss: 0.1380\n",
            "Epoch 16/50\n",
            "\u001b[1m21/21\u001b[0m \u001b[32m━━━━━━━━━━━━━━━━━━━━\u001b[0m\u001b[37m\u001b[0m \u001b[1m0s\u001b[0m 11ms/step - accuracy: 0.8878 - loss: 0.3382 - val_accuracy: 0.9459 - val_loss: 0.0984\n",
            "Epoch 17/50\n",
            "\u001b[1m21/21\u001b[0m \u001b[32m━━━━━━━━━━━━━━━━━━━━\u001b[0m\u001b[37m\u001b[0m \u001b[1m0s\u001b[0m 9ms/step - accuracy: 0.8876 - loss: 0.3268 - val_accuracy: 1.0000 - val_loss: 0.0816\n",
            "Epoch 18/50\n",
            "\u001b[1m21/21\u001b[0m \u001b[32m━━━━━━━━━━━━━━━━━━━━\u001b[0m\u001b[37m\u001b[0m \u001b[1m0s\u001b[0m 10ms/step - accuracy: 0.9236 - loss: 0.2691 - val_accuracy: 1.0000 - val_loss: 0.0538\n",
            "Epoch 19/50\n",
            "\u001b[1m21/21\u001b[0m \u001b[32m━━━━━━━━━━━━━━━━━━━━\u001b[0m\u001b[37m\u001b[0m \u001b[1m0s\u001b[0m 10ms/step - accuracy: 0.9193 - loss: 0.2274 - val_accuracy: 0.9459 - val_loss: 0.1030\n",
            "Epoch 20/50\n",
            "\u001b[1m21/21\u001b[0m \u001b[32m━━━━━━━━━━━━━━━━━━━━\u001b[0m\u001b[37m\u001b[0m \u001b[1m0s\u001b[0m 11ms/step - accuracy: 0.9318 - loss: 0.2018 - val_accuracy: 1.0000 - val_loss: 0.0377\n",
            "Epoch 21/50\n",
            "\u001b[1m21/21\u001b[0m \u001b[32m━━━━━━━━━━━━━━━━━━━━\u001b[0m\u001b[37m\u001b[0m \u001b[1m0s\u001b[0m 9ms/step - accuracy: 0.9326 - loss: 0.1964 - val_accuracy: 0.9730 - val_loss: 0.0496\n",
            "Epoch 22/50\n",
            "\u001b[1m21/21\u001b[0m \u001b[32m━━━━━━━━━━━━━━━━━━━━\u001b[0m\u001b[37m\u001b[0m \u001b[1m0s\u001b[0m 16ms/step - accuracy: 0.9501 - loss: 0.1733 - val_accuracy: 0.9730 - val_loss: 0.0710\n",
            "Epoch 23/50\n",
            "\u001b[1m21/21\u001b[0m \u001b[32m━━━━━━━━━━━━━━━━━━━━\u001b[0m\u001b[37m\u001b[0m \u001b[1m0s\u001b[0m 18ms/step - accuracy: 0.9085 - loss: 0.2836 - val_accuracy: 1.0000 - val_loss: 0.0338\n",
            "Epoch 24/50\n",
            "\u001b[1m21/21\u001b[0m \u001b[32m━━━━━━━━━━━━━━━━━━━━\u001b[0m\u001b[37m\u001b[0m \u001b[1m1s\u001b[0m 16ms/step - accuracy: 0.9356 - loss: 0.2148 - val_accuracy: 1.0000 - val_loss: 0.0166\n",
            "Epoch 25/50\n",
            "\u001b[1m21/21\u001b[0m \u001b[32m━━━━━━━━━━━━━━━━━━━━\u001b[0m\u001b[37m\u001b[0m \u001b[1m1s\u001b[0m 14ms/step - accuracy: 0.9578 - loss: 0.1444 - val_accuracy: 1.0000 - val_loss: 0.0250\n",
            "Epoch 26/50\n",
            "\u001b[1m21/21\u001b[0m \u001b[32m━━━━━━━━━━━━━━━━━━━━\u001b[0m\u001b[37m\u001b[0m \u001b[1m1s\u001b[0m 21ms/step - accuracy: 0.9509 - loss: 0.1493 - val_accuracy: 1.0000 - val_loss: 0.0243\n",
            "Epoch 27/50\n",
            "\u001b[1m21/21\u001b[0m \u001b[32m━━━━━━━━━━━━━━━━━━━━\u001b[0m\u001b[37m\u001b[0m \u001b[1m0s\u001b[0m 11ms/step - accuracy: 0.9662 - loss: 0.1109 - val_accuracy: 1.0000 - val_loss: 0.0184\n",
            "Epoch 28/50\n",
            "\u001b[1m21/21\u001b[0m \u001b[32m━━━━━━━━━━━━━━━━━━━━\u001b[0m\u001b[37m\u001b[0m \u001b[1m0s\u001b[0m 9ms/step - accuracy: 0.9692 - loss: 0.1108 - val_accuracy: 0.9865 - val_loss: 0.0363\n",
            "Epoch 29/50\n",
            "\u001b[1m21/21\u001b[0m \u001b[32m━━━━━━━━━━━━━━━━━━━━\u001b[0m\u001b[37m\u001b[0m \u001b[1m0s\u001b[0m 11ms/step - accuracy: 0.9521 - loss: 0.1621 - val_accuracy: 1.0000 - val_loss: 0.0154\n",
            "Epoch 30/50\n",
            "\u001b[1m21/21\u001b[0m \u001b[32m━━━━━━━━━━━━━━━━━━━━\u001b[0m\u001b[37m\u001b[0m \u001b[1m0s\u001b[0m 10ms/step - accuracy: 0.9618 - loss: 0.1218 - val_accuracy: 0.9730 - val_loss: 0.0258\n",
            "Epoch 31/50\n",
            "\u001b[1m21/21\u001b[0m \u001b[32m━━━━━━━━━━━━━━━━━━━━\u001b[0m\u001b[37m\u001b[0m \u001b[1m0s\u001b[0m 9ms/step - accuracy: 0.9841 - loss: 0.0764 - val_accuracy: 0.9865 - val_loss: 0.0177\n",
            "Epoch 32/50\n",
            "\u001b[1m21/21\u001b[0m \u001b[32m━━━━━━━━━━━━━━━━━━━━\u001b[0m\u001b[37m\u001b[0m \u001b[1m0s\u001b[0m 10ms/step - accuracy: 0.9857 - loss: 0.0878 - val_accuracy: 1.0000 - val_loss: 0.0088\n",
            "Epoch 33/50\n",
            "\u001b[1m21/21\u001b[0m \u001b[32m━━━━━━━━━━━━━━━━━━━━\u001b[0m\u001b[37m\u001b[0m \u001b[1m0s\u001b[0m 10ms/step - accuracy: 0.9719 - loss: 0.0829 - val_accuracy: 1.0000 - val_loss: 0.0174\n",
            "Epoch 34/50\n",
            "\u001b[1m21/21\u001b[0m \u001b[32m━━━━━━━━━━━━━━━━━━━━\u001b[0m\u001b[37m\u001b[0m \u001b[1m0s\u001b[0m 10ms/step - accuracy: 0.9668 - loss: 0.1065 - val_accuracy: 1.0000 - val_loss: 0.0103\n",
            "Epoch 35/50\n",
            "\u001b[1m21/21\u001b[0m \u001b[32m━━━━━━━━━━━━━━━━━━━━\u001b[0m\u001b[37m\u001b[0m \u001b[1m0s\u001b[0m 9ms/step - accuracy: 0.9711 - loss: 0.0760 - val_accuracy: 1.0000 - val_loss: 0.0059\n",
            "Epoch 36/50\n",
            "\u001b[1m21/21\u001b[0m \u001b[32m━━━━━━━━━━━━━━━━━━━━\u001b[0m\u001b[37m\u001b[0m \u001b[1m0s\u001b[0m 9ms/step - accuracy: 0.9777 - loss: 0.0678 - val_accuracy: 0.9730 - val_loss: 0.0257\n",
            "Epoch 37/50\n",
            "\u001b[1m21/21\u001b[0m \u001b[32m━━━━━━━━━━━━━━━━━━━━\u001b[0m\u001b[37m\u001b[0m \u001b[1m0s\u001b[0m 9ms/step - accuracy: 0.9786 - loss: 0.0755 - val_accuracy: 1.0000 - val_loss: 0.0039\n",
            "Epoch 38/50\n",
            "\u001b[1m21/21\u001b[0m \u001b[32m━━━━━━━━━━━━━━━━━━━━\u001b[0m\u001b[37m\u001b[0m \u001b[1m0s\u001b[0m 9ms/step - accuracy: 0.9618 - loss: 0.1325 - val_accuracy: 0.9730 - val_loss: 0.0502\n",
            "Epoch 39/50\n",
            "\u001b[1m21/21\u001b[0m \u001b[32m━━━━━━━━━━━━━━━━━━━━\u001b[0m\u001b[37m\u001b[0m \u001b[1m0s\u001b[0m 9ms/step - accuracy: 0.9861 - loss: 0.0860 - val_accuracy: 1.0000 - val_loss: 0.0056\n",
            "Epoch 40/50\n",
            "\u001b[1m21/21\u001b[0m \u001b[32m━━━━━━━━━━━━━━━━━━━━\u001b[0m\u001b[37m\u001b[0m \u001b[1m0s\u001b[0m 10ms/step - accuracy: 0.9852 - loss: 0.0445 - val_accuracy: 0.9730 - val_loss: 0.0393\n",
            "Epoch 41/50\n",
            "\u001b[1m21/21\u001b[0m \u001b[32m━━━━━━━━━━━━━━━━━━━━\u001b[0m\u001b[37m\u001b[0m \u001b[1m0s\u001b[0m 10ms/step - accuracy: 0.9854 - loss: 0.0735 - val_accuracy: 1.0000 - val_loss: 0.0014\n",
            "Epoch 42/50\n",
            "\u001b[1m21/21\u001b[0m \u001b[32m━━━━━━━━━━━━━━━━━━━━\u001b[0m\u001b[37m\u001b[0m \u001b[1m0s\u001b[0m 10ms/step - accuracy: 0.9765 - loss: 0.0663 - val_accuracy: 1.0000 - val_loss: 0.0017\n",
            "Epoch 43/50\n",
            "\u001b[1m21/21\u001b[0m \u001b[32m━━━━━━━━━━━━━━━━━━━━\u001b[0m\u001b[37m\u001b[0m \u001b[1m0s\u001b[0m 9ms/step - accuracy: 0.9673 - loss: 0.0987 - val_accuracy: 0.9865 - val_loss: 0.0168\n",
            "Epoch 44/50\n",
            "\u001b[1m21/21\u001b[0m \u001b[32m━━━━━━━━━━━━━━━━━━━━\u001b[0m\u001b[37m\u001b[0m \u001b[1m0s\u001b[0m 9ms/step - accuracy: 0.9740 - loss: 0.0814 - val_accuracy: 1.0000 - val_loss: 0.0019\n",
            "Epoch 45/50\n",
            "\u001b[1m21/21\u001b[0m \u001b[32m━━━━━━━━━━━━━━━━━━━━\u001b[0m\u001b[37m\u001b[0m \u001b[1m0s\u001b[0m 11ms/step - accuracy: 0.9876 - loss: 0.0366 - val_accuracy: 1.0000 - val_loss: 0.0012\n",
            "Epoch 46/50\n",
            "\u001b[1m21/21\u001b[0m \u001b[32m━━━━━━━━━━━━━━━━━━━━\u001b[0m\u001b[37m\u001b[0m \u001b[1m0s\u001b[0m 9ms/step - accuracy: 0.9959 - loss: 0.0216 - val_accuracy: 1.0000 - val_loss: 0.0012\n",
            "Epoch 47/50\n",
            "\u001b[1m21/21\u001b[0m \u001b[32m━━━━━━━━━━━━━━━━━━━━\u001b[0m\u001b[37m\u001b[0m \u001b[1m0s\u001b[0m 11ms/step - accuracy: 0.9890 - loss: 0.0357 - val_accuracy: 1.0000 - val_loss: 9.2099e-04\n",
            "Epoch 48/50\n",
            "\u001b[1m21/21\u001b[0m \u001b[32m━━━━━━━━━━━━━━━━━━━━\u001b[0m\u001b[37m\u001b[0m \u001b[1m0s\u001b[0m 10ms/step - accuracy: 0.9868 - loss: 0.0368 - val_accuracy: 0.9730 - val_loss: 0.0322\n",
            "Epoch 49/50\n",
            "\u001b[1m21/21\u001b[0m \u001b[32m━━━━━━━━━━━━━━━━━━━━\u001b[0m\u001b[37m\u001b[0m \u001b[1m0s\u001b[0m 9ms/step - accuracy: 0.9773 - loss: 0.0601 - val_accuracy: 1.0000 - val_loss: 0.0023\n",
            "Epoch 50/50\n",
            "\u001b[1m21/21\u001b[0m \u001b[32m━━━━━━━━━━━━━━━━━━━━\u001b[0m\u001b[37m\u001b[0m \u001b[1m0s\u001b[0m 9ms/step - accuracy: 0.9833 - loss: 0.0655 - val_accuracy: 0.9865 - val_loss: 0.0282\n"
          ]
        },
        {
          "output_type": "execute_result",
          "data": {
            "text/plain": [
              "<keras.src.callbacks.history.History at 0x7a18d00ba1a0>"
            ]
          },
          "metadata": {},
          "execution_count": 69
        }
      ]
    },
    {
      "cell_type": "code",
      "source": [
        "from sklearn.metrics import classification_report\n",
        "import numpy as np\n",
        "\n",
        "# Step 1: Predict on the test set\n",
        "y_pred = model.predict(X_test)\n",
        "\n",
        "# Step 2: Convert predictions and true labels from one-hot encoding to class labels\n",
        "y_pred_classes = np.argmax(y_pred, axis=1)\n",
        "y_test_classes = np.argmax(y_test, axis=1)\n",
        "\n",
        "# Step 3: Generate and print the classification report\n",
        "report = classification_report(y_test_classes, y_pred_classes, target_names=label_encoder.classes_)\n",
        "print(report)\n"
      ],
      "metadata": {
        "colab": {
          "base_uri": "https://localhost:8080/"
        },
        "id": "BkYKzNVIEniK",
        "outputId": "d6ed7d5e-738f-4ec7-bd2d-920d479b7712"
      },
      "execution_count": null,
      "outputs": [
        {
          "output_type": "stream",
          "name": "stdout",
          "text": [
            "\u001b[1m6/6\u001b[0m \u001b[32m━━━━━━━━━━━━━━━━━━━━\u001b[0m\u001b[37m\u001b[0m \u001b[1m1s\u001b[0m 55ms/step\n",
            "              precision    recall  f1-score   support\n",
            "\n",
            "       Anger       1.00      0.79      0.88        29\n",
            "     Anxiety       1.00      1.00      1.00        35\n",
            "     Boredom       1.00      1.00      1.00        18\n",
            "   Happiness       1.00      1.00      1.00        43\n",
            "     Neutral       1.00      1.00      1.00        35\n",
            "     Sadness       0.81      1.00      0.89        25\n",
            "\n",
            "    accuracy                           0.97       185\n",
            "   macro avg       0.97      0.97      0.96       185\n",
            "weighted avg       0.97      0.97      0.97       185\n",
            "\n"
          ]
        }
      ]
    },
    {
      "cell_type": "code",
      "source": [
        "import numpy as np\n",
        "from sklearn.preprocessing import LabelEncoder, StandardScaler, OneHotEncoder\n",
        "from sklearn.compose import ColumnTransformer\n",
        "from sklearn.model_selection import train_test_split\n",
        "from tensorflow.keras.utils import to_categorical\n",
        "\n",
        "# Define features and target\n",
        "X = train_df.drop(columns=['Dominant_Emotion', 'User_ID'])\n",
        "y = train_df['Dominant_Emotion']\n",
        "\n",
        "# Encode target labels as integers\n",
        "label_encoder = LabelEncoder()\n",
        "y_encoded = label_encoder.fit_transform(y)\n",
        "\n",
        "# One-hot encode the target labels for neural network\n",
        "y_onehot = to_categorical(y_encoded)\n",
        "\n",
        "# Split into training and test sets\n",
        "X_train, X_test, y_train, y_test = train_test_split(X, y_onehot, test_size=0.2, random_state=42)\n",
        "\n",
        "# Define preprocessing steps for features\n",
        "numeric_features = ['Daily_Usage_Time (minutes)', 'Posts_Per_Day', 'Likes_Received_Per_Day', 'Comments_Received_Per_Day', 'Messages_Sent_Per_Day']\n",
        "categorical_features = ['Age', 'Gender', 'Platform']\n",
        "\n",
        "preprocessor = ColumnTransformer(\n",
        "    transformers=[\n",
        "        ('num', StandardScaler(), numeric_features),\n",
        "        ('cat', OneHotEncoder(), categorical_features)])\n",
        "\n",
        "# Preprocess the features\n",
        "X_train = preprocessor.fit_transform(X_train)\n",
        "X_test = preprocessor.transform(X_test)\n",
        "\n",
        "# Convert sparse matrix to dense if necessary\n",
        "if not isinstance(X_train, np.ndarray):\n",
        "    X_train = X_train.toarray()\n",
        "if not isinstance(X_test, np.ndarray):\n",
        "    X_test = X_test.toarray()\n",
        "\n",
        "# Reshape input to 3D for BiLSTM\n",
        "X_train = np.expand_dims(X_train, axis=1)\n",
        "X_test = np.expand_dims(X_test, axis=1)\n"
      ],
      "metadata": {
        "id": "V5sIDMgvFFNr"
      },
      "execution_count": null,
      "outputs": []
    },
    {
      "cell_type": "code",
      "source": [
        "from tensorflow.keras.models import Sequential\n",
        "from tensorflow.keras.layers import Dense, Dropout, Bidirectional, LSTM, Flatten\n",
        "\n",
        "# Define the BiLSTM model\n",
        "model = Sequential()\n",
        "model.add(Bidirectional(LSTM(64, return_sequences=True), input_shape=(X_train.shape[1], X_train.shape[2])))\n",
        "model.add(Dropout(0.5))\n",
        "model.add(Bidirectional(LSTM(64)))\n",
        "model.add(Dropout(0.5))\n",
        "model.add(Dense(64, activation='relu'))\n",
        "model.add(Dropout(0.5))\n",
        "model.add(Dense(y_onehot.shape[1], activation='softmax'))\n",
        "\n",
        "# Compile the model\n",
        "model.compile(optimizer='adam', loss='categorical_crossentropy', metrics=['accuracy'])\n",
        "\n",
        "# Train the model\n",
        "model.fit(X_train, y_train, epochs=50, batch_size=32, validation_split=0.1)\n"
      ],
      "metadata": {
        "colab": {
          "base_uri": "https://localhost:8080/"
        },
        "id": "7KokRObPFHR7",
        "outputId": "878f61f9-2b88-413c-a2ec-241637d88c36"
      },
      "execution_count": null,
      "outputs": [
        {
          "output_type": "stream",
          "name": "stdout",
          "text": [
            "Epoch 1/50\n",
            "\u001b[1m21/21\u001b[0m \u001b[32m━━━━━━━━━━━━━━━━━━━━\u001b[0m\u001b[37m\u001b[0m \u001b[1m10s\u001b[0m 48ms/step - accuracy: 0.2413 - loss: 1.7752 - val_accuracy: 0.3919 - val_loss: 1.7013\n",
            "Epoch 2/50\n",
            "\u001b[1m21/21\u001b[0m \u001b[32m━━━━━━━━━━━━━━━━━━━━\u001b[0m\u001b[37m\u001b[0m \u001b[1m0s\u001b[0m 9ms/step - accuracy: 0.3619 - loss: 1.6677 - val_accuracy: 0.4459 - val_loss: 1.5486\n",
            "Epoch 3/50\n",
            "\u001b[1m21/21\u001b[0m \u001b[32m━━━━━━━━━━━━━━━━━━━━\u001b[0m\u001b[37m\u001b[0m \u001b[1m0s\u001b[0m 10ms/step - accuracy: 0.3837 - loss: 1.5255 - val_accuracy: 0.4459 - val_loss: 1.4718\n",
            "Epoch 4/50\n",
            "\u001b[1m21/21\u001b[0m \u001b[32m━━━━━━━━━━━━━━━━━━━━\u001b[0m\u001b[37m\u001b[0m \u001b[1m0s\u001b[0m 10ms/step - accuracy: 0.3626 - loss: 1.4818 - val_accuracy: 0.5000 - val_loss: 1.4282\n",
            "Epoch 5/50\n",
            "\u001b[1m21/21\u001b[0m \u001b[32m━━━━━━━━━━━━━━━━━━━━\u001b[0m\u001b[37m\u001b[0m \u001b[1m0s\u001b[0m 9ms/step - accuracy: 0.4190 - loss: 1.3969 - val_accuracy: 0.5270 - val_loss: 1.3827\n",
            "Epoch 6/50\n",
            "\u001b[1m21/21\u001b[0m \u001b[32m━━━━━━━━━━━━━━━━━━━━\u001b[0m\u001b[37m\u001b[0m \u001b[1m0s\u001b[0m 9ms/step - accuracy: 0.4175 - loss: 1.4245 - val_accuracy: 0.5405 - val_loss: 1.3383\n",
            "Epoch 7/50\n",
            "\u001b[1m21/21\u001b[0m \u001b[32m━━━━━━━━━━━━━━━━━━━━\u001b[0m\u001b[37m\u001b[0m \u001b[1m0s\u001b[0m 10ms/step - accuracy: 0.4541 - loss: 1.3754 - val_accuracy: 0.6216 - val_loss: 1.2647\n",
            "Epoch 8/50\n",
            "\u001b[1m21/21\u001b[0m \u001b[32m━━━━━━━━━━━━━━━━━━━━\u001b[0m\u001b[37m\u001b[0m \u001b[1m0s\u001b[0m 10ms/step - accuracy: 0.5214 - loss: 1.2887 - val_accuracy: 0.6622 - val_loss: 1.1592\n",
            "Epoch 9/50\n",
            "\u001b[1m21/21\u001b[0m \u001b[32m━━━━━━━━━━━━━━━━━━━━\u001b[0m\u001b[37m\u001b[0m \u001b[1m0s\u001b[0m 10ms/step - accuracy: 0.4919 - loss: 1.3050 - val_accuracy: 0.6622 - val_loss: 1.0754\n",
            "Epoch 10/50\n",
            "\u001b[1m21/21\u001b[0m \u001b[32m━━━━━━━━━━━━━━━━━━━━\u001b[0m\u001b[37m\u001b[0m \u001b[1m0s\u001b[0m 9ms/step - accuracy: 0.5145 - loss: 1.2389 - val_accuracy: 0.7297 - val_loss: 0.9808\n",
            "Epoch 11/50\n",
            "\u001b[1m21/21\u001b[0m \u001b[32m━━━━━━━━━━━━━━━━━━━━\u001b[0m\u001b[37m\u001b[0m \u001b[1m0s\u001b[0m 11ms/step - accuracy: 0.5585 - loss: 1.0857 - val_accuracy: 0.6757 - val_loss: 0.9148\n",
            "Epoch 12/50\n",
            "\u001b[1m21/21\u001b[0m \u001b[32m━━━━━━━━━━━━━━━━━━━━\u001b[0m\u001b[37m\u001b[0m \u001b[1m0s\u001b[0m 8ms/step - accuracy: 0.6273 - loss: 1.0344 - val_accuracy: 0.7162 - val_loss: 0.8443\n",
            "Epoch 13/50\n",
            "\u001b[1m21/21\u001b[0m \u001b[32m━━━━━━━━━━━━━━━━━━━━\u001b[0m\u001b[37m\u001b[0m \u001b[1m0s\u001b[0m 9ms/step - accuracy: 0.6386 - loss: 1.0232 - val_accuracy: 0.7027 - val_loss: 0.7942\n",
            "Epoch 14/50\n",
            "\u001b[1m21/21\u001b[0m \u001b[32m━━━━━━━━━━━━━━━━━━━━\u001b[0m\u001b[37m\u001b[0m \u001b[1m0s\u001b[0m 10ms/step - accuracy: 0.6420 - loss: 0.9435 - val_accuracy: 0.7027 - val_loss: 0.7395\n",
            "Epoch 15/50\n",
            "\u001b[1m21/21\u001b[0m \u001b[32m━━━━━━━━━━━━━━━━━━━━\u001b[0m\u001b[37m\u001b[0m \u001b[1m0s\u001b[0m 9ms/step - accuracy: 0.6268 - loss: 0.9541 - val_accuracy: 0.7432 - val_loss: 0.6958\n",
            "Epoch 16/50\n",
            "\u001b[1m21/21\u001b[0m \u001b[32m━━━━━━━━━━━━━━━━━━━━\u001b[0m\u001b[37m\u001b[0m \u001b[1m0s\u001b[0m 9ms/step - accuracy: 0.6460 - loss: 0.8815 - val_accuracy: 0.7162 - val_loss: 0.6779\n",
            "Epoch 17/50\n",
            "\u001b[1m21/21\u001b[0m \u001b[32m━━━━━━━━━━━━━━━━━━━━\u001b[0m\u001b[37m\u001b[0m \u001b[1m0s\u001b[0m 9ms/step - accuracy: 0.7061 - loss: 0.8275 - val_accuracy: 0.7568 - val_loss: 0.6391\n",
            "Epoch 18/50\n",
            "\u001b[1m21/21\u001b[0m \u001b[32m━━━━━━━━━━━━━━━━━━━━\u001b[0m\u001b[37m\u001b[0m \u001b[1m0s\u001b[0m 11ms/step - accuracy: 0.6835 - loss: 0.7688 - val_accuracy: 0.8108 - val_loss: 0.6151\n",
            "Epoch 19/50\n",
            "\u001b[1m21/21\u001b[0m \u001b[32m━━━━━━━━━━━━━━━━━━━━\u001b[0m\u001b[37m\u001b[0m \u001b[1m0s\u001b[0m 8ms/step - accuracy: 0.7108 - loss: 0.7222 - val_accuracy: 0.7973 - val_loss: 0.5943\n",
            "Epoch 20/50\n",
            "\u001b[1m21/21\u001b[0m \u001b[32m━━━━━━━━━━━━━━━━━━━━\u001b[0m\u001b[37m\u001b[0m \u001b[1m0s\u001b[0m 9ms/step - accuracy: 0.7223 - loss: 0.7394 - val_accuracy: 0.8108 - val_loss: 0.5658\n",
            "Epoch 21/50\n",
            "\u001b[1m21/21\u001b[0m \u001b[32m━━━━━━━━━━━━━━━━━━━━\u001b[0m\u001b[37m\u001b[0m \u001b[1m0s\u001b[0m 10ms/step - accuracy: 0.7053 - loss: 0.7170 - val_accuracy: 0.8514 - val_loss: 0.5387\n",
            "Epoch 22/50\n",
            "\u001b[1m21/21\u001b[0m \u001b[32m━━━━━━━━━━━━━━━━━━━━\u001b[0m\u001b[37m\u001b[0m \u001b[1m0s\u001b[0m 9ms/step - accuracy: 0.7484 - loss: 0.6700 - val_accuracy: 0.8243 - val_loss: 0.5101\n",
            "Epoch 23/50\n",
            "\u001b[1m21/21\u001b[0m \u001b[32m━━━━━━━━━━━━━━━━━━━━\u001b[0m\u001b[37m\u001b[0m \u001b[1m0s\u001b[0m 15ms/step - accuracy: 0.7505 - loss: 0.6698 - val_accuracy: 0.8649 - val_loss: 0.4629\n",
            "Epoch 24/50\n",
            "\u001b[1m21/21\u001b[0m \u001b[32m━━━━━━━━━━━━━━━━━━━━\u001b[0m\u001b[37m\u001b[0m \u001b[1m1s\u001b[0m 16ms/step - accuracy: 0.7734 - loss: 0.5940 - val_accuracy: 0.8784 - val_loss: 0.4365\n",
            "Epoch 25/50\n",
            "\u001b[1m21/21\u001b[0m \u001b[32m━━━━━━━━━━━━━━━━━━━━\u001b[0m\u001b[37m\u001b[0m \u001b[1m1s\u001b[0m 16ms/step - accuracy: 0.7871 - loss: 0.5936 - val_accuracy: 0.9054 - val_loss: 0.4086\n",
            "Epoch 26/50\n",
            "\u001b[1m21/21\u001b[0m \u001b[32m━━━━━━━━━━━━━━━━━━━━\u001b[0m\u001b[37m\u001b[0m \u001b[1m1s\u001b[0m 16ms/step - accuracy: 0.8147 - loss: 0.5677 - val_accuracy: 0.9189 - val_loss: 0.3905\n",
            "Epoch 27/50\n",
            "\u001b[1m21/21\u001b[0m \u001b[32m━━━━━━━━━━━━━━━━━━━━\u001b[0m\u001b[37m\u001b[0m \u001b[1m0s\u001b[0m 16ms/step - accuracy: 0.8069 - loss: 0.5031 - val_accuracy: 0.8649 - val_loss: 0.3675\n",
            "Epoch 28/50\n",
            "\u001b[1m21/21\u001b[0m \u001b[32m━━━━━━━━━━━━━━━━━━━━\u001b[0m\u001b[37m\u001b[0m \u001b[1m0s\u001b[0m 16ms/step - accuracy: 0.8255 - loss: 0.5032 - val_accuracy: 0.9189 - val_loss: 0.3467\n",
            "Epoch 29/50\n",
            "\u001b[1m21/21\u001b[0m \u001b[32m━━━━━━━━━━━━━━━━━━━━\u001b[0m\u001b[37m\u001b[0m \u001b[1m0s\u001b[0m 9ms/step - accuracy: 0.8392 - loss: 0.5002 - val_accuracy: 0.8919 - val_loss: 0.3216\n",
            "Epoch 30/50\n",
            "\u001b[1m21/21\u001b[0m \u001b[32m━━━━━━━━━━━━━━━━━━━━\u001b[0m\u001b[37m\u001b[0m \u001b[1m0s\u001b[0m 10ms/step - accuracy: 0.8060 - loss: 0.5059 - val_accuracy: 0.9459 - val_loss: 0.3033\n",
            "Epoch 31/50\n",
            "\u001b[1m21/21\u001b[0m \u001b[32m━━━━━━━━━━━━━━━━━━━━\u001b[0m\u001b[37m\u001b[0m \u001b[1m0s\u001b[0m 11ms/step - accuracy: 0.8258 - loss: 0.4851 - val_accuracy: 0.9459 - val_loss: 0.2767\n",
            "Epoch 32/50\n",
            "\u001b[1m21/21\u001b[0m \u001b[32m━━━━━━━━━━━━━━━━━━━━\u001b[0m\u001b[37m\u001b[0m \u001b[1m0s\u001b[0m 9ms/step - accuracy: 0.8649 - loss: 0.4404 - val_accuracy: 0.9459 - val_loss: 0.2531\n",
            "Epoch 33/50\n",
            "\u001b[1m21/21\u001b[0m \u001b[32m━━━━━━━━━━━━━━━━━━━━\u001b[0m\u001b[37m\u001b[0m \u001b[1m0s\u001b[0m 9ms/step - accuracy: 0.8494 - loss: 0.4135 - val_accuracy: 0.9324 - val_loss: 0.2393\n",
            "Epoch 34/50\n",
            "\u001b[1m21/21\u001b[0m \u001b[32m━━━━━━━━━━━━━━━━━━━━\u001b[0m\u001b[37m\u001b[0m \u001b[1m0s\u001b[0m 10ms/step - accuracy: 0.8646 - loss: 0.4036 - val_accuracy: 0.9189 - val_loss: 0.2307\n",
            "Epoch 35/50\n",
            "\u001b[1m21/21\u001b[0m \u001b[32m━━━━━━━━━━━━━━━━━━━━\u001b[0m\u001b[37m\u001b[0m \u001b[1m0s\u001b[0m 10ms/step - accuracy: 0.8617 - loss: 0.3743 - val_accuracy: 0.9324 - val_loss: 0.2056\n",
            "Epoch 36/50\n",
            "\u001b[1m21/21\u001b[0m \u001b[32m━━━━━━━━━━━━━━━━━━━━\u001b[0m\u001b[37m\u001b[0m \u001b[1m0s\u001b[0m 10ms/step - accuracy: 0.8614 - loss: 0.3777 - val_accuracy: 0.9324 - val_loss: 0.1873\n",
            "Epoch 37/50\n",
            "\u001b[1m21/21\u001b[0m \u001b[32m━━━━━━━━━━━━━━━━━━━━\u001b[0m\u001b[37m\u001b[0m \u001b[1m0s\u001b[0m 9ms/step - accuracy: 0.8719 - loss: 0.3489 - val_accuracy: 0.9595 - val_loss: 0.1692\n",
            "Epoch 38/50\n",
            "\u001b[1m21/21\u001b[0m \u001b[32m━━━━━━━━━━━━━━━━━━━━\u001b[0m\u001b[37m\u001b[0m \u001b[1m0s\u001b[0m 10ms/step - accuracy: 0.8522 - loss: 0.3872 - val_accuracy: 0.9459 - val_loss: 0.1757\n",
            "Epoch 39/50\n",
            "\u001b[1m21/21\u001b[0m \u001b[32m━━━━━━━━━━━━━━━━━━━━\u001b[0m\u001b[37m\u001b[0m \u001b[1m0s\u001b[0m 11ms/step - accuracy: 0.8724 - loss: 0.3447 - val_accuracy: 0.9459 - val_loss: 0.1488\n",
            "Epoch 40/50\n",
            "\u001b[1m21/21\u001b[0m \u001b[32m━━━━━━━━━━━━━━━━━━━━\u001b[0m\u001b[37m\u001b[0m \u001b[1m0s\u001b[0m 9ms/step - accuracy: 0.8886 - loss: 0.3161 - val_accuracy: 0.9459 - val_loss: 0.1498\n",
            "Epoch 41/50\n",
            "\u001b[1m21/21\u001b[0m \u001b[32m━━━━━━━━━━━━━━━━━━━━\u001b[0m\u001b[37m\u001b[0m \u001b[1m0s\u001b[0m 10ms/step - accuracy: 0.9056 - loss: 0.2872 - val_accuracy: 0.9595 - val_loss: 0.1478\n",
            "Epoch 42/50\n",
            "\u001b[1m21/21\u001b[0m \u001b[32m━━━━━━━━━━━━━━━━━━━━\u001b[0m\u001b[37m\u001b[0m \u001b[1m0s\u001b[0m 12ms/step - accuracy: 0.9107 - loss: 0.2775 - val_accuracy: 0.9595 - val_loss: 0.1365\n",
            "Epoch 43/50\n",
            "\u001b[1m21/21\u001b[0m \u001b[32m━━━━━━━━━━━━━━━━━━━━\u001b[0m\u001b[37m\u001b[0m \u001b[1m0s\u001b[0m 9ms/step - accuracy: 0.9160 - loss: 0.2359 - val_accuracy: 0.9595 - val_loss: 0.1167\n",
            "Epoch 44/50\n",
            "\u001b[1m21/21\u001b[0m \u001b[32m━━━━━━━━━━━━━━━━━━━━\u001b[0m\u001b[37m\u001b[0m \u001b[1m0s\u001b[0m 10ms/step - accuracy: 0.8859 - loss: 0.3259 - val_accuracy: 0.9730 - val_loss: 0.1306\n",
            "Epoch 45/50\n",
            "\u001b[1m21/21\u001b[0m \u001b[32m━━━━━━━━━━━━━━━━━━━━\u001b[0m\u001b[37m\u001b[0m \u001b[1m0s\u001b[0m 9ms/step - accuracy: 0.9002 - loss: 0.3272 - val_accuracy: 0.9324 - val_loss: 0.1174\n",
            "Epoch 46/50\n",
            "\u001b[1m21/21\u001b[0m \u001b[32m━━━━━━━━━━━━━━━━━━━━\u001b[0m\u001b[37m\u001b[0m \u001b[1m0s\u001b[0m 9ms/step - accuracy: 0.9019 - loss: 0.2534 - val_accuracy: 0.9459 - val_loss: 0.1241\n",
            "Epoch 47/50\n",
            "\u001b[1m21/21\u001b[0m \u001b[32m━━━━━━━━━━━━━━━━━━━━\u001b[0m\u001b[37m\u001b[0m \u001b[1m0s\u001b[0m 9ms/step - accuracy: 0.9217 - loss: 0.2484 - val_accuracy: 0.9595 - val_loss: 0.0993\n",
            "Epoch 48/50\n",
            "\u001b[1m21/21\u001b[0m \u001b[32m━━━━━━━━━━━━━━━━━━━━\u001b[0m\u001b[37m\u001b[0m \u001b[1m0s\u001b[0m 9ms/step - accuracy: 0.9191 - loss: 0.2222 - val_accuracy: 0.9865 - val_loss: 0.0939\n",
            "Epoch 49/50\n",
            "\u001b[1m21/21\u001b[0m \u001b[32m━━━━━━━━━━━━━━━━━━━━\u001b[0m\u001b[37m\u001b[0m \u001b[1m0s\u001b[0m 10ms/step - accuracy: 0.9117 - loss: 0.2507 - val_accuracy: 0.9730 - val_loss: 0.0924\n",
            "Epoch 50/50\n",
            "\u001b[1m21/21\u001b[0m \u001b[32m━━━━━━━━━━━━━━━━━━━━\u001b[0m\u001b[37m\u001b[0m \u001b[1m0s\u001b[0m 10ms/step - accuracy: 0.9470 - loss: 0.1801 - val_accuracy: 1.0000 - val_loss: 0.0825\n"
          ]
        },
        {
          "output_type": "execute_result",
          "data": {
            "text/plain": [
              "<keras.src.callbacks.history.History at 0x7a18c3f3d0c0>"
            ]
          },
          "metadata": {},
          "execution_count": 72
        }
      ]
    },
    {
      "cell_type": "code",
      "source": [
        "from sklearn.metrics import classification_report\n",
        "import numpy as np\n",
        "\n",
        "# Step 1: Predict on the test set\n",
        "y_pred = model.predict(X_test)\n",
        "\n",
        "# Step 2: Convert predictions and true labels from one-hot encoding to class labels\n",
        "y_pred_classes = np.argmax(y_pred, axis=1)\n",
        "y_test_classes = np.argmax(y_test, axis=1)\n",
        "\n",
        "# Step 3: Generate and print the classification report\n",
        "report = classification_report(y_test_classes, y_pred_classes, target_names=label_encoder.classes_)\n",
        "print(report)\n"
      ],
      "metadata": {
        "colab": {
          "base_uri": "https://localhost:8080/"
        },
        "id": "LbZ_jti7FPKH",
        "outputId": "8178bf04-e359-4061-9673-af841bebc6e5"
      },
      "execution_count": null,
      "outputs": [
        {
          "output_type": "stream",
          "name": "stdout",
          "text": [
            "\u001b[1m6/6\u001b[0m \u001b[32m━━━━━━━━━━━━━━━━━━━━\u001b[0m\u001b[37m\u001b[0m \u001b[1m2s\u001b[0m 217ms/step\n",
            "              precision    recall  f1-score   support\n",
            "\n",
            "       Anger       1.00      1.00      1.00        29\n",
            "     Anxiety       1.00      0.97      0.99        35\n",
            "     Boredom       1.00      1.00      1.00        18\n",
            "   Happiness       1.00      1.00      1.00        43\n",
            "     Neutral       1.00      1.00      1.00        35\n",
            "     Sadness       0.96      1.00      0.98        25\n",
            "\n",
            "    accuracy                           0.99       185\n",
            "   macro avg       0.99      1.00      0.99       185\n",
            "weighted avg       0.99      0.99      0.99       185\n",
            "\n"
          ]
        }
      ]
    },
    {
      "cell_type": "code",
      "source": [
        "import numpy as np\n",
        "import pandas as pd\n",
        "\n",
        "# Example data for three new users\n",
        "new_users_data = [\n",
        "    {\n",
        "        'Daily_Usage_Time (minutes)': 120,\n",
        "        'Posts_Per_Day': 3,\n",
        "        'Likes_Received_Per_Day': 50,\n",
        "        'Comments_Received_Per_Day': 15,\n",
        "        'Messages_Sent_Per_Day': 20,\n",
        "        'Age': 25,\n",
        "        'Gender': 'Female',\n",
        "        'Platform': 'Instagram'\n",
        "    },\n",
        "    {\n",
        "        'Daily_Usage_Time (minutes)': 100,\n",
        "        'Posts_Per_Day': 2,\n",
        "        'Likes_Received_Per_Day': 30,\n",
        "        'Comments_Received_Per_Day': 10,\n",
        "        'Messages_Sent_Per_Day': 25,\n",
        "        'Age': 30,\n",
        "        'Gender': 'Male',\n",
        "        'Platform': 'Twitter'\n",
        "    }\n",
        "]\n",
        "\n",
        "# Convert the data to a DataFrame\n",
        "new_users_df = pd.DataFrame(new_users_data)\n",
        "\n",
        "# Apply the same preprocessing steps as before\n",
        "new_users_processed = preprocessor.transform(new_users_df)\n",
        "\n",
        "# Convert to dense array if necessary\n",
        "if not isinstance(new_users_processed, np.ndarray):\n",
        "    new_users_processed = new_users_processed.toarray()\n",
        "\n",
        "# Reshape to match the input shape expected by the model\n",
        "new_users_processed = np.expand_dims(new_users_processed, axis=1)\n",
        "\n",
        "# Predict the emotions\n",
        "predicted_probs = model.predict(new_users_processed)\n",
        "predicted_classes = np.argmax(predicted_probs, axis=1)\n",
        "\n",
        "# Decode the predicted classes back to the original labels\n",
        "predicted_emotions = label_encoder.inverse_transform(predicted_classes)\n",
        "\n",
        "# Print the predicted emotions\n",
        "for i, emotion in enumerate(predicted_emotions):\n",
        "    print(f\"The predicted emotion for user {i + 1} is: {emotion}\")\n"
      ],
      "metadata": {
        "colab": {
          "base_uri": "https://localhost:8080/"
        },
        "id": "VttqTUsEGZgy",
        "outputId": "d6fa8818-c458-4302-a011-38a8560c2c28"
      },
      "execution_count": null,
      "outputs": [
        {
          "output_type": "stream",
          "name": "stdout",
          "text": [
            "\u001b[1m1/1\u001b[0m \u001b[32m━━━━━━━━━━━━━━━━━━━━\u001b[0m\u001b[37m\u001b[0m \u001b[1m0s\u001b[0m 22ms/step\n",
            "The predicted emotion for user 1 is: Happiness\n",
            "The predicted emotion for user 2 is: Anxiety\n"
          ]
        }
      ]
    }
  ]
}